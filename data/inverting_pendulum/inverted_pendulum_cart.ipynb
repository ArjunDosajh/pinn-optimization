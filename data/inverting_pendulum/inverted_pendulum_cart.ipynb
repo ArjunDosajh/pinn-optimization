{
 "cells": [
  {
   "cell_type": "code",
   "execution_count": 70,
   "metadata": {},
   "outputs": [],
   "source": [
    "import deepxde as dde\n",
    "import numpy as np\n",
    "import tensorflow as tf\n",
    "import matplotlib.pyplot as plt"
   ]
  },
  {
   "cell_type": "code",
   "execution_count": 71,
   "metadata": {},
   "outputs": [],
   "source": [
    "# Set random seed\n",
    "seed = 0\n",
    "np.random.seed(seed)\n",
    "tf.random.set_seed(seed)\n",
    "dde.backend.tf.random.set_random_seed(seed)\n",
    "\n",
    "# Set hyperparameters\n",
    "n_output = 3 # postition (x), theta, force on cart (u_norm)\n",
    "\n",
    "num_domain = 1000\n",
    "\n",
    "n_adam = 5000\n",
    "\n",
    "lr = 2e-2 # for Adam\n",
    "loss_weights = [1. for _ in range(8)]\n",
    "\n",
    "# Set physical parameters\n",
    "tmin, tmax = 0.0, 10.0\n",
    "xmin, xmax = -5.0, 5.0\n",
    "target = -1. # cos(theta) should be close to 180 degrees\n",
    "\n",
    "# Define constants\n",
    "M = 0.5 # Mass of the cart\n",
    "m = 0.2 # Mass of the pendulum\n",
    "b = 0.1 # Friction coefficient\n",
    "I = 0.006 # Moment of inertia\n",
    "g = 9.8 # Gravity\n",
    "l = 0.3 # Length of the pendulum\n",
    "u_max = 10  # Maximum force"
   ]
  },
  {
   "cell_type": "code",
   "execution_count": 72,
   "metadata": {},
   "outputs": [],
   "source": [
    "class Custom_BC(dde.icbc.BC):\n",
    "    def __init__(self, geom, func, on_boundary, component=0):\n",
    "        super().__init__(geom, on_boundary, component)\n",
    "        self.func = dde.icbc.boundary_conditions.npfunc_range_autocache(dde.utils.return_tensor(func))\n",
    "        \n",
    "    def error(self, X, inputs, outputs, beg, end, aux_var=None):\n",
    "        # beg and end specify the current batch range\n",
    "        values = self.func(X, beg, end, aux_var)\n",
    "        theta = outputs[:, 0:1]\n",
    "        goal = tf.cos(theta)\n",
    "        return goal[beg:end, self.component:self.component + 1] - values"
   ]
  },
  {
   "cell_type": "code",
   "execution_count": 73,
   "metadata": {},
   "outputs": [],
   "source": [
    "def ode(t, u):\n",
    "    x, theta, force = u[:, 0:1], u[:, 1:2], u[:, 2:3]\n",
    "    x_dot = dde.grad.jacobian(x, t)\n",
    "    theta_dot = dde.grad.jacobian(theta, t)\n",
    "    x_ddot = dde.grad.jacobian(x_dot, t)\n",
    "    theta_ddot = dde.grad.jacobian(theta_dot, t)\n",
    "\n",
    "    denominator = I * (M + m) + M * m * l * l\n",
    "\n",
    "    res1 = x_ddot - (((-(I + m * l * l) * b * x_dot) + (m * m * g * l * l * theta) + ((I + m * l * l) * force)) / denominator)\n",
    "    res2 = theta_ddot - (((-m * b * l * theta_dot) + (m * g * (M + m) * l * theta) +( m * l * force)) / denominator)\n",
    "\n",
    "    return [res1, res2]"
   ]
  },
  {
   "cell_type": "code",
   "execution_count": 74,
   "metadata": {},
   "outputs": [],
   "source": [
    "def initial(_, on_initial):\n",
    "    return on_initial\n",
    "\n",
    "def boundary_left(t, on_boundary):\n",
    "    '''\n",
    "        on_boundary is passed here by deepxde and it serves as an intial filter which tells if a point lies on the boundary or not\n",
    "\n",
    "        np.isclose(t[0], tmin) checks if the point is on the left boundary or not and this is a second filter\n",
    "    '''\n",
    "\n",
    "    return on_boundary * np.isclose(t[0], tmin)\n",
    "\n",
    "def boundary_right(t, on_boundary):\n",
    "    '''\n",
    "        on_boundary is passed here by deepxde and it serves as an intial filter which tells if a point lies on the boundary or not\n",
    "\n",
    "        np.isclose(t[0], tmax) checks if the point is on the right boundary or not and this is a second filter\n",
    "    '''\n",
    "\n",
    "    return on_boundary * np.isclose(t[0], tmax)"
   ]
  },
  {
   "cell_type": "code",
   "execution_count": 75,
   "metadata": {},
   "outputs": [],
   "source": [
    "geom = dde.geometry.TimeDomain(tmin, tmax)\n",
    "\n",
    "# INITIAL CONDITIONS\n",
    "position_initial = dde.icbc.IC(geom, lambda t: np.array([0.]), initial, component=0) # posittion = 0 at time = 0\n",
    "theta_initial = dde.icbc.IC(geom, lambda t: np.array([0.]), initial, component=1) # theta = 0 at time = 0\n",
    "force_initial = dde.icbc.IC(geom, lambda t: np.array([0.]), initial, component=2) # force = 0 at time = 0\n",
    "\n",
    "# NEUMANN CONDITIONS\n",
    "velocity_initial = dde.icbc.NeumannBC(geom, lambda t: np.array([0.]), boundary_left, component=0) # cart velocity = 0 at time = 0\n",
    "angular_velocity_initial = dde.icbc.NeumannBC(geom, lambda t: np.array([0.]), boundary_left, component=1) # angular velocity 1 = 0 at time = 0\n",
    "\n",
    "# CUSTOM BOUNDARY CONDITIONS - GOAL AND POSITION RANGE\n",
    "goal = Custom_BC(geom, lambda t: np.array([target]), boundary_right) # custom ICBC\n",
    "\n",
    "losses = [position_initial, theta_initial, force_initial, velocity_initial, angular_velocity_initial, goal]\n",
    "\n",
    "data = dde.data.PDE(geom, ode, losses, num_domain=num_domain, num_boundary=2)\n",
    "# dataset size here will be 1002 (1000 domain + 2 boundary)"
   ]
  },
  {
   "cell_type": "code",
   "execution_count": 76,
   "metadata": {},
   "outputs": [],
   "source": [
    "net = dde.nn.FNN([1] + [64] * 3 + [n_output], \"tanh\", \"Glorot normal\")"
   ]
  },
  {
   "cell_type": "code",
   "execution_count": 77,
   "metadata": {},
   "outputs": [],
   "source": [
    "resampler = dde.callbacks.PDEPointResampler(period=100)"
   ]
  },
  {
   "cell_type": "code",
   "execution_count": 78,
   "metadata": {},
   "outputs": [
    {
     "name": "stdout",
     "output_type": "stream",
     "text": [
      "Compiling model...\n",
      "Building feed-forward neural network...\n",
      "'build' took 0.051663 s\n",
      "\n"
     ]
    },
    {
     "name": "stdout",
     "output_type": "stream",
     "text": [
      "'compile' took 0.809187 s\n",
      "\n"
     ]
    }
   ],
   "source": [
    "model = dde.Model(data, net)\n",
    "model.compile(\"adam\", lr=lr, loss_weights=loss_weights)"
   ]
  },
  {
   "cell_type": "code",
   "execution_count": 79,
   "metadata": {},
   "outputs": [
    {
     "name": "stdout",
     "output_type": "stream",
     "text": [
      "Training model...\n",
      "\n",
      "Step      Train loss                                                                          Test loss                                                                           Test metric\n",
      "0         [3.69e-01, 3.26e+02, 0.00e+00, 0.00e+00, 0.00e+00, 8.40e-02, 2.88e-02, 3.49e+00]    [3.69e-01, 3.26e+02, 0.00e+00, 0.00e+00, 0.00e+00, 8.40e-02, 2.88e-02, 3.49e+00]    []  \n",
      "100       [1.69e-01, 6.22e-02, 1.68e-02, 3.48e-04, 1.89e-03, 3.63e-02, 3.07e-03, 4.40e-02]    [1.69e-01, 6.22e-02, 1.68e-02, 3.48e-04, 1.89e-03, 3.63e-02, 3.07e-03, 4.40e-02]    []  \n",
      "200       [4.86e-02, 1.08e-02, 1.64e-03, 1.29e-05, 1.97e-03, 4.92e-03, 7.64e-03, 8.35e-03]    [4.86e-02, 1.08e-02, 1.64e-03, 1.29e-05, 1.97e-03, 4.92e-03, 7.64e-03, 8.35e-03]    []  \n",
      "300       [2.59e-02, 7.13e-03, 3.80e-04, 2.34e-07, 7.29e-04, 1.37e-03, 6.69e-03, 3.13e-03]    [2.59e-02, 7.13e-03, 3.80e-04, 2.34e-07, 7.29e-04, 1.37e-03, 6.69e-03, 3.13e-03]    []  \n",
      "400       [1.43e-02, 5.29e-03, 1.33e-04, 7.45e-06, 2.44e-04, 5.69e-04, 5.84e-03, 1.61e-03]    [1.43e-02, 5.29e-03, 1.33e-04, 7.45e-06, 2.44e-04, 5.69e-04, 5.84e-03, 1.61e-03]    []  \n",
      "500       [7.45e-03, 4.01e-03, 5.36e-05, 1.56e-05, 7.80e-05, 2.62e-04, 5.21e-03, 9.08e-04]    [7.45e-03, 4.01e-03, 5.36e-05, 1.56e-05, 7.80e-05, 2.62e-04, 5.21e-03, 9.08e-04]    []  \n",
      "600       [3.83e-03, 3.03e-03, 2.29e-05, 2.01e-05, 1.84e-05, 1.25e-04, 4.64e-03, 5.24e-04]    [3.83e-03, 3.03e-03, 2.29e-05, 2.01e-05, 1.84e-05, 1.25e-04, 4.64e-03, 5.24e-04]    []  \n",
      "700       [2.13e-03, 2.21e-03, 1.07e-05, 2.16e-05, 2.13e-06, 6.39e-05, 4.06e-03, 3.13e-04]    [2.13e-03, 2.21e-03, 1.07e-05, 2.16e-05, 2.13e-06, 6.39e-05, 4.06e-03, 3.13e-04]    []  \n",
      "800       [1.38e-03, 1.54e-03, 5.67e-06, 2.23e-05, 3.07e-08, 3.69e-05, 3.49e-03, 1.99e-04]    [1.38e-03, 1.54e-03, 5.67e-06, 2.23e-05, 3.07e-08, 3.69e-05, 3.49e-03, 1.99e-04]    []  \n",
      "900       [1.03e-03, 1.04e-03, 3.35e-06, 2.35e-05, 1.19e-06, 2.43e-05, 2.92e-03, 1.38e-04]    [1.03e-03, 1.04e-03, 3.35e-06, 2.35e-05, 1.19e-06, 2.43e-05, 2.92e-03, 1.38e-04]    []  \n",
      "1000      [8.37e-04, 7.03e-04, 2.13e-06, 2.56e-05, 2.60e-06, 1.78e-05, 2.40e-03, 1.03e-04]    [8.37e-04, 7.03e-04, 2.13e-06, 2.56e-05, 2.60e-06, 1.78e-05, 2.40e-03, 1.03e-04]    []  \n",
      "1100      [7.13e-04, 4.85e-04, 1.42e-06, 2.85e-05, 3.62e-06, 1.38e-05, 1.93e-03, 8.08e-05]    [7.13e-04, 4.85e-04, 1.42e-06, 2.85e-05, 3.62e-06, 1.38e-05, 1.93e-03, 8.08e-05]    []  \n",
      "1200      [6.20e-04, 3.55e-04, 9.62e-07, 3.19e-05, 4.22e-06, 1.09e-05, 1.53e-03, 6.54e-05]    [6.20e-04, 3.55e-04, 9.62e-07, 3.19e-05, 4.22e-06, 1.09e-05, 1.53e-03, 6.54e-05]    []  \n",
      "1300      [5.44e-04, 2.82e-04, 6.61e-07, 3.55e-05, 4.46e-06, 8.74e-06, 1.20e-03, 5.37e-05]    [5.44e-04, 2.82e-04, 6.61e-07, 3.55e-05, 4.46e-06, 8.74e-06, 1.20e-03, 5.37e-05]    []  \n",
      "1400      [4.78e-04, 2.43e-04, 4.57e-07, 3.87e-05, 4.45e-06, 6.98e-06, 9.44e-04, 4.44e-05]    [4.78e-04, 2.43e-04, 4.57e-07, 3.87e-05, 4.45e-06, 6.98e-06, 9.44e-04, 4.44e-05]    []  \n",
      "1500      [4.20e-04, 2.21e-04, 3.19e-07, 4.15e-05, 4.25e-06, 5.55e-06, 7.40e-04, 3.68e-05]    [4.20e-04, 2.21e-04, 3.19e-07, 4.15e-05, 4.25e-06, 5.55e-06, 7.40e-04, 3.68e-05]    []  \n",
      "1600      [3.67e-04, 2.06e-04, 2.25e-07, 4.35e-05, 3.95e-06, 4.39e-06, 5.82e-04, 3.05e-05]    [3.67e-04, 2.06e-04, 2.25e-07, 4.35e-05, 3.95e-06, 4.39e-06, 5.82e-04, 3.05e-05]    []  \n",
      "1700      [3.20e-04, 1.94e-04, 1.60e-07, 4.49e-05, 3.59e-06, 3.47e-06, 4.59e-04, 2.55e-05]    [3.20e-04, 1.94e-04, 1.60e-07, 4.49e-05, 3.59e-06, 3.47e-06, 4.59e-04, 2.55e-05]    []  \n",
      "1800      [2.79e-04, 1.83e-04, 1.15e-07, 4.55e-05, 3.21e-06, 2.74e-06, 3.64e-04, 2.13e-05]    [2.79e-04, 1.83e-04, 1.15e-07, 4.55e-05, 3.21e-06, 2.74e-06, 3.64e-04, 2.13e-05]    []  \n",
      "1900      [2.43e-04, 1.71e-04, 8.46e-08, 4.56e-05, 2.84e-06, 2.16e-06, 2.91e-04, 1.79e-05]    [2.43e-04, 1.71e-04, 8.46e-08, 4.56e-05, 2.84e-06, 2.16e-06, 2.91e-04, 1.79e-05]    []  \n",
      "2000      [2.13e-04, 1.58e-04, 6.34e-08, 4.52e-05, 2.50e-06, 1.71e-06, 2.33e-04, 1.51e-05]    [2.13e-04, 1.58e-04, 6.34e-08, 4.52e-05, 2.50e-06, 1.71e-06, 2.33e-04, 1.51e-05]    []  \n",
      "2100      [1.88e-04, 1.46e-04, 4.82e-08, 4.44e-05, 2.19e-06, 1.36e-06, 1.87e-04, 1.28e-05]    [1.88e-04, 1.46e-04, 4.82e-08, 4.44e-05, 2.19e-06, 1.36e-06, 1.87e-04, 1.28e-05]    []  \n",
      "2200      [1.67e-04, 1.35e-04, 3.74e-08, 4.33e-05, 1.92e-06, 1.08e-06, 1.50e-04, 1.10e-05]    [1.67e-04, 1.35e-04, 3.74e-08, 4.33e-05, 1.92e-06, 1.08e-06, 1.50e-04, 1.10e-05]    []  \n",
      "2300      [1.50e-04, 1.24e-04, 2.94e-08, 4.19e-05, 1.69e-06, 8.60e-07, 1.21e-04, 9.40e-06]    [1.50e-04, 1.24e-04, 2.94e-08, 4.19e-05, 1.69e-06, 8.60e-07, 1.21e-04, 9.40e-06]    []  \n",
      "2400      [1.36e-04, 1.13e-04, 2.35e-08, 4.04e-05, 1.48e-06, 6.89e-07, 9.79e-05, 8.12e-06]    [1.36e-04, 1.13e-04, 2.35e-08, 4.04e-05, 1.48e-06, 6.89e-07, 9.79e-05, 8.12e-06]    []  \n",
      "2500      [6.41e-01, 3.38e+01, 1.48e-02, 1.64e-02, 2.23e-02, 8.36e-03, 8.75e-03, 5.62e-04]    [6.41e-01, 3.38e+01, 1.48e-02, 1.64e-02, 2.23e-02, 8.36e-03, 8.75e-03, 5.62e-04]    []  \n",
      "2600      [2.40e-04, 8.18e-04, 1.65e-08, 3.03e-07, 1.07e-07, 1.36e-06, 3.09e-06, 1.85e-05]    [2.40e-04, 8.18e-04, 1.65e-08, 3.03e-07, 1.07e-07, 1.36e-06, 3.09e-06, 1.85e-05]    []  \n",
      "2700      [1.60e-04, 1.52e-04, 9.94e-09, 3.01e-07, 4.85e-08, 5.78e-07, 7.94e-07, 7.02e-06]    [1.60e-04, 1.52e-04, 9.94e-09, 3.01e-07, 4.85e-08, 5.78e-07, 7.94e-07, 7.02e-06]    []  \n",
      "2800      [1.28e-04, 1.22e-04, 2.01e-09, 6.86e-07, 1.00e-07, 3.33e-07, 3.25e-07, 4.06e-06]    [1.28e-04, 1.22e-04, 2.01e-09, 6.86e-07, 1.00e-07, 3.33e-07, 3.25e-07, 4.06e-06]    []  \n",
      "2900      [1.09e-04, 1.05e-04, 5.66e-10, 9.23e-07, 1.11e-07, 2.10e-07, 3.28e-07, 2.71e-06]    [1.09e-04, 1.05e-04, 5.66e-10, 9.23e-07, 1.11e-07, 2.10e-07, 3.28e-07, 2.71e-06]    []  \n",
      "3000      [1.93e-03, 5.17e-02, 8.51e-06, 3.38e-05, 7.84e-05, 8.54e-06, 2.83e-04, 5.43e-05]    [1.93e-03, 5.17e-02, 8.51e-06, 3.38e-05, 7.84e-05, 8.54e-06, 2.83e-04, 5.43e-05]    []  \n",
      "3100      [6.27e-04, 1.74e-04, 4.14e-09, 1.34e-06, 9.91e-07, 1.94e-06, 2.17e-04, 5.62e-06]    [6.27e-04, 1.74e-04, 4.14e-09, 1.34e-06, 9.91e-07, 1.94e-06, 2.17e-04, 5.62e-06]    []  \n",
      "3200      [4.24e-04, 1.19e-04, 7.56e-09, 1.07e-06, 6.15e-07, 8.54e-07, 1.45e-04, 2.56e-06]    [4.24e-04, 1.19e-04, 7.56e-09, 1.07e-06, 6.15e-07, 8.54e-07, 1.45e-04, 2.56e-06]    []  \n",
      "3300      [3.10e-04, 8.76e-05, 6.37e-09, 9.47e-07, 4.14e-07, 4.07e-07, 9.45e-05, 1.19e-06]    [3.10e-04, 8.76e-05, 6.37e-09, 9.47e-07, 4.14e-07, 4.07e-07, 9.45e-05, 1.19e-06]    []  \n",
      "3400      [2.40e-04, 6.80e-05, 5.05e-09, 8.21e-07, 2.90e-07, 2.09e-07, 6.08e-05, 5.51e-07]    [2.40e-04, 6.80e-05, 5.05e-09, 8.21e-07, 2.90e-07, 2.09e-07, 6.08e-05, 5.51e-07]    []  \n",
      "3500      [2.15e-04, 1.33e-03, 2.89e-07, 2.97e-06, 2.22e-07, 1.94e-08, 3.57e-05, 2.63e-07]    [2.15e-04, 1.33e-03, 2.89e-07, 2.97e-06, 2.22e-07, 1.94e-08, 3.57e-05, 2.63e-07]    []  \n",
      "3600      [6.94e-04, 1.82e-03, 1.04e-07, 7.84e-06, 1.46e-06, 6.59e-07, 1.63e-04, 1.93e-06]    [6.94e-04, 1.82e-03, 1.04e-07, 7.84e-06, 1.46e-06, 6.59e-07, 1.63e-04, 1.93e-06]    []  \n",
      "3700      [4.33e-04, 1.32e-04, 5.24e-09, 4.28e-06, 2.20e-06, 3.03e-07, 1.31e-04, 2.79e-07]    [4.33e-04, 1.32e-04, 5.24e-09, 4.28e-06, 2.20e-06, 3.03e-07, 1.31e-04, 2.79e-07]    []  \n",
      "3800      [3.27e-04, 9.25e-05, 5.68e-09, 3.17e-06, 1.88e-06, 2.40e-07, 1.12e-04, 1.14e-07]    [3.27e-04, 9.25e-05, 5.68e-09, 3.17e-06, 1.88e-06, 2.40e-07, 1.12e-04, 1.14e-07]    []  \n",
      "3900      [2.56e-04, 7.47e-05, 4.60e-09, 2.31e-06, 1.34e-06, 1.65e-07, 9.10e-05, 6.41e-08]    [2.56e-04, 7.47e-05, 4.60e-09, 2.31e-06, 1.34e-06, 1.65e-07, 9.10e-05, 6.41e-08]    []  \n",
      "4000      [2.04e-04, 6.45e-05, 3.55e-09, 1.74e-06, 9.39e-07, 1.13e-07, 7.13e-05, 3.95e-08]    [2.04e-04, 6.45e-05, 3.55e-09, 1.74e-06, 9.39e-07, 1.13e-07, 7.13e-05, 3.95e-08]    []  \n",
      "4100      [1.65e-04, 5.75e-05, 2.71e-09, 1.32e-06, 6.68e-07, 7.87e-08, 5.41e-05, 2.55e-08]    [1.65e-04, 5.75e-05, 2.71e-09, 1.32e-06, 6.68e-07, 7.87e-08, 5.41e-05, 2.55e-08]    []  \n",
      "4200      [1.59e-04, 1.40e-03, 1.72e-07, 3.76e-06, 1.38e-07, 3.14e-08, 3.83e-05, 1.73e-08]    [1.59e-04, 1.40e-03, 1.72e-07, 3.76e-06, 1.38e-07, 3.14e-08, 3.83e-05, 1.73e-08]    []  \n",
      "4300      [1.94e-04, 3.41e-04, 2.01e-08, 1.53e-07, 2.20e-06, 1.85e-07, 2.53e-05, 3.27e-08]    [1.94e-04, 3.41e-04, 2.01e-08, 1.53e-07, 2.20e-06, 1.85e-07, 2.53e-05, 3.27e-08]    []  \n",
      "4400      [1.23e-04, 3.48e-05, 7.19e-10, 1.05e-07, 2.27e-07, 1.27e-08, 1.06e-05, 3.20e-08]    [1.23e-04, 3.48e-05, 7.19e-10, 1.05e-07, 2.27e-07, 1.27e-08, 1.06e-05, 3.20e-08]    []  \n",
      "4500      [1.01e-04, 3.02e-05, 2.59e-10, 7.31e-08, 1.46e-07, 1.18e-08, 5.81e-06, 2.61e-08]    [1.01e-04, 3.02e-05, 2.59e-10, 7.31e-08, 1.46e-07, 1.18e-08, 5.81e-06, 2.61e-08]    []  \n",
      "4600      [8.56e-05, 2.63e-05, 1.28e-10, 3.49e-08, 1.17e-07, 1.02e-08, 3.33e-06, 1.98e-08]    [8.56e-05, 2.63e-05, 1.28e-10, 3.49e-08, 1.17e-07, 1.02e-08, 3.33e-06, 1.98e-08]    []  \n",
      "4700      [7.41e-05, 2.29e-05, 5.29e-11, 1.07e-08, 1.04e-07, 9.46e-09, 1.87e-06, 1.25e-08]    [7.41e-05, 2.29e-05, 5.29e-11, 1.07e-08, 1.04e-07, 9.46e-09, 1.87e-06, 1.25e-08]    []  \n",
      "4800      [1.95e-01, 5.67e+00, 5.76e-02, 1.08e-03, 4.85e-02, 6.73e-03, 6.45e-04, 7.19e-03]    [1.95e-01, 5.67e+00, 5.76e-02, 1.08e-03, 4.85e-02, 6.73e-03, 6.45e-04, 7.19e-03]    []  \n",
      "4900      [3.00e-04, 8.32e-04, 2.92e-09, 4.20e-05, 6.57e-06, 1.01e-04, 1.88e-04, 1.36e-05]    [3.00e-04, 8.32e-04, 2.92e-09, 4.20e-05, 6.57e-06, 1.01e-04, 1.88e-04, 1.36e-05]    []  \n",
      "5000      [1.34e-04, 2.55e-04, 1.27e-07, 4.15e-05, 2.49e-07, 5.63e-07, 3.50e-05, 8.12e-06]    [1.34e-04, 2.55e-04, 1.27e-07, 4.15e-05, 2.49e-07, 5.63e-07, 3.50e-05, 8.12e-06]    []  \n",
      "\n",
      "Best model at step 4700:\n",
      "  train loss: 9.90e-05\n",
      "  test loss: 9.90e-05\n",
      "  test metric: []\n",
      "\n",
      "'train' took 53.356007 s\n",
      "\n"
     ]
    }
   ],
   "source": [
    "losshistory, train_state = model.train(display_every=100, iterations=n_adam, callbacks=[resampler])"
   ]
  }
 ],
 "metadata": {
  "kernelspec": {
   "display_name": "ml",
   "language": "python",
   "name": "python3"
  },
  "language_info": {
   "codemirror_mode": {
    "name": "ipython",
    "version": 3
   },
   "file_extension": ".py",
   "mimetype": "text/x-python",
   "name": "python",
   "nbconvert_exporter": "python",
   "pygments_lexer": "ipython3",
   "version": "3.11.7"
  }
 },
 "nbformat": 4,
 "nbformat_minor": 2
}
