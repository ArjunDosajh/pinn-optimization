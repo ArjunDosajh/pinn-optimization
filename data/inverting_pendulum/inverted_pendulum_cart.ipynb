{
 "cells": [
  {
   "cell_type": "code",
   "execution_count": 14,
   "metadata": {},
   "outputs": [],
   "source": [
    "import deepxde as dde\n",
    "import numpy as np\n",
    "import tensorflow as tf\n",
    "import matplotlib.pyplot as plt\n",
    "from deepxde.callbacks import ModelCheckpoint\n",
    "from deepxde.callbacks import Callback\n",
    "from matplotlib.animation import FuncAnimation\n",
    "import matplotlib.animation as animation"
   ]
  },
  {
   "cell_type": "code",
   "execution_count": 15,
   "metadata": {},
   "outputs": [],
   "source": [
    "# Set random seed\n",
    "seed = 0\n",
    "np.random.seed(seed)\n",
    "tf.random.set_seed(seed)\n",
    "dde.backend.tf.random.set_random_seed(seed)\n",
    "\n",
    "# Set hyperparameters\n",
    "n_output = 3 # postition (x), theta, force on cart (u_norm)\n",
    "\n",
    "num_domain = 1000\n",
    "\n",
    "n_adam = 5000\n",
    "\n",
    "lr = 3e-3 # for Adam\n",
    "loss_weights = [2., 2., 1., 1., 1., 1, 1., 20.]\n",
    "\n",
    "# Set physical parameters\n",
    "tmin, tmax = 0.0, 10.0\n",
    "# xmin, xmax = -5.0, 5.0\n",
    "target = np.pi # cos(theta) should be close to 180 degrees\n",
    "\n",
    "# Define constants\n",
    "M = 2 # Mass of the cart\n",
    "m = 1 # Mass of the pendulum\n",
    "b = 0.1 # Friction coefficient\n",
    "I = 0.33 # Moment of inertia\n",
    "g = -9.8 # Gravity\n",
    "l = 1 # Length of the pendulum\n",
    "force_max = 0.5  # Maximum force"
   ]
  },
  {
   "cell_type": "code",
   "execution_count": 16,
   "metadata": {},
   "outputs": [],
   "source": [
    "class Custom_BC(dde.icbc.BC):\n",
    "    def __init__(self, geom, func, on_boundary, component=0):\n",
    "        super().__init__(geom, on_boundary, component)\n",
    "        self.func = dde.icbc.boundary_conditions.npfunc_range_autocache(dde.utils.return_tensor(func))\n",
    "        \n",
    "    def error(self, X, inputs, outputs, beg, end, aux_var=None):\n",
    "        # beg and end specify the current batch range\n",
    "        values = self.func(X, beg, end, aux_var)\n",
    "        theta = outputs[:, 1:2]\n",
    "        goal = theta\n",
    "        return (goal[beg:end, self.component:self.component + 1] - values) ** 2"
   ]
  },
  {
   "cell_type": "code",
   "execution_count": 17,
   "metadata": {},
   "outputs": [],
   "source": [
    "def ode(t, u):\n",
    "    x, theta, force_norm = u[:, 0:1], u[:, 1:2], tf.tanh(u[:, 2:3])\n",
    "    force = force_max * force_norm\n",
    "    x_dot = dde.grad.jacobian(x, t)\n",
    "    theta_dot = dde.grad.jacobian(theta, t)\n",
    "    x_ddot = dde.grad.jacobian(x_dot, t)\n",
    "    theta_ddot = dde.grad.jacobian(theta_dot, t)\n",
    "\n",
    "    denominator = I * (M + m) + M * m * l * l\n",
    "\n",
    "    res1 = x_ddot - (((-(I + m * l * l) * b * x_dot) + (m * m * g * l * l * theta) + ((I + m * l * l) * force)) / denominator)\n",
    "    res2 = theta_ddot - (((-m * b * l * theta_dot) + (m * g * (M + m) * l * theta) +( m * l * force)) / denominator)\n",
    "\n",
    "    return [res1, res2]"
   ]
  },
  {
   "cell_type": "code",
   "execution_count": 18,
   "metadata": {},
   "outputs": [],
   "source": [
    "def initial(_, on_initial):\n",
    "    return on_initial\n",
    "\n",
    "def boundary_left(t, on_boundary):\n",
    "    '''\n",
    "        on_boundary is passed here by deepxde and it serves as an intial filter which tells if a point lies on the boundary or not\n",
    "\n",
    "        np.isclose(t[0], tmin) checks if the point is on the left boundary or not and this is a second filter\n",
    "    '''\n",
    "\n",
    "    return on_boundary * np.isclose(t[0], tmin)\n",
    "\n",
    "def boundary_right(t, on_boundary):\n",
    "    '''\n",
    "        on_boundary is passed here by deepxde and it serves as an intial filter which tells if a point lies on the boundary or not\n",
    "\n",
    "        np.isclose(t[0], tmax) checks if the point is on the right boundary or not and this is a second filter\n",
    "    '''\n",
    "\n",
    "    return on_boundary * np.isclose(t[0], tmax)"
   ]
  },
  {
   "cell_type": "code",
   "execution_count": 19,
   "metadata": {},
   "outputs": [],
   "source": [
    "geom = dde.geometry.TimeDomain(tmin, tmax)\n",
    "\n",
    "# INITIAL CONDITIONS\n",
    "position_initial = dde.icbc.IC(geom, lambda t: np.array([0.]), initial, component=0) # posittion = 0 at time = 0\n",
    "theta_initial = dde.icbc.IC(geom, lambda t: np.array([0.]), initial, component=1) # theta = 0 at time = 0\n",
    "force_initial = dde.icbc.IC(geom, lambda t: np.array([0.]), initial, component=2) # force = 10 at time = 0\n",
    "\n",
    "# NEUMANN CONDITIONS\n",
    "velocity_initial = dde.icbc.NeumannBC(geom, lambda t: np.array([0.]), boundary_left, component=0) # cart velocity = 0 at time = 0\n",
    "angular_velocity_initial = dde.icbc.NeumannBC(geom, lambda t: np.array([0.]), boundary_left, component=1) # angular velocity 1 = 0 at time = 0\n",
    "\n",
    "# CUSTOM BOUNDARY CONDITIONS - GOAL AND POSITION RANGE\n",
    "goal = Custom_BC(geom, lambda t: np.array([target]), boundary_right) # custom ICBC\n",
    "\n",
    "losses = [position_initial, theta_initial, force_initial, velocity_initial, angular_velocity_initial, goal]\n",
    "\n",
    "data = dde.data.PDE(geom, ode, losses, num_domain=num_domain, num_boundary=50)\n",
    "# dataset size here will be 1002 (1000 domain + 2 boundary)"
   ]
  },
  {
   "cell_type": "code",
   "execution_count": 20,
   "metadata": {},
   "outputs": [],
   "source": [
    "net = dde.nn.FNN([1] + [256] * 3 + [n_output], \"tanh\", \"Glorot normal\")"
   ]
  },
  {
   "cell_type": "code",
   "execution_count": 21,
   "metadata": {},
   "outputs": [],
   "source": [
    "resampler = dde.callbacks.PDEPointResampler(period=500)"
   ]
  },
  {
   "cell_type": "code",
   "execution_count": 22,
   "metadata": {},
   "outputs": [
    {
     "name": "stdout",
     "output_type": "stream",
     "text": [
      "Compiling model...\n",
      "Building feed-forward neural network...\n",
      "'build' took 0.042237 s\n",
      "\n"
     ]
    },
    {
     "name": "stdout",
     "output_type": "stream",
     "text": [
      "'compile' took 0.383271 s\n",
      "\n"
     ]
    }
   ],
   "source": [
    "model = dde.Model(data, net)\n",
    "model.compile(\"adam\", lr=lr, loss_weights=loss_weights)"
   ]
  },
  {
   "cell_type": "code",
   "execution_count": 23,
   "metadata": {},
   "outputs": [],
   "source": [
    "model_checkpoint = ModelCheckpoint(\n",
    "    filepath='checkpoints/best_model.ckpt',  # Path to save the model file\n",
    "    monitor='test loss',          # Monitor the validation loss\n",
    "    save_better_only=True          # Only save when the monitored quantity (val_loss) has improved\n",
    ")"
   ]
  },
  {
   "cell_type": "code",
   "execution_count": 24,
   "metadata": {},
   "outputs": [
    {
     "name": "stdout",
     "output_type": "stream",
     "text": [
      "Residual 1 | Residual 2 | Initial Position | Initial Theta | Initial Force | Initial Velocity | Initial Angular Velocity | Goal\n",
      "Training model...\n",
      "\n",
      "Step      Train loss                                                                          Test loss                                                                           Test metric\n",
      "0         [4.98e+00, 4.26e+01, 0.00e+00, 0.00e+00, 0.00e+00, 4.71e-02, 2.34e-02, 4.00e+03]    [4.98e+00, 4.26e+01, 0.00e+00, 0.00e+00, 0.00e+00, 4.71e-02, 2.34e-02, 4.00e+03]    []  \n",
      "INFO:tensorflow:checkpoints/best_model.ckpt-1.ckpt is not in all_model_checkpoint_paths. Manually adding it.\n",
      "50        [1.28e+01, 1.23e+02, 1.57e-03, 6.54e-02, 2.01e-01, 7.34e-03, 1.58e-01, 1.90e+02]    [1.28e+01, 1.23e+02, 1.57e-03, 6.54e-02, 2.01e-01, 7.34e-03, 1.58e-01, 1.90e+02]    []  \n",
      "INFO:tensorflow:checkpoints/best_model.ckpt-50.ckpt is not in all_model_checkpoint_paths. Manually adding it.\n",
      "100       [1.41e+01, 1.41e+02, 2.40e-04, 4.23e-04, 5.45e-02, 9.74e-03, 8.59e-02, 8.15e+01]    [1.41e+01, 1.41e+02, 2.40e-04, 4.23e-04, 5.45e-02, 9.74e-03, 8.59e-02, 8.15e+01]    []  \n",
      "INFO:tensorflow:checkpoints/best_model.ckpt-100.ckpt is not in all_model_checkpoint_paths. Manually adding it.\n",
      "150       [1.23e+01, 1.25e+02, 7.62e-04, 3.48e-02, 1.34e-02, 3.38e-03, 2.31e-02, 6.13e+01]    [1.23e+01, 1.25e+02, 7.62e-04, 3.48e-02, 1.34e-02, 3.38e-03, 2.31e-02, 6.13e+01]    []  \n",
      "INFO:tensorflow:checkpoints/best_model.ckpt-150.ckpt is not in all_model_checkpoint_paths. Manually adding it.\n",
      "200       [1.10e+01, 1.11e+02, 4.43e-04, 1.20e-02, 1.11e-02, 3.32e-05, 9.74e-06, 4.91e+01]    [1.10e+01, 1.11e+02, 4.43e-04, 1.20e-02, 1.11e-02, 3.32e-05, 9.74e-06, 4.91e+01]    []  \n",
      "INFO:tensorflow:checkpoints/best_model.ckpt-200.ckpt is not in all_model_checkpoint_paths. Manually adding it.\n",
      "250       [9.97e+00, 9.96e+01, 2.16e-06, 8.43e-04, 2.40e-02, 6.81e-03, 9.45e-03, 4.05e+01]    [9.97e+00, 9.96e+01, 2.16e-06, 8.43e-04, 2.40e-02, 6.81e-03, 9.45e-03, 4.05e+01]    []  \n",
      "INFO:tensorflow:checkpoints/best_model.ckpt-250.ckpt is not in all_model_checkpoint_paths. Manually adding it.\n",
      "300       [9.00e+00, 8.97e+01, 1.55e-05, 1.70e-02, 1.08e-02, 1.63e-02, 1.59e-02, 3.35e+01]    [9.00e+00, 8.97e+01, 1.55e-05, 1.70e-02, 1.08e-02, 1.63e-02, 1.59e-02, 3.35e+01]    []  \n",
      "INFO:tensorflow:checkpoints/best_model.ckpt-300.ckpt is not in all_model_checkpoint_paths. Manually adding it.\n",
      "350       [7.78e+00, 7.99e+01, 1.11e-04, 2.31e-02, 5.80e-03, 1.62e-02, 4.68e-03, 2.75e+01]    [7.78e+00, 7.99e+01, 1.11e-04, 2.31e-02, 5.80e-03, 1.62e-02, 4.68e-03, 2.75e+01]    []  \n",
      "INFO:tensorflow:checkpoints/best_model.ckpt-350.ckpt is not in all_model_checkpoint_paths. Manually adding it.\n",
      "400       [5.98e+00, 6.97e+01, 1.18e-03, 8.50e-03, 3.64e-03, 7.32e-03, 3.20e-03, 2.37e+01]    [5.98e+00, 6.97e+01, 1.18e-03, 8.50e-03, 3.64e-03, 7.32e-03, 3.20e-03, 2.37e+01]    []  \n",
      "INFO:tensorflow:checkpoints/best_model.ckpt-400.ckpt is not in all_model_checkpoint_paths. Manually adding it.\n",
      "450       [3.41e+00, 5.96e+01, 5.61e-04, 3.76e-04, 1.79e-03, 1.09e-02, 2.99e-02, 2.24e+01]    [3.41e+00, 5.96e+01, 5.61e-04, 3.76e-04, 1.79e-03, 1.09e-02, 2.99e-02, 2.24e+01]    []  \n",
      "INFO:tensorflow:checkpoints/best_model.ckpt-450.ckpt is not in all_model_checkpoint_paths. Manually adding it.\n",
      "500       [1.41e+00, 5.30e+01, 5.19e-07, 5.76e-04, 1.69e-03, 6.57e-03, 6.01e-02, 1.94e+01]    [1.41e+00, 5.30e+01, 5.19e-07, 5.76e-04, 1.69e-03, 6.57e-03, 6.01e-02, 1.94e+01]    []  \n",
      "INFO:tensorflow:checkpoints/best_model.ckpt-500.ckpt is not in all_model_checkpoint_paths. Manually adding it.\n",
      "550       [2.89e-01, 4.32e+01, 6.41e-06, 2.12e-03, 3.95e-04, 2.79e-03, 6.79e-02, 1.92e+01]    [2.97e-01, 4.57e+01, 6.41e-06, 2.12e-03, 3.95e-04, 2.79e-03, 6.79e-02, 1.92e+01]    []  \n",
      "INFO:tensorflow:checkpoints/best_model.ckpt-550.ckpt is not in all_model_checkpoint_paths. Manually adding it.\n",
      "600       [1.54e-01, 4.02e+01, 1.70e-04, 1.39e-03, 9.54e-05, 9.82e-04, 5.17e-02, 1.38e+01]    [1.56e-01, 4.25e+01, 1.70e-04, 1.39e-03, 9.54e-05, 9.82e-04, 5.17e-02, 1.38e+01]    []  \n",
      "INFO:tensorflow:checkpoints/best_model.ckpt-600.ckpt is not in all_model_checkpoint_paths. Manually adding it.\n",
      "650       [2.94e+01, 2.38e+02, 7.81e-01, 5.15e-04, 8.66e-05, 1.79e+00, 4.64e-02, 9.59e+01]    [2.96e+01, 2.40e+02, 7.81e-01, 5.15e-04, 8.66e-05, 1.79e+00, 4.64e-02, 9.59e+01]    []  \n",
      "700       [1.19e+01, 1.22e+02, 4.99e-02, 1.12e-02, 1.54e-02, 1.35e-05, 1.86e-03, 4.21e+01]    [1.21e+01, 1.24e+02, 4.99e-02, 1.12e-02, 1.54e-02, 1.35e-05, 1.86e-03, 4.21e+01]    []  \n",
      "750       [7.56e+00, 8.88e+01, 3.61e-03, 1.40e-04, 7.98e-04, 4.75e-04, 1.17e-01, 3.32e+01]    [7.84e+00, 9.17e+01, 3.61e-03, 1.40e-04, 7.98e-04, 4.75e-04, 1.17e-01, 3.32e+01]    []  \n",
      "800       [4.94e+00, 7.53e+01, 9.88e-04, 1.41e-02, 4.02e-05, 4.98e-05, 3.30e-01, 2.52e+01]    [5.18e+00, 7.83e+01, 9.88e-04, 1.41e-02, 4.02e-05, 4.98e-05, 3.30e-01, 2.52e+01]    []  \n",
      "850       [2.47e+00, 6.63e+01, 2.65e-04, 1.04e-03, 1.34e-04, 2.89e-04, 3.33e-01, 1.97e+01]    [2.62e+00, 6.95e+01, 2.65e-04, 1.04e-03, 1.34e-04, 2.89e-04, 3.33e-01, 1.97e+01]    []  \n",
      "900       [1.00e+00, 5.93e+01, 1.83e-05, 6.01e-03, 4.37e-05, 3.13e-03, 1.55e-01, 1.54e+01]    [1.05e+00, 6.25e+01, 1.83e-05, 6.01e-03, 4.37e-05, 3.13e-03, 1.55e-01, 1.54e+01]    []  \n",
      "950       [6.02e+00, 9.28e+01, 1.14e-02, 1.65e-01, 5.50e-02, 2.25e-01, 4.13e-02, 1.34e+01]    [6.20e+00, 9.62e+01, 1.14e-02, 1.65e-01, 5.50e-02, 2.25e-01, 4.13e-02, 1.34e+01]    []  \n",
      "1000      [7.49e-01, 5.18e+01, 1.40e-03, 4.81e-02, 1.49e-03, 6.92e-03, 2.56e-02, 1.51e+01]    [7.71e-01, 5.48e+01, 1.40e-03, 4.81e-02, 1.49e-03, 6.92e-03, 2.56e-02, 1.51e+01]    []  \n",
      "1050      [2.49e-01, 4.50e+01, 8.77e-04, 3.32e-02, 1.42e-05, 2.59e-03, 1.06e-02, 1.12e+01]    [2.54e-01, 4.77e+01, 8.77e-04, 3.32e-02, 1.42e-05, 2.59e-03, 1.06e-02, 1.12e+01]    []  \n",
      "1100      [1.69e-01, 3.85e+01, 3.44e-04, 2.18e-02, 1.64e-05, 9.10e-04, 1.28e-02, 9.18e+00]    [1.70e-01, 4.08e+01, 3.44e-04, 2.18e-02, 1.64e-05, 9.10e-04, 1.28e-02, 9.18e+00]    []  \n",
      "INFO:tensorflow:checkpoints/best_model.ckpt-1100.ckpt is not in all_model_checkpoint_paths. Manually adding it.\n",
      "1150      [7.29e+00, 6.40e+01, 8.09e-02, 5.94e-02, 8.06e-01, 2.19e-05, 3.50e-03, 8.64e+01]    [7.47e+00, 6.60e+01, 8.09e-02, 5.94e-02, 8.06e-01, 2.19e-05, 3.50e-03, 8.64e+01]    []  \n",
      "1200      [1.05e+00, 5.20e+01, 1.85e-02, 1.33e-02, 3.23e-03, 2.11e-08, 1.57e-01, 1.37e+01]    [1.09e+00, 5.49e+01, 1.85e-02, 1.33e-02, 3.23e-03, 2.11e-08, 1.57e-01, 1.37e+01]    []  \n",
      "1250      [2.84e-01, 4.22e+01, 1.90e-03, 6.91e-03, 3.27e-06, 4.72e-05, 4.14e-02, 1.08e+01]    [2.89e-01, 4.48e+01, 1.90e-03, 6.91e-03, 3.27e-06, 4.72e-05, 4.14e-02, 1.08e+01]    []  \n",
      "1300      [1.78e-01, 3.52e+01, 2.80e-04, 4.12e-03, 4.20e-06, 9.24e-05, 2.38e-02, 8.44e+00]    [1.81e-01, 3.74e+01, 2.80e-04, 4.12e-03, 4.20e-06, 9.24e-05, 2.38e-02, 8.44e+00]    []  \n",
      "INFO:tensorflow:checkpoints/best_model.ckpt-1300.ckpt is not in all_model_checkpoint_paths. Manually adding it.\n",
      "1350      [1.62e-01, 2.85e+01, 2.28e-04, 2.51e-03, 9.34e-06, 1.23e-04, 1.92e-02, 6.54e+00]    [1.64e-01, 3.00e+01, 2.28e-04, 2.51e-03, 9.34e-06, 1.23e-04, 1.92e-02, 6.54e+00]    []  \n",
      "INFO:tensorflow:checkpoints/best_model.ckpt-1350.ckpt is not in all_model_checkpoint_paths. Manually adding it.\n",
      "1400      [5.92e+00, 8.02e+01, 1.37e+00, 2.91e-02, 2.63e-03, 5.79e-02, 2.77e-03, 1.16e+01]    [6.16e+00, 8.37e+01, 1.37e+00, 2.91e-02, 2.63e-03, 5.79e-02, 2.77e-03, 1.16e+01]    []  \n",
      "1450      [3.66e-01, 2.88e+01, 1.22e-02, 1.95e-03, 2.35e-04, 1.81e-04, 6.70e-02, 5.37e+00]    [3.78e-01, 3.05e+01, 1.22e-02, 1.95e-03, 2.35e-04, 1.81e-04, 6.70e-02, 5.37e+00]    []  \n",
      "INFO:tensorflow:checkpoints/best_model.ckpt-1450.ckpt is not in all_model_checkpoint_paths. Manually adding it.\n",
      "1500      [1.09e-01, 2.21e+01, 3.39e-05, 4.22e-05, 5.96e-06, 5.04e-04, 3.07e-02, 4.74e+00]    [1.10e-01, 2.31e+01, 3.39e-05, 4.22e-05, 5.96e-06, 5.04e-04, 3.07e-02, 4.74e+00]    []  \n",
      "INFO:tensorflow:checkpoints/best_model.ckpt-1500.ckpt is not in all_model_checkpoint_paths. Manually adding it.\n",
      "1550      [9.99e-02, 1.80e+01, 6.73e-05, 4.35e-06, 1.35e-05, 3.69e-04, 1.96e-02, 3.52e+00]    [1.07e-01, 2.02e+01, 6.73e-05, 4.35e-06, 1.35e-05, 3.69e-04, 1.96e-02, 3.52e+00]    []  \n",
      "INFO:tensorflow:checkpoints/best_model.ckpt-1550.ckpt is not in all_model_checkpoint_paths. Manually adding it.\n",
      "1600      [9.73e-02, 1.64e+01, 5.72e-05, 4.59e-06, 1.26e-05, 3.24e-04, 1.53e-02, 3.05e+00]    [1.04e-01, 1.79e+01, 5.72e-05, 4.59e-06, 1.26e-05, 3.24e-04, 1.53e-02, 3.05e+00]    []  \n",
      "INFO:tensorflow:checkpoints/best_model.ckpt-1600.ckpt is not in all_model_checkpoint_paths. Manually adding it.\n",
      "1650      [9.61e-02, 1.53e+01, 4.45e-05, 8.22e-08, 1.20e-05, 2.41e-04, 1.24e-02, 2.69e+00]    [1.02e-01, 1.65e+01, 4.45e-05, 8.22e-08, 1.20e-05, 2.41e-04, 1.24e-02, 2.69e+00]    []  \n",
      "INFO:tensorflow:checkpoints/best_model.ckpt-1650.ckpt is not in all_model_checkpoint_paths. Manually adding it.\n",
      "1700      [8.98e-02, 1.44e+01, 2.86e-05, 3.65e-06, 1.00e-05, 1.73e-04, 1.04e-02, 2.44e+00]    [9.44e-02, 1.55e+01, 2.86e-05, 3.65e-06, 1.00e-05, 1.73e-04, 1.04e-02, 2.44e+00]    []  \n",
      "INFO:tensorflow:checkpoints/best_model.ckpt-1700.ckpt is not in all_model_checkpoint_paths. Manually adding it.\n",
      "1750      [5.58e-02, 1.37e+01, 1.27e-05, 1.98e-05, 7.86e-06, 1.46e-04, 9.16e-03, 2.23e+00]    [5.91e-02, 1.46e+01, 1.27e-05, 1.98e-05, 7.86e-06, 1.46e-04, 9.16e-03, 2.23e+00]    []  \n",
      "INFO:tensorflow:checkpoints/best_model.ckpt-1750.ckpt is not in all_model_checkpoint_paths. Manually adding it.\n",
      "1800      [5.37e-02, 1.31e+01, 7.10e-06, 3.47e-05, 6.42e-06, 1.03e-04, 8.16e-03, 2.04e+00]    [5.62e-02, 1.39e+01, 7.10e-06, 3.47e-05, 6.42e-06, 1.03e-04, 8.16e-03, 2.04e+00]    []  \n",
      "INFO:tensorflow:checkpoints/best_model.ckpt-1800.ckpt is not in all_model_checkpoint_paths. Manually adding it.\n",
      "1850      [5.69e-02, 1.27e+01, 3.73e-06, 4.17e-05, 5.29e-06, 7.32e-05, 6.95e-03, 1.89e+00]    [5.89e-02, 1.34e+01, 3.73e-06, 4.17e-05, 5.29e-06, 7.32e-05, 6.95e-03, 1.89e+00]    []  \n",
      "INFO:tensorflow:checkpoints/best_model.ckpt-1850.ckpt is not in all_model_checkpoint_paths. Manually adding it.\n",
      "1900      [5.65e-02, 1.23e+01, 1.68e-06, 4.73e-05, 4.04e-06, 4.99e-05, 5.76e-03, 1.76e+00]    [5.83e-02, 1.29e+01, 1.68e-06, 4.73e-05, 4.04e-06, 4.99e-05, 5.76e-03, 1.76e+00]    []  \n",
      "INFO:tensorflow:checkpoints/best_model.ckpt-1900.ckpt is not in all_model_checkpoint_paths. Manually adding it.\n",
      "1950      [5.02e-02, 1.20e+01, 6.31e-07, 5.46e-05, 2.89e-06, 3.45e-05, 4.71e-03, 1.66e+00]    [5.18e-02, 1.25e+01, 6.31e-07, 5.46e-05, 2.89e-06, 3.45e-05, 4.71e-03, 1.66e+00]    []  \n",
      "INFO:tensorflow:checkpoints/best_model.ckpt-1950.ckpt is not in all_model_checkpoint_paths. Manually adding it.\n",
      "2000      [3.90e-02, 1.17e+01, 1.87e-07, 6.37e-05, 1.96e-06, 2.48e-05, 3.92e-03, 1.58e+00]    [4.03e-02, 1.22e+01, 1.87e-07, 6.37e-05, 1.96e-06, 2.48e-05, 3.92e-03, 1.58e+00]    []  \n",
      "INFO:tensorflow:checkpoints/best_model.ckpt-2000.ckpt is not in all_model_checkpoint_paths. Manually adding it.\n",
      "2050      [2.89e-02, 1.15e+01, 4.86e-08, 7.23e-05, 9.68e-07, 2.63e-05, 3.51e-03, 1.53e+00]    [2.94e-02, 1.18e+01, 4.86e-08, 7.23e-05, 9.68e-07, 2.63e-05, 3.51e-03, 1.53e+00]    []  \n",
      "INFO:tensorflow:checkpoints/best_model.ckpt-2050.ckpt is not in all_model_checkpoint_paths. Manually adding it.\n",
      "2100      [2.32e-02, 1.13e+01, 6.92e-08, 6.72e-05, 7.61e-07, 1.22e-05, 2.99e-03, 1.46e+00]    [2.36e-02, 1.15e+01, 6.92e-08, 6.72e-05, 7.61e-07, 1.22e-05, 2.99e-03, 1.46e+00]    []  \n",
      "INFO:tensorflow:checkpoints/best_model.ckpt-2100.ckpt is not in all_model_checkpoint_paths. Manually adding it.\n",
      "2150      [2.24e-02, 1.11e+01, 2.94e-07, 7.02e-05, 4.04e-07, 6.05e-06, 2.62e-03, 1.40e+00]    [2.26e-02, 1.12e+01, 2.94e-07, 7.02e-05, 4.04e-07, 6.05e-06, 2.62e-03, 1.40e+00]    []  \n",
      "INFO:tensorflow:checkpoints/best_model.ckpt-2150.ckpt is not in all_model_checkpoint_paths. Manually adding it.\n",
      "2200      [2.19e-02, 1.08e+01, 7.23e-07, 7.12e-05, 1.66e-07, 3.00e-06, 2.33e-03, 1.34e+00]    [2.21e-02, 1.10e+01, 7.23e-07, 7.12e-05, 1.66e-07, 3.00e-06, 2.33e-03, 1.34e+00]    []  \n",
      "INFO:tensorflow:checkpoints/best_model.ckpt-2200.ckpt is not in all_model_checkpoint_paths. Manually adding it.\n",
      "2250      [2.09e-02, 1.07e+01, 2.06e-05, 1.02e-04, 9.80e-08, 3.84e-06, 1.50e-03, 1.23e+00]    [2.11e-02, 1.09e+01, 2.06e-05, 1.02e-04, 9.80e-08, 3.84e-06, 1.50e-03, 1.23e+00]    []  \n",
      "INFO:tensorflow:checkpoints/best_model.ckpt-2250.ckpt is not in all_model_checkpoint_paths. Manually adding it.\n",
      "2300      [1.98e-02, 1.05e+01, 2.60e-08, 9.20e-05, 3.46e-08, 5.03e-07, 1.67e-03, 1.25e+00]    [1.99e-02, 1.06e+01, 2.60e-08, 9.20e-05, 3.46e-08, 5.03e-07, 1.67e-03, 1.25e+00]    []  \n",
      "INFO:tensorflow:checkpoints/best_model.ckpt-2300.ckpt is not in all_model_checkpoint_paths. Manually adding it.\n",
      "2350      [1.92e-02, 1.03e+01, 1.83e-06, 8.25e-05, 1.44e-08, 1.28e-07, 1.66e-03, 1.20e+00]    [1.93e-02, 1.04e+01, 1.83e-06, 8.25e-05, 1.44e-08, 1.28e-07, 1.66e-03, 1.20e+00]    []  \n",
      "INFO:tensorflow:checkpoints/best_model.ckpt-2350.ckpt is not in all_model_checkpoint_paths. Manually adding it.\n",
      "2400      [5.49e-02, 1.02e+01, 2.62e-06, 1.12e-04, 1.54e-07, 1.10e-05, 1.11e-03, 1.06e+00]    [5.59e-02, 1.04e+01, 2.62e-06, 1.12e-04, 1.54e-07, 1.10e-05, 1.11e-03, 1.06e+00]    []  \n",
      "INFO:tensorflow:checkpoints/best_model.ckpt-2400.ckpt is not in all_model_checkpoint_paths. Manually adding it.\n",
      "2450      [1.91e-02, 9.94e+00, 2.04e-07, 9.92e-05, 3.58e-08, 4.23e-07, 1.02e-03, 1.14e+00]    [1.91e-02, 1.00e+01, 2.04e-07, 9.92e-05, 3.58e-08, 4.23e-07, 1.02e-03, 1.14e+00]    []  \n",
      "INFO:tensorflow:checkpoints/best_model.ckpt-2450.ckpt is not in all_model_checkpoint_paths. Manually adding it.\n",
      "2500      [1.74e-02, 9.79e+00, 1.87e-06, 9.17e-05, 1.45e-07, 1.09e-07, 9.84e-04, 1.09e+00]    [1.74e-02, 9.90e+00, 1.87e-06, 9.17e-05, 1.45e-07, 1.09e-07, 9.84e-04, 1.09e+00]    []  \n",
      "INFO:tensorflow:checkpoints/best_model.ckpt-2500.ckpt is not in all_model_checkpoint_paths. Manually adding it.\n",
      "2550      [2.83e-02, 9.76e+00, 6.42e-07, 9.86e-05, 2.05e-07, 5.95e-08, 6.57e-04, 1.00e+00]    [2.85e-02, 9.78e+00, 6.42e-07, 9.86e-05, 2.05e-07, 5.95e-08, 6.57e-04, 1.00e+00]    []  \n",
      "INFO:tensorflow:checkpoints/best_model.ckpt-2550.ckpt is not in all_model_checkpoint_paths. Manually adding it.\n",
      "2600      [1.47e-02, 9.50e+00, 2.16e-07, 8.85e-05, 1.26e-08, 2.37e-07, 5.16e-04, 1.04e+00]    [1.47e-02, 9.51e+00, 2.16e-07, 8.85e-05, 1.26e-08, 2.37e-07, 5.16e-04, 1.04e+00]    []  \n",
      "INFO:tensorflow:checkpoints/best_model.ckpt-2600.ckpt is not in all_model_checkpoint_paths. Manually adding it.\n",
      "2650      [1.70e-02, 9.25e+00, 1.05e-05, 9.14e-05, 1.89e-06, 6.76e-06, 1.88e-04, 1.12e+00]    [1.71e-02, 9.26e+00, 1.05e-05, 9.14e-05, 1.89e-06, 6.76e-06, 1.88e-04, 1.12e+00]    []  \n",
      "INFO:tensorflow:checkpoints/best_model.ckpt-2650.ckpt is not in all_model_checkpoint_paths. Manually adding it.\n",
      "2700      [1.28e-02, 9.16e+00, 4.68e-09, 1.21e-04, 6.95e-09, 1.10e-08, 1.67e-04, 9.82e-01]    [1.28e-02, 9.18e+00, 4.68e-09, 1.21e-04, 6.95e-09, 1.10e-08, 1.67e-04, 9.82e-01]    []  \n",
      "INFO:tensorflow:checkpoints/best_model.ckpt-2700.ckpt is not in all_model_checkpoint_paths. Manually adding it.\n",
      "2750      [1.39e-02, 9.00e+00, 5.78e-08, 1.42e-04, 2.81e-08, 2.11e-09, 9.71e-05, 9.47e-01]    [1.40e-02, 9.02e+00, 5.78e-08, 1.42e-04, 2.81e-08, 2.11e-09, 9.71e-05, 9.47e-01]    []  \n",
      "INFO:tensorflow:checkpoints/best_model.ckpt-2750.ckpt is not in all_model_checkpoint_paths. Manually adding it.\n",
      "2800      [3.88e-02, 8.93e+00, 9.74e-07, 2.06e-04, 2.44e-06, 3.25e-06, 2.82e-05, 8.36e-01]    [3.88e-02, 8.95e+00, 9.74e-07, 2.06e-04, 2.44e-06, 3.25e-06, 2.82e-05, 8.36e-01]    []  \n",
      "INFO:tensorflow:checkpoints/best_model.ckpt-2800.ckpt is not in all_model_checkpoint_paths. Manually adding it.\n",
      "2850      [1.88e-02, 8.67e+00, 8.56e-08, 2.28e-04, 3.25e-07, 4.27e-07, 1.19e-05, 8.87e-01]    [1.88e-02, 8.68e+00, 8.56e-08, 2.28e-04, 3.25e-07, 4.27e-07, 1.19e-05, 8.87e-01]    []  \n",
      "INFO:tensorflow:checkpoints/best_model.ckpt-2850.ckpt is not in all_model_checkpoint_paths. Manually adding it.\n",
      "2900      [2.09e-02, 8.48e+00, 1.46e-09, 2.71e-04, 2.88e-07, 9.16e-07, 1.02e-06, 8.62e-01]    [2.09e-02, 8.48e+00, 1.46e-09, 2.71e-04, 2.88e-07, 9.16e-07, 1.02e-06, 8.62e-01]    []  \n",
      "INFO:tensorflow:checkpoints/best_model.ckpt-2900.ckpt is not in all_model_checkpoint_paths. Manually adding it.\n",
      "2950      [2.34e-02, 8.28e+00, 1.15e-08, 3.17e-04, 4.81e-07, 1.81e-06, 3.24e-06, 8.32e-01]    [2.34e-02, 8.29e+00, 1.15e-08, 3.17e-04, 4.81e-07, 1.81e-06, 3.24e-06, 8.32e-01]    []  \n",
      "INFO:tensorflow:checkpoints/best_model.ckpt-2950.ckpt is not in all_model_checkpoint_paths. Manually adding it.\n",
      "3000      [4.36e-02, 8.08e+00, 4.00e-06, 3.72e-04, 3.14e-08, 1.79e-06, 3.83e-05, 8.13e-01]    [4.38e-02, 8.08e+00, 4.00e-06, 3.72e-04, 3.14e-08, 1.79e-06, 3.83e-05, 8.13e-01]    []  \n",
      "INFO:tensorflow:checkpoints/best_model.ckpt-3000.ckpt is not in all_model_checkpoint_paths. Manually adding it.\n",
      "3050      [2.15e-02, 7.91e+00, 2.24e-07, 4.31e-04, 1.41e-06, 5.06e-06, 7.57e-05, 7.67e-01]    [2.15e-02, 7.91e+00, 2.24e-07, 4.31e-04, 1.41e-06, 5.06e-06, 7.57e-05, 7.67e-01]    []  \n",
      "INFO:tensorflow:checkpoints/best_model.ckpt-3050.ckpt is not in all_model_checkpoint_paths. Manually adding it.\n",
      "3100      [2.11e-02, 7.77e+00, 1.64e-07, 4.88e-04, 1.21e-06, 5.33e-06, 1.37e-04, 7.40e-01]    [2.11e-02, 7.77e+00, 1.64e-07, 4.88e-04, 1.21e-06, 5.33e-06, 1.37e-04, 7.40e-01]    []  \n",
      "INFO:tensorflow:checkpoints/best_model.ckpt-3100.ckpt is not in all_model_checkpoint_paths. Manually adding it.\n",
      "3150      [2.09e-02, 7.65e+00, 1.89e-07, 5.38e-04, 1.25e-06, 5.49e-06, 2.20e-04, 7.20e-01]    [2.09e-02, 7.65e+00, 1.89e-07, 5.38e-04, 1.25e-06, 5.49e-06, 2.20e-04, 7.20e-01]    []  \n",
      "INFO:tensorflow:checkpoints/best_model.ckpt-3150.ckpt is not in all_model_checkpoint_paths. Manually adding it.\n",
      "3200      [2.07e-02, 7.54e+00, 2.36e-07, 5.77e-04, 1.47e-06, 5.93e-06, 3.23e-04, 7.05e-01]    [2.07e-02, 7.54e+00, 2.36e-07, 5.77e-04, 1.47e-06, 5.93e-06, 3.23e-04, 7.05e-01]    []  \n",
      "INFO:tensorflow:checkpoints/best_model.ckpt-3200.ckpt is not in all_model_checkpoint_paths. Manually adding it.\n",
      "3250      [2.08e-02, 7.46e+00, 3.16e-07, 6.02e-04, 2.26e-06, 7.20e-06, 4.49e-04, 6.92e-01]    [2.07e-02, 7.46e+00, 3.16e-07, 6.02e-04, 2.26e-06, 7.20e-06, 4.49e-04, 6.92e-01]    []  \n",
      "INFO:tensorflow:checkpoints/best_model.ckpt-3250.ckpt is not in all_model_checkpoint_paths. Manually adding it.\n",
      "3300      [2.12e-02, 7.37e+00, 6.64e-07, 6.18e-04, 9.48e-06, 1.45e-05, 6.16e-04, 6.82e-01]    [2.12e-02, 7.37e+00, 6.64e-07, 6.18e-04, 9.48e-06, 1.45e-05, 6.16e-04, 6.82e-01]    []  \n",
      "INFO:tensorflow:checkpoints/best_model.ckpt-3300.ckpt is not in all_model_checkpoint_paths. Manually adding it.\n",
      "3350      [6.68e-01, 7.16e+00, 5.59e-06, 6.45e-04, 2.60e-04, 1.01e-04, 8.46e-04, 6.54e-01]    [6.68e-01, 7.16e+00, 5.59e-06, 6.45e-04, 2.60e-04, 1.01e-04, 8.46e-04, 6.54e-01]    []  \n",
      "3400      [2.56e-02, 6.97e+00, 2.86e-08, 5.45e-04, 3.00e-06, 1.59e-07, 8.67e-04, 6.50e-01]    [2.56e-02, 6.97e+00, 2.86e-08, 5.45e-04, 3.00e-06, 1.59e-07, 8.67e-04, 6.50e-01]    []  \n",
      "INFO:tensorflow:checkpoints/best_model.ckpt-3400.ckpt is not in all_model_checkpoint_paths. Manually adding it.\n",
      "3450      [2.31e-02, 6.85e+00, 1.85e-07, 4.68e-04, 1.96e-06, 4.04e-06, 9.04e-04, 6.45e-01]    [2.31e-02, 6.85e+00, 1.85e-07, 4.68e-04, 1.96e-06, 4.04e-06, 9.04e-04, 6.45e-01]    []  \n",
      "INFO:tensorflow:checkpoints/best_model.ckpt-3450.ckpt is not in all_model_checkpoint_paths. Manually adding it.\n",
      "3500      [2.29e-02, 6.74e+00, 5.11e-07, 4.02e-04, 2.00e-06, 9.59e-06, 9.02e-04, 6.37e-01]    [2.28e-02, 6.74e+00, 5.11e-07, 4.02e-04, 2.00e-06, 9.59e-06, 9.02e-04, 6.37e-01]    []  \n",
      "INFO:tensorflow:checkpoints/best_model.ckpt-3500.ckpt is not in all_model_checkpoint_paths. Manually adding it.\n",
      "3550      [2.18e-02, 6.62e+00, 7.53e-07, 3.46e-04, 1.96e-06, 1.21e-05, 8.61e-04, 6.29e-01]    [2.18e-02, 6.62e+00, 7.53e-07, 3.46e-04, 1.96e-06, 1.21e-05, 8.61e-04, 6.29e-01]    []  \n",
      "INFO:tensorflow:checkpoints/best_model.ckpt-3550.ckpt is not in all_model_checkpoint_paths. Manually adding it.\n",
      "3600      [2.06e-02, 6.51e+00, 5.59e-07, 2.99e-04, 1.77e-06, 1.20e-05, 7.81e-04, 6.21e-01]    [2.06e-02, 6.51e+00, 5.59e-07, 2.99e-04, 1.77e-06, 1.20e-05, 7.81e-04, 6.21e-01]    []  \n",
      "INFO:tensorflow:checkpoints/best_model.ckpt-3600.ckpt is not in all_model_checkpoint_paths. Manually adding it.\n",
      "3650      [2.01e-02, 6.40e+00, 2.70e-07, 2.60e-04, 1.46e-06, 9.47e-06, 6.74e-04, 6.12e-01]    [2.01e-02, 6.40e+00, 2.70e-07, 2.60e-04, 1.46e-06, 9.47e-06, 6.74e-04, 6.12e-01]    []  \n",
      "INFO:tensorflow:checkpoints/best_model.ckpt-3650.ckpt is not in all_model_checkpoint_paths. Manually adding it.\n",
      "3700      [1.66e-01, 6.32e+00, 1.23e-05, 2.34e-04, 5.05e-07, 1.84e-05, 5.48e-04, 5.85e-01]    [1.66e-01, 6.32e+00, 1.23e-05, 2.34e-04, 5.05e-07, 1.84e-05, 5.48e-04, 5.85e-01]    []  \n",
      "3750      [2.11e-02, 6.19e+00, 9.72e-07, 2.04e-04, 1.39e-06, 6.36e-06, 4.33e-04, 5.93e-01]    [2.11e-02, 6.19e+00, 9.72e-07, 2.04e-04, 1.39e-06, 6.36e-06, 4.33e-04, 5.93e-01]    []  \n",
      "INFO:tensorflow:checkpoints/best_model.ckpt-3750.ckpt is not in all_model_checkpoint_paths. Manually adding it.\n",
      "3800      [2.01e-02, 6.10e+00, 1.31e-10, 1.96e-04, 7.66e-07, 3.77e-06, 3.20e-04, 5.85e-01]    [2.01e-02, 6.10e+00, 1.31e-10, 1.96e-04, 7.66e-07, 3.77e-06, 3.20e-04, 5.85e-01]    []  \n",
      "INFO:tensorflow:checkpoints/best_model.ckpt-3800.ckpt is not in all_model_checkpoint_paths. Manually adding it.\n",
      "3850      [2.35e-02, 6.03e+00, 1.61e-08, 2.01e-04, 5.18e-07, 4.77e-06, 2.78e-04, 5.55e-01]    [2.35e-02, 6.03e+00, 1.61e-08, 2.01e-04, 5.18e-07, 4.77e-06, 2.78e-04, 5.55e-01]    []  \n",
      "INFO:tensorflow:checkpoints/best_model.ckpt-3850.ckpt is not in all_model_checkpoint_paths. Manually adding it.\n",
      "3900      [4.46e-02, 5.93e+00, 2.01e-07, 1.87e-04, 1.41e-06, 5.62e-06, 3.04e-04, 5.60e-01]    [4.46e-02, 5.93e+00, 2.01e-07, 1.87e-04, 1.41e-06, 5.62e-06, 3.04e-04, 5.60e-01]    []  \n",
      "INFO:tensorflow:checkpoints/best_model.ckpt-3900.ckpt is not in all_model_checkpoint_paths. Manually adding it.\n",
      "3950      [2.62e-02, 5.88e+00, 1.28e-07, 1.85e-04, 9.68e-07, 4.87e-06, 3.26e-04, 5.33e-01]    [2.62e-02, 5.88e+00, 1.28e-07, 1.85e-04, 9.68e-07, 4.87e-06, 3.26e-04, 5.33e-01]    []  \n",
      "INFO:tensorflow:checkpoints/best_model.ckpt-3950.ckpt is not in all_model_checkpoint_paths. Manually adding it.\n",
      "4000      [1.90e-02, 5.75e+00, 7.85e-10, 1.59e-04, 4.60e-07, 9.90e-07, 3.59e-04, 5.65e-01]    [1.90e-02, 5.75e+00, 7.85e-10, 1.59e-04, 4.60e-07, 9.90e-07, 3.59e-04, 5.65e-01]    []  \n",
      "INFO:tensorflow:checkpoints/best_model.ckpt-4000.ckpt is not in all_model_checkpoint_paths. Manually adding it.\n",
      "4050      [2.79e-02, 5.71e+00, 6.79e-06, 1.65e-04, 4.38e-07, 8.87e-06, 3.78e-04, 5.24e-01]    [2.79e-02, 5.71e+00, 6.79e-06, 1.65e-04, 4.38e-07, 8.87e-06, 3.78e-04, 5.24e-01]    []  \n",
      "INFO:tensorflow:checkpoints/best_model.ckpt-4050.ckpt is not in all_model_checkpoint_paths. Manually adding it.\n",
      "4100      [1.73e-02, 5.60e+00, 1.70e-07, 1.29e-04, 1.49e-07, 1.14e-05, 4.07e-04, 5.45e-01]    [1.74e-02, 5.60e+00, 1.70e-07, 1.29e-04, 1.49e-07, 1.14e-05, 4.07e-04, 5.45e-01]    []  \n",
      "INFO:tensorflow:checkpoints/best_model.ckpt-4100.ckpt is not in all_model_checkpoint_paths. Manually adding it.\n",
      "4150      [4.60e-02, 5.54e+00, 6.91e-07, 1.27e-04, 1.49e-06, 3.97e-07, 4.22e-04, 5.29e-01]    [4.60e-02, 5.54e+00, 6.91e-07, 1.27e-04, 1.49e-06, 3.97e-07, 4.22e-04, 5.29e-01]    []  \n",
      "INFO:tensorflow:checkpoints/best_model.ckpt-4150.ckpt is not in all_model_checkpoint_paths. Manually adding it.\n",
      "4200      [2.60e-02, 5.49e+00, 1.04e-07, 1.16e-04, 3.80e-07, 1.27e-06, 4.46e-04, 5.05e-01]    [2.60e-02, 5.49e+00, 1.04e-07, 1.16e-04, 3.80e-07, 1.27e-06, 4.46e-04, 5.05e-01]    []  \n",
      "INFO:tensorflow:checkpoints/best_model.ckpt-4200.ckpt is not in all_model_checkpoint_paths. Manually adding it.\n",
      "4250      [7.89e-02, 5.43e+00, 8.04e-07, 1.07e-04, 1.38e-07, 5.68e-07, 4.69e-04, 4.90e-01]    [7.89e-02, 5.43e+00, 8.04e-07, 1.07e-04, 1.38e-07, 5.68e-07, 4.69e-04, 4.90e-01]    []  \n",
      "INFO:tensorflow:checkpoints/best_model.ckpt-4250.ckpt is not in all_model_checkpoint_paths. Manually adding it.\n",
      "4300      [1.96e-02, 5.38e+00, 7.13e-07, 9.47e-05, 1.02e-06, 1.61e-06, 5.00e-04, 4.76e-01]    [1.96e-02, 5.38e+00, 7.13e-07, 9.47e-05, 1.02e-06, 1.61e-06, 5.00e-04, 4.76e-01]    []  \n",
      "INFO:tensorflow:checkpoints/best_model.ckpt-4300.ckpt is not in all_model_checkpoint_paths. Manually adding it.\n",
      "4350      [2.27e-02, 5.28e+00, 4.58e-07, 7.14e-05, 8.44e-07, 6.60e-08, 5.47e-04, 5.23e-01]    [2.27e-02, 5.28e+00, 4.58e-07, 7.14e-05, 8.44e-07, 6.60e-08, 5.47e-04, 5.23e-01]    []  \n",
      "INFO:tensorflow:checkpoints/best_model.ckpt-4350.ckpt is not in all_model_checkpoint_paths. Manually adding it.\n",
      "4400      [2.69e-02, 5.26e+00, 2.51e-06, 7.25e-05, 1.13e-06, 5.63e-06, 5.93e-04, 4.61e-01]    [2.70e-02, 5.26e+00, 2.51e-06, 7.25e-05, 1.13e-06, 5.63e-06, 5.93e-04, 4.61e-01]    []  \n",
      "INFO:tensorflow:checkpoints/best_model.ckpt-4400.ckpt is not in all_model_checkpoint_paths. Manually adding it.\n",
      "4450      [2.59e-02, 5.17e+00, 1.13e-06, 3.91e-05, 1.62e-10, 2.77e-06, 6.52e-04, 4.91e-01]    [2.61e-02, 5.17e+00, 1.13e-06, 3.91e-05, 1.62e-10, 2.77e-06, 6.52e-04, 4.91e-01]    []  \n",
      "INFO:tensorflow:checkpoints/best_model.ckpt-4450.ckpt is not in all_model_checkpoint_paths. Manually adding it.\n",
      "4500      [5.87e-03, 5.14e+00, 2.83e-08, 4.60e-05, 1.68e-06, 9.43e-09, 7.29e-04, 4.49e-01]    [5.87e-03, 5.14e+00, 2.83e-08, 4.60e-05, 1.68e-06, 9.43e-09, 7.29e-04, 4.49e-01]    []  \n",
      "INFO:tensorflow:checkpoints/best_model.ckpt-4500.ckpt is not in all_model_checkpoint_paths. Manually adding it.\n",
      "4550      [1.63e-02, 5.07e+00, 2.74e-06, 3.05e-05, 1.90e-06, 8.65e-07, 8.06e-04, 4.48e-01]    [1.63e-02, 5.07e+00, 2.74e-06, 3.05e-05, 1.90e-06, 8.65e-07, 8.06e-04, 4.48e-01]    []  \n",
      "INFO:tensorflow:checkpoints/best_model.ckpt-4550.ckpt is not in all_model_checkpoint_paths. Manually adding it.\n",
      "4600      [5.26e-03, 5.01e+00, 2.17e-07, 1.87e-05, 1.49e-06, 3.20e-07, 8.90e-04, 4.38e-01]    [5.26e-03, 5.01e+00, 2.17e-07, 1.87e-05, 1.49e-06, 3.20e-07, 8.90e-04, 4.38e-01]    []  \n",
      "INFO:tensorflow:checkpoints/best_model.ckpt-4600.ckpt is not in all_model_checkpoint_paths. Manually adding it.\n",
      "4650      [1.01e-02, 4.94e+00, 3.17e-06, 6.99e-06, 5.67e-07, 1.36e-06, 1.00e-03, 4.50e-01]    [1.01e-02, 4.94e+00, 3.17e-06, 6.99e-06, 5.67e-07, 1.36e-06, 1.00e-03, 4.50e-01]    []  \n",
      "INFO:tensorflow:checkpoints/best_model.ckpt-4650.ckpt is not in all_model_checkpoint_paths. Manually adding it.\n",
      "4700      [4.43e-02, 4.88e+00, 7.91e-06, 2.30e-06, 3.97e-06, 2.52e-08, 1.09e-03, 4.40e-01]    [4.43e-02, 4.88e+00, 7.91e-06, 2.30e-06, 3.97e-06, 2.52e-08, 1.09e-03, 4.40e-01]    []  \n",
      "INFO:tensorflow:checkpoints/best_model.ckpt-4700.ckpt is not in all_model_checkpoint_paths. Manually adding it.\n",
      "4750      [9.51e-03, 4.79e+00, 8.45e-08, 1.23e-06, 4.13e-07, 3.89e-06, 1.15e-03, 4.50e-01]    [9.51e-03, 4.80e+00, 8.45e-08, 1.23e-06, 4.13e-07, 3.89e-06, 1.15e-03, 4.50e-01]    []  \n",
      "INFO:tensorflow:checkpoints/best_model.ckpt-4750.ckpt is not in all_model_checkpoint_paths. Manually adding it.\n",
      "4800      [6.12e-03, 4.75e+00, 3.92e-08, 3.96e-06, 3.08e-06, 1.53e-09, 1.19e-03, 4.05e-01]    [6.12e-03, 4.75e+00, 3.92e-08, 3.96e-06, 3.08e-06, 1.53e-09, 1.19e-03, 4.05e-01]    []  \n",
      "INFO:tensorflow:checkpoints/best_model.ckpt-4800.ckpt is not in all_model_checkpoint_paths. Manually adding it.\n",
      "4850      [1.59e-02, 4.68e+00, 4.94e-07, 1.46e-05, 3.80e-06, 9.56e-08, 1.25e-03, 3.94e-01]    [1.60e-02, 4.68e+00, 4.94e-07, 1.46e-05, 3.80e-06, 9.56e-08, 1.25e-03, 3.94e-01]    []  \n",
      "INFO:tensorflow:checkpoints/best_model.ckpt-4850.ckpt is not in all_model_checkpoint_paths. Manually adding it.\n",
      "4900      [9.55e-03, 4.60e+00, 4.50e-08, 2.95e-05, 4.38e-06, 1.36e-07, 1.34e-03, 3.84e-01]    [9.55e-03, 4.60e+00, 4.50e-08, 2.95e-05, 4.38e-06, 1.36e-07, 1.34e-03, 3.84e-01]    []  \n",
      "INFO:tensorflow:checkpoints/best_model.ckpt-4900.ckpt is not in all_model_checkpoint_paths. Manually adding it.\n",
      "4950      [7.92e-03, 4.48e+00, 2.48e-08, 6.77e-05, 1.15e-06, 5.90e-07, 1.51e-03, 4.18e-01]    [7.92e-03, 4.48e+00, 2.48e-08, 6.77e-05, 1.15e-06, 5.90e-07, 1.51e-03, 4.18e-01]    []  \n",
      "INFO:tensorflow:checkpoints/best_model.ckpt-4950.ckpt is not in all_model_checkpoint_paths. Manually adding it.\n",
      "5000      [8.46e-03, 4.40e+00, 5.77e-07, 1.01e-04, 1.73e-06, 9.16e-10, 1.68e-03, 4.12e-01]    [8.46e-03, 4.40e+00, 5.77e-07, 1.01e-04, 1.73e-06, 9.16e-10, 1.68e-03, 4.12e-01]    []  \n",
      "INFO:tensorflow:checkpoints/best_model.ckpt-5000.ckpt is not in all_model_checkpoint_paths. Manually adding it.\n",
      "\n",
      "Best model at step 5000:\n",
      "  train loss: 4.83e+00\n",
      "  test loss: 4.83e+00\n",
      "  test metric: []\n",
      "\n",
      "'train' took 300.090521 s\n",
      "\n"
     ]
    }
   ],
   "source": [
    "print(\"Residual 1 | Residual 2 | Initial Position | Initial Theta | Initial Force | Initial Velocity | Initial Angular Velocity | Goal\")\n",
    "losshistory, train_state = model.train(display_every=50, iterations=n_adam, callbacks=[resampler, model_checkpoint])"
   ]
  },
  {
   "cell_type": "markdown",
   "metadata": {},
   "source": [
    "## Getting the predictions for time = 0 to time = 10 at intervals of 0.01"
   ]
  },
  {
   "cell_type": "code",
   "execution_count": 29,
   "metadata": {},
   "outputs": [
    {
     "data": {
      "text/plain": [
       "5000"
      ]
     },
     "execution_count": 29,
     "metadata": {},
     "output_type": "execute_result"
    }
   ],
   "source": [
    "extracted_number = 0\n",
    "with open(\"checkpoints/checkpoint\", \"r\") as file:\n",
    "    for line in file:\n",
    "        if \"best_model\" in line:\n",
    "            extracted_number = int(line.split('-')[-1].split('.')[0])\n",
    "            break\n",
    "\n",
    "extracted_number"
   ]
  },
  {
   "cell_type": "code",
   "execution_count": 30,
   "metadata": {},
   "outputs": [
    {
     "name": "stdout",
     "output_type": "stream",
     "text": [
      "INFO:tensorflow:Restoring parameters from checkpoints/best_model.ckpt-5000.ckpt\n"
     ]
    },
    {
     "data": {
      "image/png": "[encoded data removed]",
      "text/plain": [
       "<Figure size 640x480 with 1 Axes>"
      ]
     },
     "metadata": {},
     "output_type": "display_data"
    }
   ],
   "source": [
    "model.restore(save_path=f'checkpoints/best_model.ckpt-{extracted_number}.ckpt')\n",
    "\n",
    "t = np.linspace(tmin, tmax, 1000)\n",
    "predictions = model.predict(np.array([t]).T)\n",
    "predictions[:, 2] = np.tanh(predictions[:, 2]) * force_max\n",
    "\n",
    "plt.plot(t, predictions[:, 0], label=\"Position\")\n",
    "plt.plot(t, predictions[:, 1], label=\"Theta\")\n",
    "plt.plot(t, predictions[:, 2], label=\"Force\")\n",
    "plt.legend()\n",
    "plt.show()"
   ]
  },
  {
   "cell_type": "code",
   "execution_count": 31,
   "metadata": {},
   "outputs": [
    {
     "data": {
      "text/plain": [
       "array([[ 7.5936317e-04,  1.0063284e-02, -6.5738667e-04],\n",
       "       [ 7.5721741e-04,  9.6481377e-03,  6.7938631e-03],\n",
       "       [ 7.5078011e-04,  9.2218453e-03,  1.4257924e-02],\n",
       "       ...,\n",
       "       [ 7.2538652e+00,  2.7575235e+00,  4.9999964e-01],\n",
       "       [ 7.2613926e+00,  2.7615466e+00,  4.9999967e-01],\n",
       "       [ 7.2680235e+00,  2.7628117e+00,  4.9999970e-01]], dtype=float32)"
      ]
     },
     "execution_count": 31,
     "metadata": {},
     "output_type": "execute_result"
    }
   ],
   "source": [
    "# np.save('single_inverted_cart_outputs.npy', predictions)\n",
    "predictions"
   ]
  },
  {
   "cell_type": "markdown",
   "metadata": {},
   "source": [
    "## Creating animation of the system"
   ]
  },
  {
   "cell_type": "code",
   "execution_count": 32,
   "metadata": {},
   "outputs": [
    {
     "data": {
      "image/png": "[encoded data removed]",
      "text/plain": [
       "<Figure size 800x640 with 1 Axes>"
      ]
     },
     "metadata": {},
     "output_type": "display_data"
    }
   ],
   "source": [
    "positions = predictions[:, 0]\n",
    "angles = predictions[:, 1]\n",
    "\n",
    "# Define the lengths from the Gekko model (adjust as necessary)\n",
    "L1 = 0.5  # Length of the pendulum\n",
    "\n",
    "# Prepare the data for the pendulum's bob and link\n",
    "x1 = positions\n",
    "y1 = np.zeros_like(positions)\n",
    "x2 = L1 * np.sin(angles) + x1\n",
    "y2 = -L1 * np.cos(angles) + y1\n",
    "\n",
    "fig, ax = plt.subplots(figsize=(8, 6.4))\n",
    "ax.set_xlim(-7, 7)\n",
    "ax.set_ylim(-1.25, 1.25)\n",
    "ax.set_xlabel('Position')\n",
    "ax.get_yaxis().set_visible(False)\n",
    "\n",
    "crane_rail, = ax.plot([-7, 7], [-0.1, -0.1], 'k-', lw=4)\n",
    "mass1, = ax.plot([], [], linestyle='None', marker='s', markersize=40, markeredgecolor='k', color='orange', markeredgewidth=2)\n",
    "line1, = ax.plot([], [], 'o-', color='black', lw=4, markersize=6, markeredgecolor='k', markerfacecolor='k')\n",
    "\n",
    "time_template = 'time = %.1fs'\n",
    "time_text = ax.text(0.05, 0.9, '', transform=ax.transAxes)\n",
    "\n",
    "def init():\n",
    "    mass1.set_data([], [])\n",
    "    line1.set_data([], [])\n",
    "    time_text.set_text('')\n",
    "    return line1, mass1, time_text\n",
    "\n",
    "def animate(i):\n",
    "    mass1.set_data([x1[i]], [y1[i] - 0.1])\n",
    "    line1.set_data([x1[i], x2[i]], [y1[i], y2[i]])\n",
    "    time_text.set_text(time_template % (i/100))  # Assuming i is proportional to time\n",
    "    return line1, mass1, time_text\n",
    "\n",
    "ani = animation.FuncAnimation(fig, animate, frames=len(positions), interval=40, init_func=init)\n",
    "\n",
    "Writer = animation.writers['ffmpeg']\n",
    "writer = Writer(fps=95, metadata=dict(artist='Me'), bitrate=1800)\n",
    "\n",
    "# Save the animation to an MP4 file\n",
    "ani.save('simulations/inverted_pendulum_simulation.mp4', writer=writer)"
   ]
  }
 ],
 "metadata": {
  "kernelspec": {
   "display_name": "ml",
   "language": "python",
   "name": "python3"
  },
  "language_info": {
   "codemirror_mode": {
    "name": "ipython",
    "version": 3
   },
   "file_extension": ".py",
   "mimetype": "text/x-python",
   "name": "python",
   "nbconvert_exporter": "python",
   "pygments_lexer": "ipython3",
   "version": "3.11.7"
  }
 },
 "nbformat": 4,
 "nbformat_minor": 2
}
