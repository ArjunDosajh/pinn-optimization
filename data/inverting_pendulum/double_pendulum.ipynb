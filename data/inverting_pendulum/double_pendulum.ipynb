{
 "cells": [
  {
   "cell_type": "code",
   "execution_count": 11,
   "metadata": {},
   "outputs": [],
   "source": [
    "import deepxde as dde\n",
    "import numpy as np\n",
    "import tensorflow as tf\n",
    "import matplotlib.pyplot as plt"
   ]
  },
  {
   "cell_type": "code",
   "execution_count": 12,
   "metadata": {},
   "outputs": [],
   "source": [
    "# Set random seed\n",
    "seed = 0\n",
    "np.random.seed(seed)\n",
    "tf.random.set_seed(seed)\n",
    "dde.backend.tf.random.set_random_seed(seed)\n",
    "\n",
    "# Set hyperparameters\n",
    "n_output = 4 # postition (x), theta 1, theta 2, force on cart (u_norm)\n",
    "\n",
    "num_domain = 1000\n",
    "\n",
    "n_adam = 5000\n",
    "\n",
    "lr = 2e-2 # for Adam\n",
    "loss_weights = [1., 10., 1., 1., 1., 1., 1., 1., 1.]\n",
    "\n",
    "# Set physical parameters\n",
    "tmin, tmax = 0.0, 10.0\n",
    "xmin, xmax = -5.0, 5.0\n",
    "force_max = 1\n",
    "target = -1. # both theta1 and theta2 should be close to 180 degrees\n",
    "\n",
    "# Define constants\n",
    "m1, m2, mc, L1, L2, LC1, LC2, I1, I2, g = [0.1, 0.1, 1, 0.5, 0.5, 0.25, 0.25, 0.01, 0.01, 9.81]  # Example values\n",
    "Bc, B1, B2 = [0.5, 0.001, 0.001]  # Damping coefficients\n",
    "u_max = 1  # Maximum force"
   ]
  },
  {
   "cell_type": "code",
   "execution_count": 13,
   "metadata": {},
   "outputs": [],
   "source": [
    "class Custom_BC(dde.icbc.BC):\n",
    "    def __init__(self, geom, func, on_boundary, component=0):\n",
    "        super().__init__(geom, on_boundary, component)\n",
    "        self.func = dde.icbc.boundary_conditions.npfunc_range_autocache(dde.utils.return_tensor(func))\n",
    "        \n",
    "    def error(self, X, inputs, outputs, beg, end, aux_var=None):\n",
    "        # beg and end specify the current batch range\n",
    "        values = self.func(X, beg, end, aux_var)\n",
    "        theta1 = outputs[:, 1:2]\n",
    "        theta2 = outputs[:, 2:3]\n",
    "        goal1 = tf.cos(theta1)\n",
    "        goal2 = tf.cos(theta2)\n",
    "\n",
    "        return ((goal1[beg:end, self.component:self.component + 1] - values) ** 2) + ((goal2[beg:end, self.component:self.component + 1] - values) ** 2)"
   ]
  },
  {
   "cell_type": "code",
   "execution_count": 14,
   "metadata": {},
   "outputs": [],
   "source": [
    "def ode_double_pendulum(t, u):\n",
    "    # Unpack the input tensor\n",
    "    x, q1, q2, u_norm = u[:, 0:1], u[:, 1:2], u[:, 2:3], u[:, 3:4]\n",
    "    u_force = u_max * tf.tanh(u_norm)  # Scale and bound the control input\n",
    "\n",
    "    # Compute time derivatives\n",
    "    xdot_t, q1dot_t, q2dot_t = [dde.grad.jacobian(var, t) for var in [x, q1, q2]]\n",
    "    xdot_tt, q1dot_tt, q2dot_tt = [dde.grad.jacobian(var_t, t) for var_t in [xdot_t, q1dot_t, q2dot_t]]\n",
    "\n",
    "    # Compute intermediates\n",
    "    h = [tf.reshape(var, (-1, 1)) for var in [mc + m1 + m2, m1 * LC1 + m2 * L1, m2 * LC2, m1 * LC1**2 + m2 * L1**2 + I1, m2 * LC2 * L1, m2 * LC2**2 + I2, m1 * LC1 * g + m2 * L1 * g, m2 * LC2 * g]]\n",
    "    B_reshaped = [tf.reshape(B, (-1, 1)) for B in [Bc, B1, B2]]\n",
    "\n",
    "    # Compute matrices\n",
    "    M = tf.stack([[h[0], h[1] * tf.cos(q1), h[2] * tf.cos(q2)],\n",
    "                  [h[1] * tf.cos(q1), h[3], h[4] * tf.cos(q1 - q2)],\n",
    "                  [h[2] * tf.cos(q2), h[4] * tf.cos(q1 - q2), h[5]]], axis=1)\n",
    "\n",
    "    zero_tensor = tf.zeros_like(B_reshaped[0])\n",
    "    C = tf.stack([[B_reshaped[0], -h[1] * q1dot_t * tf.sin(q1), -h[2] * q2dot_t * tf.sin(q2)],\n",
    "                  [zero_tensor, B_reshaped[1] + B_reshaped[2], h[4] * q2dot_t * tf.sin(q1 - q2) - B_reshaped[2]],\n",
    "                  [zero_tensor, -h[4] * q1dot_t * tf.sin(q1 - q2) - B_reshaped[2], B_reshaped[2]]], axis=1)\n",
    "\n",
    "    G = tf.stack([tf.zeros_like(h[6]), -h[6] * tf.sin(q1), -h[7] * tf.sin(q2)], axis=0)\n",
    "    U = tf.stack([u_force, tf.zeros_like(u_force), tf.zeros_like(u_force)], axis=1)\n",
    "\n",
    "    # Compute DQ, CDQ, b, and Mb\n",
    "    DQ = tf.expand_dims(tf.stack([xdot_t, q1dot_t, q2dot_t], axis=0), axis=-1)\n",
    "    CDQ = tf.matmul(C, DQ)\n",
    "    b = tf.expand_dims(tf.stack([xdot_tt, q1dot_tt, q2dot_tt], axis=0), axis=-1)\n",
    "    Mb = tf.matmul(M, b)\n",
    "\n",
    "    # Compute residuals\n",
    "    residual = Mb - (U - CDQ - G)\n",
    "    return residual"
   ]
  },
  {
   "cell_type": "code",
   "execution_count": 15,
   "metadata": {},
   "outputs": [],
   "source": [
    "def initial(_, on_initial):\n",
    "    return on_initial\n",
    "\n",
    "def boundary_left(t, on_boundary):\n",
    "    # on_boundary is passed here by deepxde and it serves as an intial filter\n",
    "    # which tells if a point lies on the boundary or not\n",
    "\n",
    "    return on_boundary * np.isclose(t[0], tmin) # np.isclose(t[0], tmin) checks if the point is on\n",
    "                                                # the left boundary or not and this is a second filter\n",
    "\n",
    "def boundary_right(t, on_boundary):\n",
    "    # on_boundary is passed here by deepxde and it serves as an intial filter\n",
    "    # which tells if a point lies on the boundary or not\n",
    "    return on_boundary * np.isclose(t[0], tmax) # np.isclose(t[0], tmax) checks if the point is on\n",
    "                                                # the right boundary or not and this is a second filter"
   ]
  },
  {
   "cell_type": "code",
   "execution_count": 16,
   "metadata": {},
   "outputs": [],
   "source": [
    "geom = dde.geometry.TimeDomain(tmin, tmax)\n",
    "\n",
    "ic1 = dde.icbc.IC(geom, lambda t: np.array([0.]), initial, component=0) # posittion = 0 at time = 0\n",
    "ic2 = dde.icbc.IC(geom, lambda t: np.array([0.]), initial, component=1) # theta1 = 0 at time = 0\n",
    "ic3 = dde.icbc.IC(geom, lambda t: np.array([0.]), initial, component=2) # theta2 = 0 at time = 0\n",
    "ic4 = dde.icbc.IC(geom, lambda t: np.array([0.]), initial, component=3) # force = 0 at time = 0\n",
    "\n",
    "ic5 = dde.icbc.NeumannBC(geom, lambda t: np.array([0.]), boundary_left, component=0) # cart velocity 1 = 0 at time = 0\n",
    "ic6 = dde.icbc.NeumannBC(geom, lambda t: np.array([0.]), boundary_left, component=1) # angular velocity 1 = 0 at time = 0\n",
    "ic7 = dde.icbc.NeumannBC(geom, lambda t: np.array([0.]), boundary_left, component=2) # angular velocity 2 = 0 at time = 0\n",
    "\n",
    "opt = Custom_BC(geom, lambda t: np.array([target]), boundary_right) # custom ICBC\n",
    "\n",
    "data = dde.data.PDE(geom, ode_double_pendulum, [ic1, ic2, ic3, ic4, ic5, ic6, ic7, opt], num_domain=num_domain, num_boundary=2)\n",
    "# dataset size here will be 1002 (1000 domain + 2 boundary)"
   ]
  },
  {
   "cell_type": "code",
   "execution_count": 17,
   "metadata": {},
   "outputs": [],
   "source": [
    "net = dde.nn.FNN([1] + [64] * 3 + [n_output], \"tanh\", \"Glorot normal\")"
   ]
  },
  {
   "cell_type": "code",
   "execution_count": 18,
   "metadata": {},
   "outputs": [],
   "source": [
    "resampler = dde.callbacks.PDEPointResampler(period=100)"
   ]
  },
  {
   "cell_type": "code",
   "execution_count": 19,
   "metadata": {},
   "outputs": [
    {
     "name": "stdout",
     "output_type": "stream",
     "text": [
      "Compiling model...\n",
      "Building feed-forward neural network...\n",
      "'build' took 0.076153 s\n",
      "\n"
     ]
    },
    {
     "name": "stderr",
     "output_type": "stream",
     "text": [
      "/Users/arjundosajh/miniconda3/envs/ml/lib/python3.11/site-packages/deepxde/nn/tensorflow_compat_v1/fnn.py:116: UserWarning: `tf.layers.dense` is deprecated and will be removed in a future version. Please use `tf.keras.layers.Dense` instead.\n",
      "  return tf.layers.dense(\n"
     ]
    },
    {
     "name": "stdout",
     "output_type": "stream",
     "text": [
      "'compile' took 1.037483 s\n",
      "\n"
     ]
    }
   ],
   "source": [
    "model = dde.Model(data, net)\n",
    "model.compile(\"adam\", lr=lr, loss_weights=loss_weights)\n"
   ]
  },
  {
   "cell_type": "code",
   "execution_count": 20,
   "metadata": {},
   "outputs": [
    {
     "name": "stdout",
     "output_type": "stream",
     "text": [
      "Training model...\n",
      "\n"
     ]
    },
    {
     "ename": "InvalidArgumentError",
     "evalue": "Graph execution error:\n\nDetected at node 'gradients_18/strided_slice_37_grad/StridedSliceGrad' defined at (most recent call last):\n    File \"<frozen runpy>\", line 198, in _run_module_as_main\n    File \"<frozen runpy>\", line 88, in _run_code\n    File \"/Users/arjundosajh/miniconda3/envs/ml/lib/python3.11/site-packages/ipykernel_launcher.py\", line 17, in <module>\n    File \"/Users/arjundosajh/miniconda3/envs/ml/lib/python3.11/site-packages/traitlets/config/application.py\", line 1077, in launch_instance\n    File \"/Users/arjundosajh/miniconda3/envs/ml/lib/python3.11/site-packages/ipykernel/kernelapp.py\", line 737, in start\n    File \"/Users/arjundosajh/miniconda3/envs/ml/lib/python3.11/site-packages/tornado/platform/asyncio.py\", line 195, in start\n    File \"/Users/arjundosajh/miniconda3/envs/ml/lib/python3.11/asyncio/base_events.py\", line 607, in run_forever\n    File \"/Users/arjundosajh/miniconda3/envs/ml/lib/python3.11/asyncio/base_events.py\", line 1922, in _run_once\n    File \"/Users/arjundosajh/miniconda3/envs/ml/lib/python3.11/asyncio/events.py\", line 80, in _run\n    File \"/Users/arjundosajh/miniconda3/envs/ml/lib/python3.11/site-packages/ipykernel/kernelbase.py\", line 524, in dispatch_queue\n    File \"/Users/arjundosajh/miniconda3/envs/ml/lib/python3.11/site-packages/ipykernel/kernelbase.py\", line 513, in process_one\n    File \"/Users/arjundosajh/miniconda3/envs/ml/lib/python3.11/site-packages/ipykernel/kernelbase.py\", line 418, in dispatch_shell\n    File \"/Users/arjundosajh/miniconda3/envs/ml/lib/python3.11/site-packages/ipykernel/kernelbase.py\", line 758, in execute_request\n    File \"/Users/arjundosajh/miniconda3/envs/ml/lib/python3.11/site-packages/ipykernel/ipkernel.py\", line 426, in do_execute\n    File \"/Users/arjundosajh/miniconda3/envs/ml/lib/python3.11/site-packages/ipykernel/zmqshell.py\", line 549, in run_cell\n    File \"/Users/arjundosajh/miniconda3/envs/ml/lib/python3.11/site-packages/IPython/core/interactiveshell.py\", line 3048, in run_cell\n    File \"/Users/arjundosajh/miniconda3/envs/ml/lib/python3.11/site-packages/IPython/core/interactiveshell.py\", line 3103, in _run_cell\n    File \"/Users/arjundosajh/miniconda3/envs/ml/lib/python3.11/site-packages/IPython/core/async_helpers.py\", line 129, in _pseudo_sync_runner\n    File \"/Users/arjundosajh/miniconda3/envs/ml/lib/python3.11/site-packages/IPython/core/interactiveshell.py\", line 3308, in run_cell_async\n    File \"/Users/arjundosajh/miniconda3/envs/ml/lib/python3.11/site-packages/IPython/core/interactiveshell.py\", line 3490, in run_ast_nodes\n    File \"/Users/arjundosajh/miniconda3/envs/ml/lib/python3.11/site-packages/IPython/core/interactiveshell.py\", line 3550, in run_code\n    File \"/var/folders/nv/y38dbr6d15s8w3kl0j4ysj700000gn/T/ipykernel_88938/4257598400.py\", line 2, in <module>\n    File \"/Users/arjundosajh/miniconda3/envs/ml/lib/python3.11/site-packages/deepxde/utils/internal.py\", line 22, in wrapper\n    File \"/Users/arjundosajh/miniconda3/envs/ml/lib/python3.11/site-packages/deepxde/model.py\", line 137, in compile\n    File \"/Users/arjundosajh/miniconda3/envs/ml/lib/python3.11/site-packages/deepxde/model.py\", line 186, in _compile_tensorflow_compat_v1\n    File \"/Users/arjundosajh/miniconda3/envs/ml/lib/python3.11/site-packages/deepxde/model.py\", line 172, in losses\n    File \"/Users/arjundosajh/miniconda3/envs/ml/lib/python3.11/site-packages/deepxde/data/data.py\", line 13, in losses_train\n    File \"/Users/arjundosajh/miniconda3/envs/ml/lib/python3.11/site-packages/deepxde/data/pde.py\", line 140, in losses\n    File \"/var/folders/nv/y38dbr6d15s8w3kl0j4ysj700000gn/T/ipykernel_88938/3352106437.py\", line 7, in ode_double_pendulum\n    File \"/var/folders/nv/y38dbr6d15s8w3kl0j4ysj700000gn/T/ipykernel_88938/3352106437.py\", line 7, in <listcomp>\n    File \"/Users/arjundosajh/miniconda3/envs/ml/lib/python3.11/site-packages/deepxde/gradients/gradients_reverse.py\", line 188, in jacobian\n    File \"/Users/arjundosajh/miniconda3/envs/ml/lib/python3.11/site-packages/deepxde/gradients/gradients_reverse.py\", line 160, in __call__\n    File \"/Users/arjundosajh/miniconda3/envs/ml/lib/python3.11/site-packages/deepxde/gradients/gradients_reverse.py\", line 48, in __call__\nNode: 'gradients_18/strided_slice_37_grad/StridedSliceGrad'\nshape of dy was [1,1] instead of [1010,1]\n\t [[{{node gradients_18/strided_slice_37_grad/StridedSliceGrad}}]]\n\nOriginal stack trace for 'gradients_18/strided_slice_37_grad/StridedSliceGrad':\n  File \"<frozen runpy>\", line 198, in _run_module_as_main\n  File \"<frozen runpy>\", line 88, in _run_code\n  File \"/Users/arjundosajh/miniconda3/envs/ml/lib/python3.11/site-packages/ipykernel_launcher.py\", line 17, in <module>\n  File \"/Users/arjundosajh/miniconda3/envs/ml/lib/python3.11/site-packages/traitlets/config/application.py\", line 1077, in launch_instance\n  File \"/Users/arjundosajh/miniconda3/envs/ml/lib/python3.11/site-packages/ipykernel/kernelapp.py\", line 737, in start\n  File \"/Users/arjundosajh/miniconda3/envs/ml/lib/python3.11/site-packages/tornado/platform/asyncio.py\", line 195, in start\n  File \"/Users/arjundosajh/miniconda3/envs/ml/lib/python3.11/asyncio/base_events.py\", line 607, in run_forever\n  File \"/Users/arjundosajh/miniconda3/envs/ml/lib/python3.11/asyncio/base_events.py\", line 1922, in _run_once\n  File \"/Users/arjundosajh/miniconda3/envs/ml/lib/python3.11/asyncio/events.py\", line 80, in _run\n  File \"/Users/arjundosajh/miniconda3/envs/ml/lib/python3.11/site-packages/ipykernel/kernelbase.py\", line 524, in dispatch_queue\n  File \"/Users/arjundosajh/miniconda3/envs/ml/lib/python3.11/site-packages/ipykernel/kernelbase.py\", line 513, in process_one\n  File \"/Users/arjundosajh/miniconda3/envs/ml/lib/python3.11/site-packages/ipykernel/kernelbase.py\", line 418, in dispatch_shell\n  File \"/Users/arjundosajh/miniconda3/envs/ml/lib/python3.11/site-packages/ipykernel/kernelbase.py\", line 758, in execute_request\n  File \"/Users/arjundosajh/miniconda3/envs/ml/lib/python3.11/site-packages/ipykernel/ipkernel.py\", line 426, in do_execute\n  File \"/Users/arjundosajh/miniconda3/envs/ml/lib/python3.11/site-packages/ipykernel/zmqshell.py\", line 549, in run_cell\n  File \"/Users/arjundosajh/miniconda3/envs/ml/lib/python3.11/site-packages/IPython/core/interactiveshell.py\", line 3048, in run_cell\n  File \"/Users/arjundosajh/miniconda3/envs/ml/lib/python3.11/site-packages/IPython/core/interactiveshell.py\", line 3103, in _run_cell\n  File \"/Users/arjundosajh/miniconda3/envs/ml/lib/python3.11/site-packages/IPython/core/async_helpers.py\", line 129, in _pseudo_sync_runner\n  File \"/Users/arjundosajh/miniconda3/envs/ml/lib/python3.11/site-packages/IPython/core/interactiveshell.py\", line 3308, in run_cell_async\n  File \"/Users/arjundosajh/miniconda3/envs/ml/lib/python3.11/site-packages/IPython/core/interactiveshell.py\", line 3490, in run_ast_nodes\n  File \"/Users/arjundosajh/miniconda3/envs/ml/lib/python3.11/site-packages/IPython/core/interactiveshell.py\", line 3550, in run_code\n  File \"/var/folders/nv/y38dbr6d15s8w3kl0j4ysj700000gn/T/ipykernel_88938/4257598400.py\", line 2, in <module>\n  File \"/Users/arjundosajh/miniconda3/envs/ml/lib/python3.11/site-packages/deepxde/utils/internal.py\", line 22, in wrapper\n  File \"/Users/arjundosajh/miniconda3/envs/ml/lib/python3.11/site-packages/deepxde/model.py\", line 137, in compile\n  File \"/Users/arjundosajh/miniconda3/envs/ml/lib/python3.11/site-packages/deepxde/model.py\", line 186, in _compile_tensorflow_compat_v1\n  File \"/Users/arjundosajh/miniconda3/envs/ml/lib/python3.11/site-packages/deepxde/model.py\", line 172, in losses\n  File \"/Users/arjundosajh/miniconda3/envs/ml/lib/python3.11/site-packages/deepxde/data/data.py\", line 13, in losses_train\n  File \"/Users/arjundosajh/miniconda3/envs/ml/lib/python3.11/site-packages/deepxde/data/pde.py\", line 140, in losses\n  File \"/var/folders/nv/y38dbr6d15s8w3kl0j4ysj700000gn/T/ipykernel_88938/3352106437.py\", line 7, in ode_double_pendulum\n  File \"/var/folders/nv/y38dbr6d15s8w3kl0j4ysj700000gn/T/ipykernel_88938/3352106437.py\", line 7, in <listcomp>\n  File \"/Users/arjundosajh/miniconda3/envs/ml/lib/python3.11/site-packages/deepxde/gradients/gradients_reverse.py\", line 188, in jacobian\n  File \"/Users/arjundosajh/miniconda3/envs/ml/lib/python3.11/site-packages/deepxde/gradients/gradients_reverse.py\", line 160, in __call__\n  File \"/Users/arjundosajh/miniconda3/envs/ml/lib/python3.11/site-packages/deepxde/gradients/gradients_reverse.py\", line 48, in __call__\n  File \"/Users/arjundosajh/miniconda3/envs/ml/lib/python3.11/site-packages/tensorflow/python/ops/gradients_impl.py\", line 177, in gradients\n  File \"/Users/arjundosajh/miniconda3/envs/ml/lib/python3.11/site-packages/tensorflow/python/ops/gradients_util.py\", line 733, in _GradientsHelper\n  File \"/Users/arjundosajh/miniconda3/envs/ml/lib/python3.11/site-packages/tensorflow/python/ops/gradients_util.py\", line 365, in _MaybeCompile\n  File \"/Users/arjundosajh/miniconda3/envs/ml/lib/python3.11/site-packages/tensorflow/python/ops/gradients_util.py\", line 734, in <lambda>\n  File \"/Users/arjundosajh/miniconda3/envs/ml/lib/python3.11/site-packages/tensorflow/python/ops/array_grad.py\", line 291, in _StridedSliceGrad\n  File \"/Users/arjundosajh/miniconda3/envs/ml/lib/python3.11/site-packages/tensorflow/python/ops/gen_array_ops.py\", line 11165, in strided_slice_grad\n  File \"/Users/arjundosajh/miniconda3/envs/ml/lib/python3.11/site-packages/tensorflow/python/framework/op_def_library.py\", line 796, in _apply_op_helper\n  File \"/Users/arjundosajh/miniconda3/envs/ml/lib/python3.11/site-packages/tensorflow/python/framework/ops.py\", line 2652, in _create_op_internal\n  File \"/Users/arjundosajh/miniconda3/envs/ml/lib/python3.11/site-packages/tensorflow/python/framework/ops.py\", line 1160, in from_node_def\n\n...which was originally created as op 'strided_slice_37', defined at:\n  File \"<frozen runpy>\", line 198, in _run_module_as_main\n[elided 26 identical lines from previous traceback]\n  File \"/Users/arjundosajh/miniconda3/envs/ml/lib/python3.11/site-packages/deepxde/data/pde.py\", line 140, in losses\n  File \"/var/folders/nv/y38dbr6d15s8w3kl0j4ysj700000gn/T/ipykernel_88938/3352106437.py\", line 3, in ode_double_pendulum\n  File \"/Users/arjundosajh/miniconda3/envs/ml/lib/python3.11/site-packages/tensorflow/python/util/traceback_utils.py\", line 150, in error_handler\n  File \"/Users/arjundosajh/miniconda3/envs/ml/lib/python3.11/site-packages/tensorflow/python/util/dispatch.py\", line 1260, in op_dispatch_handler\n  File \"/Users/arjundosajh/miniconda3/envs/ml/lib/python3.11/site-packages/tensorflow/python/ops/array_ops.py\", line 1156, in _slice_helper\n  File \"/Users/arjundosajh/miniconda3/envs/ml/lib/python3.11/site-packages/tensorflow/python/util/traceback_utils.py\", line 150, in error_handler\n  File \"/Users/arjundosajh/miniconda3/envs/ml/lib/python3.11/site-packages/tensorflow/python/util/dispatch.py\", line 1260, in op_dispatch_handler\n  File \"/Users/arjundosajh/miniconda3/envs/ml/lib/python3.11/site-packages/tensorflow/python/ops/array_ops.py\", line 1329, in strided_slice\n  File \"/Users/arjundosajh/miniconda3/envs/ml/lib/python3.11/site-packages/tensorflow/python/ops/gen_array_ops.py\", line 10964, in strided_slice\n  File \"/Users/arjundosajh/miniconda3/envs/ml/lib/python3.11/site-packages/tensorflow/python/framework/op_def_library.py\", line 796, in _apply_op_helper\n  File \"/Users/arjundosajh/miniconda3/envs/ml/lib/python3.11/site-packages/tensorflow/python/framework/ops.py\", line 2652, in _create_op_internal\n  File \"/Users/arjundosajh/miniconda3/envs/ml/lib/python3.11/site-packages/tensorflow/python/framework/ops.py\", line 1160, in from_node_def\n",
     "output_type": "error",
     "traceback": [
      "\u001b[0;31m---------------------------------------------------------------------------\u001b[0m",
      "\u001b[0;31mInvalidArgumentError\u001b[0m                      Traceback (most recent call last)",
      "File \u001b[0;32m~/miniconda3/envs/ml/lib/python3.11/site-packages/tensorflow/python/client/session.py:1402\u001b[0m, in \u001b[0;36mBaseSession._do_call\u001b[0;34m(self, fn, *args)\u001b[0m\n\u001b[1;32m   1401\u001b[0m \u001b[38;5;28;01mtry\u001b[39;00m:\n\u001b[0;32m-> 1402\u001b[0m   \u001b[38;5;28;01mreturn\u001b[39;00m \u001b[43mfn\u001b[49m\u001b[43m(\u001b[49m\u001b[38;5;241;43m*\u001b[39;49m\u001b[43margs\u001b[49m\u001b[43m)\u001b[49m\n\u001b[1;32m   1403\u001b[0m \u001b[38;5;28;01mexcept\u001b[39;00m errors\u001b[38;5;241m.\u001b[39mOpError \u001b[38;5;28;01mas\u001b[39;00m e:\n",
      "File \u001b[0;32m~/miniconda3/envs/ml/lib/python3.11/site-packages/tensorflow/python/client/session.py:1385\u001b[0m, in \u001b[0;36mBaseSession._do_run.<locals>._run_fn\u001b[0;34m(feed_dict, fetch_list, target_list, options, run_metadata)\u001b[0m\n\u001b[1;32m   1384\u001b[0m \u001b[38;5;28mself\u001b[39m\u001b[38;5;241m.\u001b[39m_extend_graph()\n\u001b[0;32m-> 1385\u001b[0m \u001b[38;5;28;01mreturn\u001b[39;00m \u001b[38;5;28;43mself\u001b[39;49m\u001b[38;5;241;43m.\u001b[39;49m\u001b[43m_call_tf_sessionrun\u001b[49m\u001b[43m(\u001b[49m\u001b[43moptions\u001b[49m\u001b[43m,\u001b[49m\u001b[43m \u001b[49m\u001b[43mfeed_dict\u001b[49m\u001b[43m,\u001b[49m\u001b[43m \u001b[49m\u001b[43mfetch_list\u001b[49m\u001b[43m,\u001b[49m\n\u001b[1;32m   1386\u001b[0m \u001b[43m                                \u001b[49m\u001b[43mtarget_list\u001b[49m\u001b[43m,\u001b[49m\u001b[43m \u001b[49m\u001b[43mrun_metadata\u001b[49m\u001b[43m)\u001b[49m\n",
      "File \u001b[0;32m~/miniconda3/envs/ml/lib/python3.11/site-packages/tensorflow/python/client/session.py:1478\u001b[0m, in \u001b[0;36mBaseSession._call_tf_sessionrun\u001b[0;34m(self, options, feed_dict, fetch_list, target_list, run_metadata)\u001b[0m\n\u001b[1;32m   1476\u001b[0m \u001b[38;5;28;01mdef\u001b[39;00m \u001b[38;5;21m_call_tf_sessionrun\u001b[39m(\u001b[38;5;28mself\u001b[39m, options, feed_dict, fetch_list, target_list,\n\u001b[1;32m   1477\u001b[0m                         run_metadata):\n\u001b[0;32m-> 1478\u001b[0m   \u001b[38;5;28;01mreturn\u001b[39;00m \u001b[43mtf_session\u001b[49m\u001b[38;5;241;43m.\u001b[39;49m\u001b[43mTF_SessionRun_wrapper\u001b[49m\u001b[43m(\u001b[49m\u001b[38;5;28;43mself\u001b[39;49m\u001b[38;5;241;43m.\u001b[39;49m\u001b[43m_session\u001b[49m\u001b[43m,\u001b[49m\u001b[43m \u001b[49m\u001b[43moptions\u001b[49m\u001b[43m,\u001b[49m\u001b[43m \u001b[49m\u001b[43mfeed_dict\u001b[49m\u001b[43m,\u001b[49m\n\u001b[1;32m   1479\u001b[0m \u001b[43m                                          \u001b[49m\u001b[43mfetch_list\u001b[49m\u001b[43m,\u001b[49m\u001b[43m \u001b[49m\u001b[43mtarget_list\u001b[49m\u001b[43m,\u001b[49m\n\u001b[1;32m   1480\u001b[0m \u001b[43m                                          \u001b[49m\u001b[43mrun_metadata\u001b[49m\u001b[43m)\u001b[49m\n",
      "\u001b[0;31mInvalidArgumentError\u001b[0m: shape of dy was [1,1] instead of [1010,1]\n\t [[{{node gradients_18/strided_slice_37_grad/StridedSliceGrad}}]]",
      "\nDuring handling of the above exception, another exception occurred:\n",
      "\u001b[0;31mInvalidArgumentError\u001b[0m                      Traceback (most recent call last)",
      "Cell \u001b[0;32mIn[20], line 1\u001b[0m\n\u001b[0;32m----> 1\u001b[0m losshistory, train_state \u001b[38;5;241m=\u001b[39m \u001b[43mmodel\u001b[49m\u001b[38;5;241;43m.\u001b[39;49m\u001b[43mtrain\u001b[49m\u001b[43m(\u001b[49m\u001b[43mdisplay_every\u001b[49m\u001b[38;5;241;43m=\u001b[39;49m\u001b[38;5;241;43m100\u001b[39;49m\u001b[43m,\u001b[49m\u001b[43m \u001b[49m\u001b[43miterations\u001b[49m\u001b[38;5;241;43m=\u001b[39;49m\u001b[43mn_adam\u001b[49m\u001b[43m)\u001b[49m\n",
      "File \u001b[0;32m~/miniconda3/envs/ml/lib/python3.11/site-packages/deepxde/utils/internal.py:22\u001b[0m, in \u001b[0;36mtiming.<locals>.wrapper\u001b[0;34m(*args, **kwargs)\u001b[0m\n\u001b[1;32m     19\u001b[0m \u001b[38;5;129m@wraps\u001b[39m(f)\n\u001b[1;32m     20\u001b[0m \u001b[38;5;28;01mdef\u001b[39;00m \u001b[38;5;21mwrapper\u001b[39m(\u001b[38;5;241m*\u001b[39margs, \u001b[38;5;241m*\u001b[39m\u001b[38;5;241m*\u001b[39mkwargs):\n\u001b[1;32m     21\u001b[0m     ts \u001b[38;5;241m=\u001b[39m timeit\u001b[38;5;241m.\u001b[39mdefault_timer()\n\u001b[0;32m---> 22\u001b[0m     result \u001b[38;5;241m=\u001b[39m \u001b[43mf\u001b[49m\u001b[43m(\u001b[49m\u001b[38;5;241;43m*\u001b[39;49m\u001b[43margs\u001b[49m\u001b[43m,\u001b[49m\u001b[43m \u001b[49m\u001b[38;5;241;43m*\u001b[39;49m\u001b[38;5;241;43m*\u001b[39;49m\u001b[43mkwargs\u001b[49m\u001b[43m)\u001b[49m\n\u001b[1;32m     23\u001b[0m     te \u001b[38;5;241m=\u001b[39m timeit\u001b[38;5;241m.\u001b[39mdefault_timer()\n\u001b[1;32m     24\u001b[0m     \u001b[38;5;28;01mif\u001b[39;00m config\u001b[38;5;241m.\u001b[39mrank \u001b[38;5;241m==\u001b[39m \u001b[38;5;241m0\u001b[39m:\n",
      "File \u001b[0;32m~/miniconda3/envs/ml/lib/python3.11/site-packages/deepxde/model.py:631\u001b[0m, in \u001b[0;36mModel.train\u001b[0;34m(self, iterations, batch_size, display_every, disregard_previous_best, callbacks, model_restore_path, model_save_path, epochs)\u001b[0m\n\u001b[1;32m    629\u001b[0m \u001b[38;5;28mself\u001b[39m\u001b[38;5;241m.\u001b[39mtrain_state\u001b[38;5;241m.\u001b[39mset_data_train(\u001b[38;5;241m*\u001b[39m\u001b[38;5;28mself\u001b[39m\u001b[38;5;241m.\u001b[39mdata\u001b[38;5;241m.\u001b[39mtrain_next_batch(\u001b[38;5;28mself\u001b[39m\u001b[38;5;241m.\u001b[39mbatch_size))\n\u001b[1;32m    630\u001b[0m \u001b[38;5;28mself\u001b[39m\u001b[38;5;241m.\u001b[39mtrain_state\u001b[38;5;241m.\u001b[39mset_data_test(\u001b[38;5;241m*\u001b[39m\u001b[38;5;28mself\u001b[39m\u001b[38;5;241m.\u001b[39mdata\u001b[38;5;241m.\u001b[39mtest())\n\u001b[0;32m--> 631\u001b[0m \u001b[38;5;28;43mself\u001b[39;49m\u001b[38;5;241;43m.\u001b[39;49m\u001b[43m_test\u001b[49m\u001b[43m(\u001b[49m\u001b[43m)\u001b[49m\n\u001b[1;32m    632\u001b[0m \u001b[38;5;28mself\u001b[39m\u001b[38;5;241m.\u001b[39mcallbacks\u001b[38;5;241m.\u001b[39mon_train_begin()\n\u001b[1;32m    633\u001b[0m \u001b[38;5;28;01mif\u001b[39;00m optimizers\u001b[38;5;241m.\u001b[39mis_external_optimizer(\u001b[38;5;28mself\u001b[39m\u001b[38;5;241m.\u001b[39mopt_name):\n",
      "File \u001b[0;32m~/miniconda3/envs/ml/lib/python3.11/site-packages/deepxde/model.py:820\u001b[0m, in \u001b[0;36mModel._test\u001b[0;34m(self)\u001b[0m\n\u001b[1;32m    815\u001b[0m \u001b[38;5;28;01mdef\u001b[39;00m \u001b[38;5;21m_test\u001b[39m(\u001b[38;5;28mself\u001b[39m):\n\u001b[1;32m    816\u001b[0m     \u001b[38;5;66;03m# TODO Now only print the training loss in rank 0. The correct way is to print the average training loss of all ranks.\u001b[39;00m\n\u001b[1;32m    817\u001b[0m     (\n\u001b[1;32m    818\u001b[0m         \u001b[38;5;28mself\u001b[39m\u001b[38;5;241m.\u001b[39mtrain_state\u001b[38;5;241m.\u001b[39my_pred_train,\n\u001b[1;32m    819\u001b[0m         \u001b[38;5;28mself\u001b[39m\u001b[38;5;241m.\u001b[39mtrain_state\u001b[38;5;241m.\u001b[39mloss_train,\n\u001b[0;32m--> 820\u001b[0m     ) \u001b[38;5;241m=\u001b[39m \u001b[38;5;28;43mself\u001b[39;49m\u001b[38;5;241;43m.\u001b[39;49m\u001b[43m_outputs_losses\u001b[49m\u001b[43m(\u001b[49m\n\u001b[1;32m    821\u001b[0m \u001b[43m        \u001b[49m\u001b[38;5;28;43;01mTrue\u001b[39;49;00m\u001b[43m,\u001b[49m\n\u001b[1;32m    822\u001b[0m \u001b[43m        \u001b[49m\u001b[38;5;28;43mself\u001b[39;49m\u001b[38;5;241;43m.\u001b[39;49m\u001b[43mtrain_state\u001b[49m\u001b[38;5;241;43m.\u001b[39;49m\u001b[43mX_train\u001b[49m\u001b[43m,\u001b[49m\n\u001b[1;32m    823\u001b[0m \u001b[43m        \u001b[49m\u001b[38;5;28;43mself\u001b[39;49m\u001b[38;5;241;43m.\u001b[39;49m\u001b[43mtrain_state\u001b[49m\u001b[38;5;241;43m.\u001b[39;49m\u001b[43my_train\u001b[49m\u001b[43m,\u001b[49m\n\u001b[1;32m    824\u001b[0m \u001b[43m        \u001b[49m\u001b[38;5;28;43mself\u001b[39;49m\u001b[38;5;241;43m.\u001b[39;49m\u001b[43mtrain_state\u001b[49m\u001b[38;5;241;43m.\u001b[39;49m\u001b[43mtrain_aux_vars\u001b[49m\u001b[43m,\u001b[49m\n\u001b[1;32m    825\u001b[0m \u001b[43m    \u001b[49m\u001b[43m)\u001b[49m\n\u001b[1;32m    826\u001b[0m     \u001b[38;5;28mself\u001b[39m\u001b[38;5;241m.\u001b[39mtrain_state\u001b[38;5;241m.\u001b[39my_pred_test, \u001b[38;5;28mself\u001b[39m\u001b[38;5;241m.\u001b[39mtrain_state\u001b[38;5;241m.\u001b[39mloss_test \u001b[38;5;241m=\u001b[39m \u001b[38;5;28mself\u001b[39m\u001b[38;5;241m.\u001b[39m_outputs_losses(\n\u001b[1;32m    827\u001b[0m         \u001b[38;5;28;01mFalse\u001b[39;00m,\n\u001b[1;32m    828\u001b[0m         \u001b[38;5;28mself\u001b[39m\u001b[38;5;241m.\u001b[39mtrain_state\u001b[38;5;241m.\u001b[39mX_test,\n\u001b[1;32m    829\u001b[0m         \u001b[38;5;28mself\u001b[39m\u001b[38;5;241m.\u001b[39mtrain_state\u001b[38;5;241m.\u001b[39my_test,\n\u001b[1;32m    830\u001b[0m         \u001b[38;5;28mself\u001b[39m\u001b[38;5;241m.\u001b[39mtrain_state\u001b[38;5;241m.\u001b[39mtest_aux_vars,\n\u001b[1;32m    831\u001b[0m     )\n\u001b[1;32m    833\u001b[0m     \u001b[38;5;28;01mif\u001b[39;00m \u001b[38;5;28misinstance\u001b[39m(\u001b[38;5;28mself\u001b[39m\u001b[38;5;241m.\u001b[39mtrain_state\u001b[38;5;241m.\u001b[39my_test, (\u001b[38;5;28mlist\u001b[39m, \u001b[38;5;28mtuple\u001b[39m)):\n",
      "File \u001b[0;32m~/miniconda3/envs/ml/lib/python3.11/site-packages/deepxde/model.py:536\u001b[0m, in \u001b[0;36mModel._outputs_losses\u001b[0;34m(self, training, inputs, targets, auxiliary_vars)\u001b[0m\n\u001b[1;32m    534\u001b[0m \u001b[38;5;28;01mif\u001b[39;00m backend_name \u001b[38;5;241m==\u001b[39m \u001b[38;5;124m\"\u001b[39m\u001b[38;5;124mtensorflow.compat.v1\u001b[39m\u001b[38;5;124m\"\u001b[39m:\n\u001b[1;32m    535\u001b[0m     feed_dict \u001b[38;5;241m=\u001b[39m \u001b[38;5;28mself\u001b[39m\u001b[38;5;241m.\u001b[39mnet\u001b[38;5;241m.\u001b[39mfeed_dict(training, inputs, targets, auxiliary_vars)\n\u001b[0;32m--> 536\u001b[0m     \u001b[38;5;28;01mreturn\u001b[39;00m \u001b[38;5;28;43mself\u001b[39;49m\u001b[38;5;241;43m.\u001b[39;49m\u001b[43msess\u001b[49m\u001b[38;5;241;43m.\u001b[39;49m\u001b[43mrun\u001b[49m\u001b[43m(\u001b[49m\u001b[43moutputs_losses\u001b[49m\u001b[43m,\u001b[49m\u001b[43m \u001b[49m\u001b[43mfeed_dict\u001b[49m\u001b[38;5;241;43m=\u001b[39;49m\u001b[43mfeed_dict\u001b[49m\u001b[43m)\u001b[49m\n\u001b[1;32m    537\u001b[0m \u001b[38;5;28;01mif\u001b[39;00m backend_name \u001b[38;5;241m==\u001b[39m \u001b[38;5;124m\"\u001b[39m\u001b[38;5;124mtensorflow\u001b[39m\u001b[38;5;124m\"\u001b[39m:\n\u001b[1;32m    538\u001b[0m     outs \u001b[38;5;241m=\u001b[39m outputs_losses(inputs, targets, auxiliary_vars)\n",
      "File \u001b[0;32m~/miniconda3/envs/ml/lib/python3.11/site-packages/tensorflow/python/client/session.py:972\u001b[0m, in \u001b[0;36mBaseSession.run\u001b[0;34m(self, fetches, feed_dict, options, run_metadata)\u001b[0m\n\u001b[1;32m    969\u001b[0m run_metadata_ptr \u001b[38;5;241m=\u001b[39m tf_session\u001b[38;5;241m.\u001b[39mTF_NewBuffer() \u001b[38;5;28;01mif\u001b[39;00m run_metadata \u001b[38;5;28;01melse\u001b[39;00m \u001b[38;5;28;01mNone\u001b[39;00m\n\u001b[1;32m    971\u001b[0m \u001b[38;5;28;01mtry\u001b[39;00m:\n\u001b[0;32m--> 972\u001b[0m   result \u001b[38;5;241m=\u001b[39m \u001b[38;5;28;43mself\u001b[39;49m\u001b[38;5;241;43m.\u001b[39;49m\u001b[43m_run\u001b[49m\u001b[43m(\u001b[49m\u001b[38;5;28;43;01mNone\u001b[39;49;00m\u001b[43m,\u001b[49m\u001b[43m \u001b[49m\u001b[43mfetches\u001b[49m\u001b[43m,\u001b[49m\u001b[43m \u001b[49m\u001b[43mfeed_dict\u001b[49m\u001b[43m,\u001b[49m\u001b[43m \u001b[49m\u001b[43moptions_ptr\u001b[49m\u001b[43m,\u001b[49m\n\u001b[1;32m    973\u001b[0m \u001b[43m                     \u001b[49m\u001b[43mrun_metadata_ptr\u001b[49m\u001b[43m)\u001b[49m\n\u001b[1;32m    974\u001b[0m   \u001b[38;5;28;01mif\u001b[39;00m run_metadata:\n\u001b[1;32m    975\u001b[0m     proto_data \u001b[38;5;241m=\u001b[39m tf_session\u001b[38;5;241m.\u001b[39mTF_GetBuffer(run_metadata_ptr)\n",
      "File \u001b[0;32m~/miniconda3/envs/ml/lib/python3.11/site-packages/tensorflow/python/client/session.py:1215\u001b[0m, in \u001b[0;36mBaseSession._run\u001b[0;34m(self, handle, fetches, feed_dict, options, run_metadata)\u001b[0m\n\u001b[1;32m   1212\u001b[0m \u001b[38;5;66;03m# We only want to really perform the run if fetches or targets are provided,\u001b[39;00m\n\u001b[1;32m   1213\u001b[0m \u001b[38;5;66;03m# or if the call is a partial run that specifies feeds.\u001b[39;00m\n\u001b[1;32m   1214\u001b[0m \u001b[38;5;28;01mif\u001b[39;00m final_fetches \u001b[38;5;129;01mor\u001b[39;00m final_targets \u001b[38;5;129;01mor\u001b[39;00m (handle \u001b[38;5;129;01mand\u001b[39;00m feed_dict_tensor):\n\u001b[0;32m-> 1215\u001b[0m   results \u001b[38;5;241m=\u001b[39m \u001b[38;5;28;43mself\u001b[39;49m\u001b[38;5;241;43m.\u001b[39;49m\u001b[43m_do_run\u001b[49m\u001b[43m(\u001b[49m\u001b[43mhandle\u001b[49m\u001b[43m,\u001b[49m\u001b[43m \u001b[49m\u001b[43mfinal_targets\u001b[49m\u001b[43m,\u001b[49m\u001b[43m \u001b[49m\u001b[43mfinal_fetches\u001b[49m\u001b[43m,\u001b[49m\n\u001b[1;32m   1216\u001b[0m \u001b[43m                         \u001b[49m\u001b[43mfeed_dict_tensor\u001b[49m\u001b[43m,\u001b[49m\u001b[43m \u001b[49m\u001b[43moptions\u001b[49m\u001b[43m,\u001b[49m\u001b[43m \u001b[49m\u001b[43mrun_metadata\u001b[49m\u001b[43m)\u001b[49m\n\u001b[1;32m   1217\u001b[0m \u001b[38;5;28;01melse\u001b[39;00m:\n\u001b[1;32m   1218\u001b[0m   results \u001b[38;5;241m=\u001b[39m []\n",
      "File \u001b[0;32m~/miniconda3/envs/ml/lib/python3.11/site-packages/tensorflow/python/client/session.py:1395\u001b[0m, in \u001b[0;36mBaseSession._do_run\u001b[0;34m(self, handle, target_list, fetch_list, feed_dict, options, run_metadata)\u001b[0m\n\u001b[1;32m   1392\u001b[0m   \u001b[38;5;28;01mreturn\u001b[39;00m \u001b[38;5;28mself\u001b[39m\u001b[38;5;241m.\u001b[39m_call_tf_sessionprun(handle, feed_dict, fetch_list)\n\u001b[1;32m   1394\u001b[0m \u001b[38;5;28;01mif\u001b[39;00m handle \u001b[38;5;129;01mis\u001b[39;00m \u001b[38;5;28;01mNone\u001b[39;00m:\n\u001b[0;32m-> 1395\u001b[0m   \u001b[38;5;28;01mreturn\u001b[39;00m \u001b[38;5;28;43mself\u001b[39;49m\u001b[38;5;241;43m.\u001b[39;49m\u001b[43m_do_call\u001b[49m\u001b[43m(\u001b[49m\u001b[43m_run_fn\u001b[49m\u001b[43m,\u001b[49m\u001b[43m \u001b[49m\u001b[43mfeeds\u001b[49m\u001b[43m,\u001b[49m\u001b[43m \u001b[49m\u001b[43mfetches\u001b[49m\u001b[43m,\u001b[49m\u001b[43m \u001b[49m\u001b[43mtargets\u001b[49m\u001b[43m,\u001b[49m\u001b[43m \u001b[49m\u001b[43moptions\u001b[49m\u001b[43m,\u001b[49m\n\u001b[1;32m   1396\u001b[0m \u001b[43m                       \u001b[49m\u001b[43mrun_metadata\u001b[49m\u001b[43m)\u001b[49m\n\u001b[1;32m   1397\u001b[0m \u001b[38;5;28;01melse\u001b[39;00m:\n\u001b[1;32m   1398\u001b[0m   \u001b[38;5;28;01mreturn\u001b[39;00m \u001b[38;5;28mself\u001b[39m\u001b[38;5;241m.\u001b[39m_do_call(_prun_fn, handle, feeds, fetches)\n",
      "File \u001b[0;32m~/miniconda3/envs/ml/lib/python3.11/site-packages/tensorflow/python/client/session.py:1421\u001b[0m, in \u001b[0;36mBaseSession._do_call\u001b[0;34m(self, fn, *args)\u001b[0m\n\u001b[1;32m   1416\u001b[0m \u001b[38;5;28;01mif\u001b[39;00m \u001b[38;5;124m'\u001b[39m\u001b[38;5;124monly supports NHWC tensor format\u001b[39m\u001b[38;5;124m'\u001b[39m \u001b[38;5;129;01min\u001b[39;00m message:\n\u001b[1;32m   1417\u001b[0m   message \u001b[38;5;241m+\u001b[39m\u001b[38;5;241m=\u001b[39m (\u001b[38;5;124m'\u001b[39m\u001b[38;5;130;01m\\n\u001b[39;00m\u001b[38;5;124mA possible workaround: Try disabling Grappler optimizer\u001b[39m\u001b[38;5;124m'\u001b[39m\n\u001b[1;32m   1418\u001b[0m               \u001b[38;5;124m'\u001b[39m\u001b[38;5;130;01m\\n\u001b[39;00m\u001b[38;5;124mby modifying the config for creating the session eg.\u001b[39m\u001b[38;5;124m'\u001b[39m\n\u001b[1;32m   1419\u001b[0m               \u001b[38;5;124m'\u001b[39m\u001b[38;5;130;01m\\n\u001b[39;00m\u001b[38;5;124msession_config.graph_options.rewrite_options.\u001b[39m\u001b[38;5;124m'\u001b[39m\n\u001b[1;32m   1420\u001b[0m               \u001b[38;5;124m'\u001b[39m\u001b[38;5;124mdisable_meta_optimizer = True\u001b[39m\u001b[38;5;124m'\u001b[39m)\n\u001b[0;32m-> 1421\u001b[0m \u001b[38;5;28;01mraise\u001b[39;00m \u001b[38;5;28mtype\u001b[39m(e)(node_def, op, message)\n",
      "\u001b[0;31mInvalidArgumentError\u001b[0m: Graph execution error:\n\nDetected at node 'gradients_18/strided_slice_37_grad/StridedSliceGrad' defined at (most recent call last):\n    File \"<frozen runpy>\", line 198, in _run_module_as_main\n    File \"<frozen runpy>\", line 88, in _run_code\n    File \"/Users/arjundosajh/miniconda3/envs/ml/lib/python3.11/site-packages/ipykernel_launcher.py\", line 17, in <module>\n    File \"/Users/arjundosajh/miniconda3/envs/ml/lib/python3.11/site-packages/traitlets/config/application.py\", line 1077, in launch_instance\n    File \"/Users/arjundosajh/miniconda3/envs/ml/lib/python3.11/site-packages/ipykernel/kernelapp.py\", line 737, in start\n    File \"/Users/arjundosajh/miniconda3/envs/ml/lib/python3.11/site-packages/tornado/platform/asyncio.py\", line 195, in start\n    File \"/Users/arjundosajh/miniconda3/envs/ml/lib/python3.11/asyncio/base_events.py\", line 607, in run_forever\n    File \"/Users/arjundosajh/miniconda3/envs/ml/lib/python3.11/asyncio/base_events.py\", line 1922, in _run_once\n    File \"/Users/arjundosajh/miniconda3/envs/ml/lib/python3.11/asyncio/events.py\", line 80, in _run\n    File \"/Users/arjundosajh/miniconda3/envs/ml/lib/python3.11/site-packages/ipykernel/kernelbase.py\", line 524, in dispatch_queue\n    File \"/Users/arjundosajh/miniconda3/envs/ml/lib/python3.11/site-packages/ipykernel/kernelbase.py\", line 513, in process_one\n    File \"/Users/arjundosajh/miniconda3/envs/ml/lib/python3.11/site-packages/ipykernel/kernelbase.py\", line 418, in dispatch_shell\n    File \"/Users/arjundosajh/miniconda3/envs/ml/lib/python3.11/site-packages/ipykernel/kernelbase.py\", line 758, in execute_request\n    File \"/Users/arjundosajh/miniconda3/envs/ml/lib/python3.11/site-packages/ipykernel/ipkernel.py\", line 426, in do_execute\n    File \"/Users/arjundosajh/miniconda3/envs/ml/lib/python3.11/site-packages/ipykernel/zmqshell.py\", line 549, in run_cell\n    File \"/Users/arjundosajh/miniconda3/envs/ml/lib/python3.11/site-packages/IPython/core/interactiveshell.py\", line 3048, in run_cell\n    File \"/Users/arjundosajh/miniconda3/envs/ml/lib/python3.11/site-packages/IPython/core/interactiveshell.py\", line 3103, in _run_cell\n    File \"/Users/arjundosajh/miniconda3/envs/ml/lib/python3.11/site-packages/IPython/core/async_helpers.py\", line 129, in _pseudo_sync_runner\n    File \"/Users/arjundosajh/miniconda3/envs/ml/lib/python3.11/site-packages/IPython/core/interactiveshell.py\", line 3308, in run_cell_async\n    File \"/Users/arjundosajh/miniconda3/envs/ml/lib/python3.11/site-packages/IPython/core/interactiveshell.py\", line 3490, in run_ast_nodes\n    File \"/Users/arjundosajh/miniconda3/envs/ml/lib/python3.11/site-packages/IPython/core/interactiveshell.py\", line 3550, in run_code\n    File \"/var/folders/nv/y38dbr6d15s8w3kl0j4ysj700000gn/T/ipykernel_88938/4257598400.py\", line 2, in <module>\n    File \"/Users/arjundosajh/miniconda3/envs/ml/lib/python3.11/site-packages/deepxde/utils/internal.py\", line 22, in wrapper\n    File \"/Users/arjundosajh/miniconda3/envs/ml/lib/python3.11/site-packages/deepxde/model.py\", line 137, in compile\n    File \"/Users/arjundosajh/miniconda3/envs/ml/lib/python3.11/site-packages/deepxde/model.py\", line 186, in _compile_tensorflow_compat_v1\n    File \"/Users/arjundosajh/miniconda3/envs/ml/lib/python3.11/site-packages/deepxde/model.py\", line 172, in losses\n    File \"/Users/arjundosajh/miniconda3/envs/ml/lib/python3.11/site-packages/deepxde/data/data.py\", line 13, in losses_train\n    File \"/Users/arjundosajh/miniconda3/envs/ml/lib/python3.11/site-packages/deepxde/data/pde.py\", line 140, in losses\n    File \"/var/folders/nv/y38dbr6d15s8w3kl0j4ysj700000gn/T/ipykernel_88938/3352106437.py\", line 7, in ode_double_pendulum\n    File \"/var/folders/nv/y38dbr6d15s8w3kl0j4ysj700000gn/T/ipykernel_88938/3352106437.py\", line 7, in <listcomp>\n    File \"/Users/arjundosajh/miniconda3/envs/ml/lib/python3.11/site-packages/deepxde/gradients/gradients_reverse.py\", line 188, in jacobian\n    File \"/Users/arjundosajh/miniconda3/envs/ml/lib/python3.11/site-packages/deepxde/gradients/gradients_reverse.py\", line 160, in __call__\n    File \"/Users/arjundosajh/miniconda3/envs/ml/lib/python3.11/site-packages/deepxde/gradients/gradients_reverse.py\", line 48, in __call__\nNode: 'gradients_18/strided_slice_37_grad/StridedSliceGrad'\nshape of dy was [1,1] instead of [1010,1]\n\t [[{{node gradients_18/strided_slice_37_grad/StridedSliceGrad}}]]\n\nOriginal stack trace for 'gradients_18/strided_slice_37_grad/StridedSliceGrad':\n  File \"<frozen runpy>\", line 198, in _run_module_as_main\n  File \"<frozen runpy>\", line 88, in _run_code\n  File \"/Users/arjundosajh/miniconda3/envs/ml/lib/python3.11/site-packages/ipykernel_launcher.py\", line 17, in <module>\n  File \"/Users/arjundosajh/miniconda3/envs/ml/lib/python3.11/site-packages/traitlets/config/application.py\", line 1077, in launch_instance\n  File \"/Users/arjundosajh/miniconda3/envs/ml/lib/python3.11/site-packages/ipykernel/kernelapp.py\", line 737, in start\n  File \"/Users/arjundosajh/miniconda3/envs/ml/lib/python3.11/site-packages/tornado/platform/asyncio.py\", line 195, in start\n  File \"/Users/arjundosajh/miniconda3/envs/ml/lib/python3.11/asyncio/base_events.py\", line 607, in run_forever\n  File \"/Users/arjundosajh/miniconda3/envs/ml/lib/python3.11/asyncio/base_events.py\", line 1922, in _run_once\n  File \"/Users/arjundosajh/miniconda3/envs/ml/lib/python3.11/asyncio/events.py\", line 80, in _run\n  File \"/Users/arjundosajh/miniconda3/envs/ml/lib/python3.11/site-packages/ipykernel/kernelbase.py\", line 524, in dispatch_queue\n  File \"/Users/arjundosajh/miniconda3/envs/ml/lib/python3.11/site-packages/ipykernel/kernelbase.py\", line 513, in process_one\n  File \"/Users/arjundosajh/miniconda3/envs/ml/lib/python3.11/site-packages/ipykernel/kernelbase.py\", line 418, in dispatch_shell\n  File \"/Users/arjundosajh/miniconda3/envs/ml/lib/python3.11/site-packages/ipykernel/kernelbase.py\", line 758, in execute_request\n  File \"/Users/arjundosajh/miniconda3/envs/ml/lib/python3.11/site-packages/ipykernel/ipkernel.py\", line 426, in do_execute\n  File \"/Users/arjundosajh/miniconda3/envs/ml/lib/python3.11/site-packages/ipykernel/zmqshell.py\", line 549, in run_cell\n  File \"/Users/arjundosajh/miniconda3/envs/ml/lib/python3.11/site-packages/IPython/core/interactiveshell.py\", line 3048, in run_cell\n  File \"/Users/arjundosajh/miniconda3/envs/ml/lib/python3.11/site-packages/IPython/core/interactiveshell.py\", line 3103, in _run_cell\n  File \"/Users/arjundosajh/miniconda3/envs/ml/lib/python3.11/site-packages/IPython/core/async_helpers.py\", line 129, in _pseudo_sync_runner\n  File \"/Users/arjundosajh/miniconda3/envs/ml/lib/python3.11/site-packages/IPython/core/interactiveshell.py\", line 3308, in run_cell_async\n  File \"/Users/arjundosajh/miniconda3/envs/ml/lib/python3.11/site-packages/IPython/core/interactiveshell.py\", line 3490, in run_ast_nodes\n  File \"/Users/arjundosajh/miniconda3/envs/ml/lib/python3.11/site-packages/IPython/core/interactiveshell.py\", line 3550, in run_code\n  File \"/var/folders/nv/y38dbr6d15s8w3kl0j4ysj700000gn/T/ipykernel_88938/4257598400.py\", line 2, in <module>\n  File \"/Users/arjundosajh/miniconda3/envs/ml/lib/python3.11/site-packages/deepxde/utils/internal.py\", line 22, in wrapper\n  File \"/Users/arjundosajh/miniconda3/envs/ml/lib/python3.11/site-packages/deepxde/model.py\", line 137, in compile\n  File \"/Users/arjundosajh/miniconda3/envs/ml/lib/python3.11/site-packages/deepxde/model.py\", line 186, in _compile_tensorflow_compat_v1\n  File \"/Users/arjundosajh/miniconda3/envs/ml/lib/python3.11/site-packages/deepxde/model.py\", line 172, in losses\n  File \"/Users/arjundosajh/miniconda3/envs/ml/lib/python3.11/site-packages/deepxde/data/data.py\", line 13, in losses_train\n  File \"/Users/arjundosajh/miniconda3/envs/ml/lib/python3.11/site-packages/deepxde/data/pde.py\", line 140, in losses\n  File \"/var/folders/nv/y38dbr6d15s8w3kl0j4ysj700000gn/T/ipykernel_88938/3352106437.py\", line 7, in ode_double_pendulum\n  File \"/var/folders/nv/y38dbr6d15s8w3kl0j4ysj700000gn/T/ipykernel_88938/3352106437.py\", line 7, in <listcomp>\n  File \"/Users/arjundosajh/miniconda3/envs/ml/lib/python3.11/site-packages/deepxde/gradients/gradients_reverse.py\", line 188, in jacobian\n  File \"/Users/arjundosajh/miniconda3/envs/ml/lib/python3.11/site-packages/deepxde/gradients/gradients_reverse.py\", line 160, in __call__\n  File \"/Users/arjundosajh/miniconda3/envs/ml/lib/python3.11/site-packages/deepxde/gradients/gradients_reverse.py\", line 48, in __call__\n  File \"/Users/arjundosajh/miniconda3/envs/ml/lib/python3.11/site-packages/tensorflow/python/ops/gradients_impl.py\", line 177, in gradients\n  File \"/Users/arjundosajh/miniconda3/envs/ml/lib/python3.11/site-packages/tensorflow/python/ops/gradients_util.py\", line 733, in _GradientsHelper\n  File \"/Users/arjundosajh/miniconda3/envs/ml/lib/python3.11/site-packages/tensorflow/python/ops/gradients_util.py\", line 365, in _MaybeCompile\n  File \"/Users/arjundosajh/miniconda3/envs/ml/lib/python3.11/site-packages/tensorflow/python/ops/gradients_util.py\", line 734, in <lambda>\n  File \"/Users/arjundosajh/miniconda3/envs/ml/lib/python3.11/site-packages/tensorflow/python/ops/array_grad.py\", line 291, in _StridedSliceGrad\n  File \"/Users/arjundosajh/miniconda3/envs/ml/lib/python3.11/site-packages/tensorflow/python/ops/gen_array_ops.py\", line 11165, in strided_slice_grad\n  File \"/Users/arjundosajh/miniconda3/envs/ml/lib/python3.11/site-packages/tensorflow/python/framework/op_def_library.py\", line 796, in _apply_op_helper\n  File \"/Users/arjundosajh/miniconda3/envs/ml/lib/python3.11/site-packages/tensorflow/python/framework/ops.py\", line 2652, in _create_op_internal\n  File \"/Users/arjundosajh/miniconda3/envs/ml/lib/python3.11/site-packages/tensorflow/python/framework/ops.py\", line 1160, in from_node_def\n\n...which was originally created as op 'strided_slice_37', defined at:\n  File \"<frozen runpy>\", line 198, in _run_module_as_main\n[elided 26 identical lines from previous traceback]\n  File \"/Users/arjundosajh/miniconda3/envs/ml/lib/python3.11/site-packages/deepxde/data/pde.py\", line 140, in losses\n  File \"/var/folders/nv/y38dbr6d15s8w3kl0j4ysj700000gn/T/ipykernel_88938/3352106437.py\", line 3, in ode_double_pendulum\n  File \"/Users/arjundosajh/miniconda3/envs/ml/lib/python3.11/site-packages/tensorflow/python/util/traceback_utils.py\", line 150, in error_handler\n  File \"/Users/arjundosajh/miniconda3/envs/ml/lib/python3.11/site-packages/tensorflow/python/util/dispatch.py\", line 1260, in op_dispatch_handler\n  File \"/Users/arjundosajh/miniconda3/envs/ml/lib/python3.11/site-packages/tensorflow/python/ops/array_ops.py\", line 1156, in _slice_helper\n  File \"/Users/arjundosajh/miniconda3/envs/ml/lib/python3.11/site-packages/tensorflow/python/util/traceback_utils.py\", line 150, in error_handler\n  File \"/Users/arjundosajh/miniconda3/envs/ml/lib/python3.11/site-packages/tensorflow/python/util/dispatch.py\", line 1260, in op_dispatch_handler\n  File \"/Users/arjundosajh/miniconda3/envs/ml/lib/python3.11/site-packages/tensorflow/python/ops/array_ops.py\", line 1329, in strided_slice\n  File \"/Users/arjundosajh/miniconda3/envs/ml/lib/python3.11/site-packages/tensorflow/python/ops/gen_array_ops.py\", line 10964, in strided_slice\n  File \"/Users/arjundosajh/miniconda3/envs/ml/lib/python3.11/site-packages/tensorflow/python/framework/op_def_library.py\", line 796, in _apply_op_helper\n  File \"/Users/arjundosajh/miniconda3/envs/ml/lib/python3.11/site-packages/tensorflow/python/framework/ops.py\", line 2652, in _create_op_internal\n  File \"/Users/arjundosajh/miniconda3/envs/ml/lib/python3.11/site-packages/tensorflow/python/framework/ops.py\", line 1160, in from_node_def\n"
     ]
    }
   ],
   "source": [
    "losshistory, train_state = model.train(display_every=100, iterations=n_adam)"
   ]
  },
  {
   "cell_type": "code",
   "execution_count": 26,
   "metadata": {},
   "outputs": [
    {
     "ename": "ValueError",
     "evalue": "not enough values to unpack (expected 4, got 3)",
     "output_type": "error",
     "traceback": [
      "\u001b[0;31m---------------------------------------------------------------------------\u001b[0m",
      "\u001b[0;31mValueError\u001b[0m                                Traceback (most recent call last)",
      "Cell \u001b[0;32mIn[26], line 1\u001b[0m\n\u001b[0;32m----> 1\u001b[0m a1,a2,a3,a4 \u001b[38;5;241m=\u001b[39m [\u001b[38;5;241m1\u001b[39m,\u001b[38;5;241m2\u001b[39m,\u001b[38;5;241m3\u001b[39m]\n",
      "\u001b[0;31mValueError\u001b[0m: not enough values to unpack (expected 4, got 3)"
     ]
    }
   ],
   "source": [
    "a1,a2,a3,a4 = [1,2,3]"
   ]
  },
  {
   "cell_type": "code",
   "execution_count": 27,
   "metadata": {},
   "outputs": [
    {
     "ename": "ValueError",
     "evalue": "i=0 is not valid.",
     "output_type": "error",
     "traceback": [
      "\u001b[0;31m---------------------------------------------------------------------------\u001b[0m",
      "\u001b[0;31mValueError\u001b[0m                                Traceback (most recent call last)",
      "Cell \u001b[0;32mIn[27], line 4\u001b[0m\n\u001b[1;32m      1\u001b[0m t \u001b[38;5;241m=\u001b[39m tf\u001b[38;5;241m.\u001b[39mconvert_to_tensor([[\u001b[38;5;241m0.1\u001b[39m]])\n\u001b[1;32m      2\u001b[0m u \u001b[38;5;241m=\u001b[39m tf\u001b[38;5;241m.\u001b[39mconvert_to_tensor([[\u001b[38;5;241m0.2\u001b[39m, \u001b[38;5;241m0.3\u001b[39m], [\u001b[38;5;241m0.2\u001b[39m, \u001b[38;5;241m0.3\u001b[39m], [\u001b[38;5;241m0.2\u001b[39m, \u001b[38;5;241m0.3\u001b[39m], [\u001b[38;5;241m0.2\u001b[39m, \u001b[38;5;241m0.3\u001b[39m]])\n\u001b[0;32m----> 4\u001b[0m \u001b[38;5;28mprint\u001b[39m(\u001b[38;5;124mf\u001b[39m\u001b[38;5;124m\"\u001b[39m\u001b[38;5;124mValue of residual is: \u001b[39m\u001b[38;5;132;01m{\u001b[39;00m\u001b[43mode_double_pendulum\u001b[49m\u001b[43m(\u001b[49m\u001b[43mt\u001b[49m\u001b[43m,\u001b[49m\u001b[38;5;250;43m \u001b[39;49m\u001b[43mu\u001b[49m\u001b[43m)\u001b[49m\u001b[38;5;132;01m}\u001b[39;00m\u001b[38;5;124m\"\u001b[39m)\n",
      "Cell \u001b[0;32mIn[14], line 7\u001b[0m, in \u001b[0;36mode_double_pendulum\u001b[0;34m(t, u)\u001b[0m\n\u001b[1;32m      4\u001b[0m u_force \u001b[38;5;241m=\u001b[39m u_max \u001b[38;5;241m*\u001b[39m tf\u001b[38;5;241m.\u001b[39mtanh(u_norm)  \u001b[38;5;66;03m# Scale and bound the control input\u001b[39;00m\n\u001b[1;32m      6\u001b[0m \u001b[38;5;66;03m# Compute time derivatives\u001b[39;00m\n\u001b[0;32m----> 7\u001b[0m xdot_t, q1dot_t, q2dot_t \u001b[38;5;241m=\u001b[39m \u001b[43m[\u001b[49m\u001b[43mdde\u001b[49m\u001b[38;5;241;43m.\u001b[39;49m\u001b[43mgrad\u001b[49m\u001b[38;5;241;43m.\u001b[39;49m\u001b[43mjacobian\u001b[49m\u001b[43m(\u001b[49m\u001b[43mvar\u001b[49m\u001b[43m,\u001b[49m\u001b[43m \u001b[49m\u001b[43mt\u001b[49m\u001b[43m)\u001b[49m\u001b[43m \u001b[49m\u001b[38;5;28;43;01mfor\u001b[39;49;00m\u001b[43m \u001b[49m\u001b[43mvar\u001b[49m\u001b[43m \u001b[49m\u001b[38;5;129;43;01min\u001b[39;49;00m\u001b[43m \u001b[49m\u001b[43m[\u001b[49m\u001b[43mx\u001b[49m\u001b[43m,\u001b[49m\u001b[43m \u001b[49m\u001b[43mq1\u001b[49m\u001b[43m,\u001b[49m\u001b[43m \u001b[49m\u001b[43mq2\u001b[49m\u001b[43m]\u001b[49m\u001b[43m]\u001b[49m\n\u001b[1;32m      8\u001b[0m xdot_tt, q1dot_tt, q2dot_tt \u001b[38;5;241m=\u001b[39m [dde\u001b[38;5;241m.\u001b[39mgrad\u001b[38;5;241m.\u001b[39mjacobian(var_t, t) \u001b[38;5;28;01mfor\u001b[39;00m var_t \u001b[38;5;129;01min\u001b[39;00m [xdot_t, q1dot_t, q2dot_t]]\n\u001b[1;32m     10\u001b[0m \u001b[38;5;66;03m# Compute intermediates\u001b[39;00m\n",
      "Cell \u001b[0;32mIn[14], line 7\u001b[0m, in \u001b[0;36m<listcomp>\u001b[0;34m(.0)\u001b[0m\n\u001b[1;32m      4\u001b[0m u_force \u001b[38;5;241m=\u001b[39m u_max \u001b[38;5;241m*\u001b[39m tf\u001b[38;5;241m.\u001b[39mtanh(u_norm)  \u001b[38;5;66;03m# Scale and bound the control input\u001b[39;00m\n\u001b[1;32m      6\u001b[0m \u001b[38;5;66;03m# Compute time derivatives\u001b[39;00m\n\u001b[0;32m----> 7\u001b[0m xdot_t, q1dot_t, q2dot_t \u001b[38;5;241m=\u001b[39m [\u001b[43mdde\u001b[49m\u001b[38;5;241;43m.\u001b[39;49m\u001b[43mgrad\u001b[49m\u001b[38;5;241;43m.\u001b[39;49m\u001b[43mjacobian\u001b[49m\u001b[43m(\u001b[49m\u001b[43mvar\u001b[49m\u001b[43m,\u001b[49m\u001b[43m \u001b[49m\u001b[43mt\u001b[49m\u001b[43m)\u001b[49m \u001b[38;5;28;01mfor\u001b[39;00m var \u001b[38;5;129;01min\u001b[39;00m [x, q1, q2]]\n\u001b[1;32m      8\u001b[0m xdot_tt, q1dot_tt, q2dot_tt \u001b[38;5;241m=\u001b[39m [dde\u001b[38;5;241m.\u001b[39mgrad\u001b[38;5;241m.\u001b[39mjacobian(var_t, t) \u001b[38;5;28;01mfor\u001b[39;00m var_t \u001b[38;5;129;01min\u001b[39;00m [xdot_t, q1dot_t, q2dot_t]]\n\u001b[1;32m     10\u001b[0m \u001b[38;5;66;03m# Compute intermediates\u001b[39;00m\n",
      "File \u001b[0;32m~/miniconda3/envs/ml/lib/python3.11/site-packages/deepxde/gradients/gradients_reverse.py:188\u001b[0m, in \u001b[0;36mjacobian\u001b[0;34m(ys, xs, i, j)\u001b[0m\n\u001b[1;32m    167\u001b[0m \u001b[38;5;28;01mdef\u001b[39;00m \u001b[38;5;21mjacobian\u001b[39m(ys, xs, i\u001b[38;5;241m=\u001b[39m\u001b[38;5;241m0\u001b[39m, j\u001b[38;5;241m=\u001b[39m\u001b[38;5;28;01mNone\u001b[39;00m):\n\u001b[1;32m    168\u001b[0m \u001b[38;5;250m    \u001b[39m\u001b[38;5;124;03m\"\"\"Compute Jacobian matrix J: J[i][j] = dy_i / dx_j, where i = 0, ..., dim_y - 1 and\u001b[39;00m\n\u001b[1;32m    169\u001b[0m \u001b[38;5;124;03m    j = 0, ..., dim_x - 1.\u001b[39;00m\n\u001b[1;32m    170\u001b[0m \n\u001b[0;32m   (...)\u001b[0m\n\u001b[1;32m    186\u001b[0m \u001b[38;5;124;03m        y_i, i.e., J[`i`].\u001b[39;00m\n\u001b[1;32m    187\u001b[0m \u001b[38;5;124;03m    \"\"\"\u001b[39;00m\n\u001b[0;32m--> 188\u001b[0m     \u001b[38;5;28;01mreturn\u001b[39;00m \u001b[43mjacobian\u001b[49m\u001b[38;5;241;43m.\u001b[39;49m\u001b[43m_Jacobians\u001b[49m\u001b[43m(\u001b[49m\u001b[43mys\u001b[49m\u001b[43m,\u001b[49m\u001b[43m \u001b[49m\u001b[43mxs\u001b[49m\u001b[43m,\u001b[49m\u001b[43m \u001b[49m\u001b[43mi\u001b[49m\u001b[38;5;241;43m=\u001b[39;49m\u001b[43mi\u001b[49m\u001b[43m,\u001b[49m\u001b[43m \u001b[49m\u001b[43mj\u001b[49m\u001b[38;5;241;43m=\u001b[39;49m\u001b[43mj\u001b[49m\u001b[43m)\u001b[49m\n",
      "File \u001b[0;32m~/miniconda3/envs/ml/lib/python3.11/site-packages/deepxde/gradients/gradients_reverse.py:160\u001b[0m, in \u001b[0;36mJacobians.__call__\u001b[0;34m(self, ys, xs, i, j)\u001b[0m\n\u001b[1;32m    158\u001b[0m \u001b[38;5;28;01mif\u001b[39;00m key \u001b[38;5;129;01mnot\u001b[39;00m \u001b[38;5;129;01min\u001b[39;00m \u001b[38;5;28mself\u001b[39m\u001b[38;5;241m.\u001b[39mJs:\n\u001b[1;32m    159\u001b[0m     \u001b[38;5;28mself\u001b[39m\u001b[38;5;241m.\u001b[39mJs[key] \u001b[38;5;241m=\u001b[39m Jacobian(ys, xs)\n\u001b[0;32m--> 160\u001b[0m \u001b[38;5;28;01mreturn\u001b[39;00m \u001b[38;5;28;43mself\u001b[39;49m\u001b[38;5;241;43m.\u001b[39;49m\u001b[43mJs\u001b[49m\u001b[43m[\u001b[49m\u001b[43mkey\u001b[49m\u001b[43m]\u001b[49m\u001b[43m(\u001b[49m\u001b[43mi\u001b[49m\u001b[43m,\u001b[49m\u001b[43m \u001b[49m\u001b[43mj\u001b[49m\u001b[43m)\u001b[49m\n",
      "File \u001b[0;32m~/miniconda3/envs/ml/lib/python3.11/site-packages/deepxde/gradients/gradients_reverse.py:41\u001b[0m, in \u001b[0;36mJacobian.__call__\u001b[0;34m(self, i, j)\u001b[0m\n\u001b[1;32m     37\u001b[0m \u001b[38;5;250m\u001b[39m\u001b[38;5;124;03m\"\"\"Returns J[`i`][`j`]. If `j` is ``None``, returns the gradient of y_i, i.e.,\u001b[39;00m\n\u001b[1;32m     38\u001b[0m \u001b[38;5;124;03mJ[i].\u001b[39;00m\n\u001b[1;32m     39\u001b[0m \u001b[38;5;124;03m\"\"\"\u001b[39;00m\n\u001b[1;32m     40\u001b[0m \u001b[38;5;28;01mif\u001b[39;00m \u001b[38;5;129;01mnot\u001b[39;00m \u001b[38;5;241m0\u001b[39m \u001b[38;5;241m<\u001b[39m\u001b[38;5;241m=\u001b[39m i \u001b[38;5;241m<\u001b[39m \u001b[38;5;28mself\u001b[39m\u001b[38;5;241m.\u001b[39mdim_y:\n\u001b[0;32m---> 41\u001b[0m     \u001b[38;5;28;01mraise\u001b[39;00m \u001b[38;5;167;01mValueError\u001b[39;00m(\u001b[38;5;124m\"\u001b[39m\u001b[38;5;124mi=\u001b[39m\u001b[38;5;132;01m{}\u001b[39;00m\u001b[38;5;124m is not valid.\u001b[39m\u001b[38;5;124m\"\u001b[39m\u001b[38;5;241m.\u001b[39mformat(i))\n\u001b[1;32m     42\u001b[0m \u001b[38;5;28;01mif\u001b[39;00m j \u001b[38;5;129;01mis\u001b[39;00m \u001b[38;5;129;01mnot\u001b[39;00m \u001b[38;5;28;01mNone\u001b[39;00m \u001b[38;5;129;01mand\u001b[39;00m \u001b[38;5;129;01mnot\u001b[39;00m \u001b[38;5;241m0\u001b[39m \u001b[38;5;241m<\u001b[39m\u001b[38;5;241m=\u001b[39m j \u001b[38;5;241m<\u001b[39m \u001b[38;5;28mself\u001b[39m\u001b[38;5;241m.\u001b[39mdim_x:\n\u001b[1;32m     43\u001b[0m     \u001b[38;5;28;01mraise\u001b[39;00m \u001b[38;5;167;01mValueError\u001b[39;00m(\u001b[38;5;124m\"\u001b[39m\u001b[38;5;124mj=\u001b[39m\u001b[38;5;132;01m{}\u001b[39;00m\u001b[38;5;124m is not valid.\u001b[39m\u001b[38;5;124m\"\u001b[39m\u001b[38;5;241m.\u001b[39mformat(j))\n",
      "\u001b[0;31mValueError\u001b[0m: i=0 is not valid."
     ]
    }
   ],
   "source": [
    "t = tf.convert_to_tensor([[0.1]])\n",
    "u = tf.convert_to_tensor([[0.2, 0.3], [0.2, 0.3], [0.2, 0.3], [0.2, 0.3]])\n",
    "\n",
    "print(f\"Value of residual is: {ode_double_pendulum(t, u)}\")"
   ]
  },
  {
   "cell_type": "code",
   "execution_count": null,
   "metadata": {},
   "outputs": [],
   "source": [
    "# # original ODE function:\n",
    "\n",
    "# def ode_double_pendulum(t, u):\n",
    "#     x, q1, q2, u_norm = u[:, 0:1], u[:, 1:2], u[:, 2:3], u[:, 3:4]\n",
    "#     u_force = u_max * tf.tanh(u_norm)  # Scale and bound the control input\n",
    "\n",
    "#     # Compute time derivatives\n",
    "#     xdot_t = dde.grad.jacobian(x, t)\n",
    "#     q1dot_t = dde.grad.jacobian(q1, t)\n",
    "#     q2dot_t = dde.grad.jacobian(q2, t)\n",
    "\n",
    "#     xdot_tt = dde.grad.jacobian(xdot_t, t)\n",
    "#     q1dot_tt = dde.grad.jacobian(q1dot_t, t)\n",
    "#     q2dot_tt = dde.grad.jacobian(q2dot_t, t)\n",
    "\n",
    "#     # Intermediates\n",
    "#     h1 = mc + m1 + m2\n",
    "#     h2 = m1 * LC1 + m2 * L1\n",
    "#     h3 = m2 * LC2\n",
    "#     h4 = m1 * LC1**2 + m2 * L1**2 + I1\n",
    "#     h5 = m2 * LC2 * L1\n",
    "#     h6 = m2 * LC2**2 + I2\n",
    "#     h7 = m1 * LC1 * g + m2 * L1 * g\n",
    "#     h8 = m2 * LC2 * g\n",
    "\n",
    "#     # Matrices\n",
    "#     M = tf.constant([[h1, h2 * tf.cos(q1), h3 * tf.cos(q2)],\n",
    "#                      [h2 * tf.cos(q1), h4, h5 * tf.cos(q1 - q2)],\n",
    "#                      [h3 * tf.cos(q2), h5 * tf.cos(q1 - q2), h6]])\n",
    "\n",
    "    \n",
    "#     C = tf.constant([[Bc, -h2 * q1dot_t * tf.sin(q1), -h3 * q2dot_t * tf.sin(q2)],\n",
    "#                      [0, B1 + B2, h5 * q2dot_t * tf.sin(q1 - q2) - B2],\n",
    "#                      [0, -h5 * q1dot_t * tf.sin(q1 - q2) - B2, B2]])\n",
    "    \n",
    "\n",
    "#     G = tf.constant([0, -h7 * tf.sin(q1), -h8 * tf.sin(q2)])\n",
    "#     U = tf.constant([u_force, 0, 0])\n",
    "#     DQ = tf.stack([xdot_t, q1dot_t, q2dot_t], axis=1)\n",
    "\n",
    "#     CDQ = tf.matmul(C, tf.transpose(DQ))\n",
    "#     b = tf.stack([xdot_tt, q1dot_tt, q2dot_tt], axis=1)\n",
    "#     Mb = tf.matmul(M, tf.transpose(b))\n",
    "\n",
    "#     # Equations of Motion (residuals)\n",
    "#     residual = Mb - (U - CDQ - G)\n",
    "#     return residual"
   ]
  }
 ],
 "metadata": {
  "kernelspec": {
   "display_name": "ml",
   "language": "python",
   "name": "python3"
  },
  "language_info": {
   "codemirror_mode": {
    "name": "ipython",
    "version": 3
   },
   "file_extension": ".py",
   "mimetype": "text/x-python",
   "name": "python",
   "nbconvert_exporter": "python",
   "pygments_lexer": "ipython3",
   "version": "3.11.7"
  }
 },
 "nbformat": 4,
 "nbformat_minor": 2
}
