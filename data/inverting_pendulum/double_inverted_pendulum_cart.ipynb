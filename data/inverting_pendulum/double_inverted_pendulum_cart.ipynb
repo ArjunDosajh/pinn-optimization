{
 "cells": [
  {
   "cell_type": "code",
   "execution_count": 56,
   "metadata": {},
   "outputs": [],
   "source": [
    "import deepxde as dde\n",
    "import numpy as np\n",
    "import tensorflow as tf\n",
    "import matplotlib.pyplot as plt"
   ]
  },
  {
   "cell_type": "code",
   "execution_count": 57,
   "metadata": {},
   "outputs": [],
   "source": [
    "# Set random seed\n",
    "seed = 0\n",
    "np.random.seed(seed)\n",
    "tf.random.set_seed(seed)\n",
    "dde.backend.tf.random.set_random_seed(seed)\n",
    "\n",
    "# Set hyperparameters\n",
    "n_output = 4 # postition (x), theta 1, theta 2, force on cart (u_norm)\n",
    "\n",
    "num_domain = 1000\n",
    "\n",
    "n_adam = 5000\n",
    "\n",
    "lr = 2e-2 # for Adam\n",
    "loss_weights = [1. for _ in range(9)]\n",
    "\n",
    "# Set physical parameters\n",
    "tmin, tmax = 0.0, 10.0\n",
    "xmin, xmax = -5.0, 5.0\n",
    "target = -1. # both theta1 and theta2 should be close to 180 degrees\n",
    "\n",
    "# Define constants\n",
    "m1, m2, mc, L1, L2, LC1, LC2, I1, I2, g = [0.1, 0.1, 1, 0.5, 0.5, 0.25, 0.25, 0.01, 0.01, 9.81]  # Example values\n",
    "Bc, B1, B2 = [0.5, 0.001, 0.001]  # Damping coefficients\n",
    "u_max = 10  # Maximum force"
   ]
  },
  {
   "cell_type": "code",
   "execution_count": 58,
   "metadata": {},
   "outputs": [],
   "source": [
    "class Custom_BC(dde.icbc.BC):\n",
    "    def __init__(self, geom, func, on_boundary, component=0):\n",
    "        super().__init__(geom, on_boundary, component)\n",
    "        self.func = dde.icbc.boundary_conditions.npfunc_range_autocache(dde.utils.return_tensor(func))\n",
    "        \n",
    "    def error(self, X, inputs, outputs, beg, end, aux_var=None):\n",
    "        # beg and end specify the current batch range\n",
    "        values = self.func(X, beg, end, aux_var)\n",
    "        theta1 = outputs[:, 1:2]\n",
    "        theta2 = outputs[:, 2:3]\n",
    "        goal1 = tf.cos(theta1)\n",
    "        goal2 = tf.cos(theta2)\n",
    "\n",
    "        return ((goal1[beg:end, self.component:self.component + 1] - values) ** 2) + ((goal2[beg:end, self.component:self.component + 1] - values) ** 2)"
   ]
  },
  {
   "cell_type": "code",
   "execution_count": 59,
   "metadata": {},
   "outputs": [],
   "source": [
    "def ode_double_pendulum(t, u):\n",
    "    # Unpack the input tensor\n",
    "    x, q1, q2, u_norm = u[:, 0:1], u[:, 1:2], u[:, 2:3], u[:, 3:4]\n",
    "    # u_force = u_max * tf.tanh(u_norm)  # Scale and bound the control input\n",
    "\n",
    "    # # Compute time derivatives\n",
    "    # xdot_t, q1dot_t, q2dot_t = [dde.grad.jacobian(var, t) for var in [x, q1, q2]]\n",
    "    # xdot_tt, q1dot_tt, q2dot_tt = [dde.grad.jacobian(var_t, t) for var_t in [xdot_t, q1dot_t, q2dot_t]]\n",
    "\n",
    "    # # Compute intermediates\n",
    "    # h = [tf.reshape(var, (-1, 1)) for var in [mc + m1 + m2, m1 * LC1 + m2 * L1, m2 * LC2, m1 * LC1**2 + m2 * L1**2 + I1, m2 * LC2 * L1, m2 * LC2**2 + I2, m1 * LC1 * g + m2 * L1 * g, m2 * LC2 * g]]\n",
    "    # B_reshaped = [tf.reshape(B, (-1, 1)) for B in [Bc, B1, B2]]\n",
    "\n",
    "    # # Compute matrices\n",
    "    # M = tf.stack([[h[0], h[1] * tf.cos(q1), h[2] * tf.cos(q2)],\n",
    "    #               [h[1] * tf.cos(q1), h[3], h[4] * tf.cos(q1 - q2)],\n",
    "    #               [h[2] * tf.cos(q2), h[4] * tf.cos(q1 - q2), h[5]]], axis=1)\n",
    "\n",
    "    # zero_tensor = tf.zeros_like(B_reshaped[0])\n",
    "    # C = tf.stack([[B_reshaped[0], -h[1] * q1dot_t * tf.sin(q1), -h[2] * q2dot_t * tf.sin(q2)],\n",
    "    #               [zero_tensor, B_reshaped[1] + B_reshaped[2], h[4] * q2dot_t * tf.sin(q1 - q2) - B_reshaped[2]],\n",
    "    #               [zero_tensor, -h[4] * q1dot_t * tf.sin(q1 - q2) - B_reshaped[2], B_reshaped[2]]], axis=1)\n",
    "\n",
    "    # G = tf.stack([tf.zeros_like(h[6]), -h[6] * tf.sin(q1), -h[7] * tf.sin(q2)], axis=0)\n",
    "    # U = tf.stack([u_force, tf.zeros_like(u_force), tf.zeros_like(u_force)], axis=1)\n",
    "\n",
    "    # # Compute DQ, CDQ, b, and Mb\n",
    "    # DQ = tf.expand_dims(tf.stack([xdot_t, q1dot_t, q2dot_t], axis=0), axis=-1)\n",
    "    # CDQ = tf.matmul(C, DQ)\n",
    "    # b = tf.expand_dims(tf.stack([xdot_tt, q1dot_tt, q2dot_tt], axis=0), axis=-1)\n",
    "    # Mb = tf.matmul(M, b)\n",
    "\n",
    "    # # Compute residuals\n",
    "    # residual = Mb - (U - CDQ - G)\n",
    "    # return residual\n",
    "    return tf.zeros_like(u)"
   ]
  },
  {
   "cell_type": "code",
   "execution_count": 60,
   "metadata": {},
   "outputs": [],
   "source": [
    "def initial(_, on_initial):\n",
    "    return on_initial\n",
    "\n",
    "def boundary_left(t, on_boundary):\n",
    "    '''\n",
    "        on_boundary is passed here by deepxde and it serves as an intial filter which tells if a point lies on the boundary or not\n",
    "\n",
    "        np.isclose(t[0], tmin) checks if the point is on the left boundary or not and this is a second filter\n",
    "    '''\n",
    "\n",
    "    return on_boundary * np.isclose(t[0], tmin)\n",
    "\n",
    "def boundary_right(t, on_boundary):\n",
    "    '''\n",
    "        on_boundary is passed here by deepxde and it serves as an intial filter which tells if a point lies on the boundary or not\n",
    "\n",
    "        np.isclose(t[0], tmax) checks if the point is on the right boundary or not and this is a second filter\n",
    "    '''\n",
    "\n",
    "    return on_boundary * np.isclose(t[0], tmax)"
   ]
  },
  {
   "cell_type": "code",
   "execution_count": 61,
   "metadata": {},
   "outputs": [],
   "source": [
    "geom = dde.geometry.TimeDomain(tmin, tmax)\n",
    "\n",
    "# INITIAL CONDITIONS\n",
    "position_initial = dde.icbc.IC(geom, lambda t: np.array([0.]), initial, component=0) # posittion = 0 at time = 0\n",
    "theta2_initial = dde.icbc.IC(geom, lambda t: np.array([0.]), initial, component=1) # theta1 = 0 at time = 0\n",
    "theta1_initial = dde.icbc.IC(geom, lambda t: np.array([0.]), initial, component=2) # theta2 = 0 at time = 0\n",
    "force_initial = dde.icbc.IC(geom, lambda t: np.array([0.]), initial, component=3) # force = 0 at time = 0\n",
    "\n",
    "# NEUMANN CONDITIONS\n",
    "velocity_initial = dde.icbc.NeumannBC(geom, lambda t: np.array([0.]), boundary_left, component=0) # cart velocity 1 = 0 at time = 0\n",
    "angular_velocity1_initial = dde.icbc.NeumannBC(geom, lambda t: np.array([0.]), boundary_left, component=1) # angular velocity 1 = 0 at time = 0\n",
    "angular_velocity2_initial = dde.icbc.NeumannBC(geom, lambda t: np.array([0.]), boundary_left, component=2) # angular velocity 2 = 0 at time = 0\n",
    "\n",
    "# CUSTOM BOUNDARY CONDITIONS - GOAL AND POSITION RANGE\n",
    "goal = Custom_BC(geom, lambda t: np.array([target]), boundary_right) # custom ICBC\n",
    "\n",
    "losses = [position_initial, theta1_initial, theta2_initial, force_initial, velocity_initial, angular_velocity1_initial, angular_velocity2_initial, goal]\n",
    "\n",
    "data = dde.data.PDE(geom, ode_double_pendulum, losses, num_domain=num_domain, num_boundary=2)\n",
    "# dataset size here will be 1002 (1000 domain + 2 boundary)"
   ]
  },
  {
   "cell_type": "code",
   "execution_count": 62,
   "metadata": {},
   "outputs": [],
   "source": [
    "net = dde.nn.FNN([1] + [64] * 3 + [n_output], \"tanh\", \"Glorot normal\")"
   ]
  },
  {
   "cell_type": "code",
   "execution_count": 63,
   "metadata": {},
   "outputs": [],
   "source": [
    "resampler = dde.callbacks.PDEPointResampler(period=100)"
   ]
  },
  {
   "cell_type": "code",
   "execution_count": 64,
   "metadata": {},
   "outputs": [
    {
     "name": "stdout",
     "output_type": "stream",
     "text": [
      "Compiling model...\n",
      "Building feed-forward neural network...\n",
      "'build' took 0.121496 s\n",
      "\n"
     ]
    },
    {
     "name": "stderr",
     "output_type": "stream",
     "text": [
      "/Users/arjundosajh/miniconda3/envs/ml/lib/python3.11/site-packages/deepxde/nn/tensorflow_compat_v1/fnn.py:116: UserWarning: `tf.layers.dense` is deprecated and will be removed in a future version. Please use `tf.keras.layers.Dense` instead.\n",
      "  return tf.layers.dense(\n"
     ]
    },
    {
     "name": "stdout",
     "output_type": "stream",
     "text": [
      "'compile' took 0.643678 s\n",
      "\n"
     ]
    }
   ],
   "source": [
    "model = dde.Model(data, net)\n",
    "model.compile(\"adam\", lr=lr, loss_weights=loss_weights)"
   ]
  },
  {
   "cell_type": "code",
   "execution_count": 65,
   "metadata": {},
   "outputs": [
    {
     "name": "stdout",
     "output_type": "stream",
     "text": [
      "Training model...\n",
      "\n",
      "Step      Train loss                                                                                    Test loss                                                                                     Test metric\n",
      "0         [0.00e+00, 0.00e+00, 0.00e+00, 0.00e+00, 0.00e+00, 1.23e-03, 5.95e-03, 1.72e-02, 5.75e+01]    [0.00e+00, 0.00e+00, 0.00e+00, 0.00e+00, 0.00e+00, 1.23e-03, 5.95e-03, 1.72e-02, 5.75e+01]    []  \n",
      "100       [0.00e+00, 3.42e-05, 2.42e-05, 1.58e-05, 8.76e-07, 2.41e-05, 9.53e-06, 2.34e-05, 3.81e-07]    [0.00e+00, 3.42e-05, 2.42e-05, 1.58e-05, 8.76e-07, 2.41e-05, 9.53e-06, 2.34e-05, 3.81e-07]    []  \n",
      "200       [0.00e+00, 4.49e-10, 3.29e-09, 3.55e-11, 1.37e-09, 2.42e-11, 4.57e-10, 1.80e-10, 4.22e-07]    [0.00e+00, 4.49e-10, 3.29e-09, 3.55e-11, 1.37e-09, 2.42e-11, 4.57e-10, 1.80e-10, 4.22e-07]    []  \n",
      "300       [0.00e+00, 9.03e-07, 1.86e-02, 1.79e-03, 6.54e-03, 1.43e-05, 6.31e-07, 1.67e-07, 6.22e-07]    [0.00e+00, 9.03e-07, 1.86e-02, 1.79e-03, 6.54e-03, 1.43e-05, 6.31e-07, 1.67e-07, 6.22e-07]    []  \n",
      "400       [0.00e+00, 2.87e-09, 1.11e-05, 9.43e-07, 1.49e-06, 1.68e-08, 3.19e-09, 9.60e-09, 3.42e-06]    [0.00e+00, 2.87e-09, 1.11e-05, 9.43e-07, 1.49e-06, 1.68e-08, 3.19e-09, 9.60e-09, 3.42e-06]    []  \n",
      "500       [0.00e+00, 2.18e-12, 4.76e-11, 1.36e-11, 3.10e-11, 6.72e-12, 6.09e-11, 1.76e-10, 1.75e-06]    [0.00e+00, 2.18e-12, 4.76e-11, 1.36e-11, 3.10e-11, 6.72e-12, 6.09e-11, 1.76e-10, 1.75e-06]    []  \n",
      "600       [0.00e+00, 8.13e-13, 4.74e-11, 8.43e-13, 7.31e-13, 4.17e-12, 3.74e-11, 5.46e-11, 1.14e-06]    [0.00e+00, 8.13e-13, 4.74e-11, 8.43e-13, 7.31e-13, 4.17e-12, 3.74e-11, 5.46e-11, 1.14e-06]    []  \n",
      "700       [0.00e+00, 1.40e-09, 3.19e-05, 3.23e-06, 4.33e-06, 3.61e-08, 8.10e-09, 1.12e-08, 8.58e-07]    [0.00e+00, 1.40e-09, 3.19e-05, 3.23e-06, 4.33e-06, 3.61e-08, 8.10e-09, 1.12e-08, 8.58e-07]    []  \n",
      "800       [0.00e+00, 5.43e-06, 2.42e-06, 2.22e-08, 1.47e-06, 1.57e-06, 4.43e-08, 9.11e-09, 7.38e-07]    [0.00e+00, 5.43e-06, 2.42e-06, 2.22e-08, 1.47e-06, 1.57e-06, 4.43e-08, 9.11e-09, 7.38e-07]    []  \n",
      "900       [0.00e+00, 6.88e-12, 4.82e-10, 9.20e-11, 1.83e-11, 3.01e-12, 1.35e-11, 1.39e-11, 5.92e-07]    [0.00e+00, 6.88e-12, 4.82e-10, 9.20e-11, 1.83e-11, 3.01e-12, 1.35e-11, 1.39e-11, 5.92e-07]    []  \n",
      "1000      [0.00e+00, 2.00e-13, 7.68e-12, 4.35e-13, 1.39e-13, 2.22e-12, 7.81e-12, 3.20e-12, 4.88e-07]    [0.00e+00, 2.00e-13, 7.68e-12, 4.35e-13, 1.39e-13, 2.22e-12, 7.81e-12, 3.20e-12, 4.88e-07]    []  \n",
      "1100      [0.00e+00, 2.54e-12, 2.36e-11, 9.91e-14, 3.99e-13, 3.75e-14, 8.31e-12, 1.88e-12, 4.13e-07]    [0.00e+00, 2.54e-12, 2.36e-11, 9.91e-14, 3.99e-13, 3.75e-14, 8.31e-12, 1.88e-12, 4.13e-07]    []  \n",
      "1200      [0.00e+00, 3.25e-12, 2.40e-12, 1.38e-12, 2.64e-13, 2.47e-12, 4.26e-12, 1.50e-13, 3.56e-07]    [0.00e+00, 3.25e-12, 2.40e-12, 1.38e-12, 2.64e-13, 2.47e-12, 4.26e-12, 1.50e-13, 3.56e-07]    []  \n",
      "1300      [0.00e+00, 7.68e-11, 3.64e-12, 5.55e-12, 1.63e-12, 2.02e-11, 9.51e-12, 9.09e-13, 3.11e-07]    [0.00e+00, 7.68e-11, 3.64e-12, 5.55e-12, 1.63e-12, 2.02e-11, 9.51e-12, 9.09e-13, 3.11e-07]    []  \n",
      "1400      [0.00e+00, 4.60e-05, 1.00e-04, 8.99e-06, 3.15e-05, 1.36e-05, 5.69e-07, 2.08e-06, 7.75e-06]    [0.00e+00, 4.60e-05, 1.00e-04, 8.99e-06, 3.15e-05, 1.36e-05, 5.69e-07, 2.08e-06, 7.75e-06]    []  \n",
      "1500      [0.00e+00, 4.20e-10, 8.02e-09, 8.05e-10, 3.23e-10, 1.79e-10, 1.00e-10, 1.54e-10, 9.01e-07]    [0.00e+00, 4.20e-10, 8.02e-09, 8.05e-10, 3.23e-10, 1.79e-10, 1.00e-10, 1.54e-10, 9.01e-07]    []  \n",
      "1600      [0.00e+00, 4.93e-03, 1.79e-03, 1.33e-04, 5.13e-03, 3.96e-03, 8.83e-04, 1.46e-02, 2.31e-08]    [0.00e+00, 4.93e-03, 1.79e-03, 1.33e-04, 5.13e-03, 3.96e-03, 8.83e-04, 1.46e-02, 2.31e-08]    []  \n",
      "1700      [0.00e+00, 4.33e-09, 5.59e-08, 1.42e-09, 5.71e-07, 3.50e-09, 1.89e-08, 2.22e-07, 2.31e-09]    [0.00e+00, 4.33e-09, 5.59e-08, 1.42e-09, 5.71e-07, 3.50e-09, 1.89e-08, 2.22e-07, 2.31e-09]    []  \n",
      "1800      [0.00e+00, 2.69e-11, 5.80e-11, 5.13e-12, 6.99e-12, 2.72e-13, 3.22e-12, 2.77e-11, 2.22e-09]    [0.00e+00, 2.69e-11, 5.80e-11, 5.13e-12, 6.99e-12, 2.72e-13, 3.22e-12, 2.77e-11, 2.22e-09]    []  \n",
      "1900      [0.00e+00, 2.57e-10, 3.82e-11, 4.06e-13, 1.25e-12, 1.06e-11, 7.60e-14, 6.96e-13, 2.19e-09]    [0.00e+00, 2.57e-10, 3.82e-11, 4.06e-13, 1.25e-12, 1.06e-11, 7.60e-14, 6.96e-13, 2.19e-09]    []  \n",
      "2000      [0.00e+00, 3.43e-05, 1.26e-06, 3.82e-07, 3.77e-07, 1.61e-06, 1.95e-08, 5.19e-08, 4.89e-10]    [0.00e+00, 3.43e-05, 1.26e-06, 3.82e-07, 3.77e-07, 1.61e-06, 1.95e-08, 5.19e-08, 4.89e-10]    []  \n",
      "2100      [0.00e+00, 1.26e-09, 9.19e-10, 1.03e-10, 7.34e-12, 4.39e-11, 5.44e-12, 6.28e-11, 5.21e-10]    [0.00e+00, 1.26e-09, 9.19e-10, 1.03e-10, 7.34e-12, 4.39e-11, 5.44e-12, 6.28e-11, 5.21e-10]    []  \n",
      "2200      [0.00e+00, 1.05e-04, 1.70e-02, 1.69e-03, 2.28e-03, 7.23e-07, 2.94e-05, 6.21e-04, 5.14e-05]    [0.00e+00, 1.05e-04, 1.70e-02, 1.69e-03, 2.28e-03, 7.23e-07, 2.94e-05, 6.21e-04, 5.14e-05]    []  \n",
      "2300      [0.00e+00, 1.23e-07, 4.15e-10, 3.31e-10, 1.72e-07, 2.27e-08, 7.94e-11, 1.73e-08, 1.48e-07]    [0.00e+00, 1.23e-07, 4.15e-10, 3.31e-10, 1.72e-07, 2.27e-08, 7.94e-11, 1.73e-08, 1.48e-07]    []  \n",
      "2400      [0.00e+00, 2.17e-02, 2.38e-02, 1.16e-03, 4.27e-03, 3.18e-03, 3.62e-05, 7.63e-04, 2.69e-06]    [0.00e+00, 2.17e-02, 2.38e-02, 1.16e-03, 4.27e-03, 3.18e-03, 3.62e-05, 7.63e-04, 2.69e-06]    []  \n",
      "2500      [0.00e+00, 2.10e-08, 2.80e-07, 2.81e-08, 2.91e-07, 3.09e-10, 1.14e-10, 4.97e-09, 9.23e-07]    [0.00e+00, 2.10e-08, 2.80e-07, 2.81e-08, 2.91e-07, 3.09e-10, 1.14e-10, 4.97e-09, 9.23e-07]    []  \n",
      "2600      [0.00e+00, 2.81e-12, 4.05e-12, 2.07e-12, 3.12e-17, 5.89e-13, 1.12e-13, 1.39e-11, 3.44e-07]    [0.00e+00, 2.81e-12, 4.05e-12, 2.07e-12, 3.12e-17, 5.89e-13, 1.12e-13, 1.39e-11, 3.44e-07]    []  \n",
      "2700      [0.00e+00, 9.53e-13, 2.72e-13, 6.30e-13, 1.85e-12, 2.81e-14, 2.22e-14, 2.22e-12, 1.98e-07]    [0.00e+00, 9.53e-13, 2.72e-13, 6.30e-13, 1.85e-12, 2.81e-14, 2.22e-14, 2.22e-12, 1.98e-07]    []  \n",
      "2800      [0.00e+00, 3.72e-12, 9.70e-10, 8.08e-11, 8.15e-10, 8.68e-12, 4.70e-13, 4.23e-12, 1.33e-07]    [0.00e+00, 3.72e-12, 9.70e-10, 8.08e-11, 8.15e-10, 8.68e-12, 4.70e-13, 4.23e-12, 1.33e-07]    []  \n",
      "2900      [0.00e+00, 8.92e-07, 3.04e-05, 2.70e-06, 1.10e-06, 1.41e-12, 2.54e-07, 5.53e-06, 1.23e-06]    [0.00e+00, 8.92e-07, 3.04e-05, 2.70e-06, 1.10e-06, 1.41e-12, 2.54e-07, 5.53e-06, 1.23e-06]    []  \n",
      "3000      [0.00e+00, 1.70e-10, 1.66e-10, 4.51e-12, 1.53e-10, 3.81e-11, 8.67e-13, 1.96e-11, 3.69e-07]    [0.00e+00, 1.70e-10, 1.66e-10, 4.51e-12, 1.53e-10, 3.81e-11, 8.67e-13, 1.96e-11, 3.69e-07]    []  \n",
      "3100      [0.00e+00, 1.99e-04, 1.03e-03, 3.27e-05, 2.28e-03, 1.01e-05, 1.84e-04, 3.02e-03, 4.34e-04]    [0.00e+00, 1.99e-04, 1.03e-03, 3.27e-05, 2.28e-03, 1.01e-05, 1.84e-04, 3.02e-03, 4.34e-04]    []  \n",
      "3200      [0.00e+00, 6.98e-05, 1.28e-06, 6.27e-07, 9.99e-08, 1.38e-05, 2.69e-07, 1.15e-06, 5.71e-07]    [0.00e+00, 6.98e-05, 1.28e-06, 6.27e-07, 9.99e-08, 1.38e-05, 2.69e-07, 1.15e-06, 5.71e-07]    []  \n",
      "3300      [0.00e+00, 2.78e-07, 4.97e-09, 2.65e-09, 3.20e-09, 5.71e-08, 1.06e-09, 4.84e-09, 3.88e-07]    [0.00e+00, 2.78e-07, 4.97e-09, 2.65e-09, 3.20e-09, 5.71e-08, 1.06e-09, 4.84e-09, 3.88e-07]    []  \n",
      "3400      [0.00e+00, 7.27e-06, 1.84e-07, 7.53e-08, 4.40e-08, 1.51e-06, 3.24e-08, 1.64e-07, 2.40e-07]    [0.00e+00, 7.27e-06, 1.84e-07, 7.53e-08, 4.40e-08, 1.51e-06, 3.24e-08, 1.64e-07, 2.40e-07]    []  \n",
      "3500      [0.00e+00, 3.52e-07, 1.70e-06, 1.86e-07, 6.20e-11, 9.22e-09, 8.75e-08, 2.13e-06, 1.11e-06]    [0.00e+00, 3.52e-07, 1.70e-06, 1.86e-07, 6.20e-11, 9.22e-09, 8.75e-08, 2.13e-06, 1.11e-06]    []  \n",
      "3600      [0.00e+00, 1.85e-10, 1.26e-10, 4.60e-12, 1.87e-11, 4.63e-11, 4.35e-12, 7.44e-11, 3.71e-07]    [0.00e+00, 1.85e-10, 1.26e-10, 4.60e-12, 1.87e-11, 4.63e-11, 4.35e-12, 7.44e-11, 3.71e-07]    []  \n",
      "3700      [0.00e+00, 1.04e+00, 1.13e+00, 1.23e-01, 1.33e-01, 9.84e-04, 1.66e-02, 2.57e-02, 1.59e+00]    [0.00e+00, 1.04e+00, 1.13e+00, 1.23e-01, 1.33e-01, 9.84e-04, 1.66e-02, 2.57e-02, 1.59e+00]    []  \n"
     ]
    },
    {
     "ename": "KeyboardInterrupt",
     "evalue": "",
     "output_type": "error",
     "traceback": [
      "\u001b[0;31m---------------------------------------------------------------------------\u001b[0m",
      "\u001b[0;31mKeyboardInterrupt\u001b[0m                         Traceback (most recent call last)",
      "Cell \u001b[0;32mIn[65], line 1\u001b[0m\n\u001b[0;32m----> 1\u001b[0m losshistory, train_state \u001b[38;5;241m=\u001b[39m \u001b[43mmodel\u001b[49m\u001b[38;5;241;43m.\u001b[39;49m\u001b[43mtrain\u001b[49m\u001b[43m(\u001b[49m\u001b[43mdisplay_every\u001b[49m\u001b[38;5;241;43m=\u001b[39;49m\u001b[38;5;241;43m100\u001b[39;49m\u001b[43m,\u001b[49m\u001b[43m \u001b[49m\u001b[43miterations\u001b[49m\u001b[38;5;241;43m=\u001b[39;49m\u001b[43mn_adam\u001b[49m\u001b[43m,\u001b[49m\u001b[43m \u001b[49m\u001b[43mcallbacks\u001b[49m\u001b[38;5;241;43m=\u001b[39;49m\u001b[43m[\u001b[49m\u001b[43mresampler\u001b[49m\u001b[43m]\u001b[49m\u001b[43m)\u001b[49m\n",
      "File \u001b[0;32m~/miniconda3/envs/ml/lib/python3.11/site-packages/deepxde/utils/internal.py:22\u001b[0m, in \u001b[0;36mtiming.<locals>.wrapper\u001b[0;34m(*args, **kwargs)\u001b[0m\n\u001b[1;32m     19\u001b[0m \u001b[38;5;129m@wraps\u001b[39m(f)\n\u001b[1;32m     20\u001b[0m \u001b[38;5;28;01mdef\u001b[39;00m \u001b[38;5;21mwrapper\u001b[39m(\u001b[38;5;241m*\u001b[39margs, \u001b[38;5;241m*\u001b[39m\u001b[38;5;241m*\u001b[39mkwargs):\n\u001b[1;32m     21\u001b[0m     ts \u001b[38;5;241m=\u001b[39m timeit\u001b[38;5;241m.\u001b[39mdefault_timer()\n\u001b[0;32m---> 22\u001b[0m     result \u001b[38;5;241m=\u001b[39m \u001b[43mf\u001b[49m\u001b[43m(\u001b[49m\u001b[38;5;241;43m*\u001b[39;49m\u001b[43margs\u001b[49m\u001b[43m,\u001b[49m\u001b[43m \u001b[49m\u001b[38;5;241;43m*\u001b[39;49m\u001b[38;5;241;43m*\u001b[39;49m\u001b[43mkwargs\u001b[49m\u001b[43m)\u001b[49m\n\u001b[1;32m     23\u001b[0m     te \u001b[38;5;241m=\u001b[39m timeit\u001b[38;5;241m.\u001b[39mdefault_timer()\n\u001b[1;32m     24\u001b[0m     \u001b[38;5;28;01mif\u001b[39;00m config\u001b[38;5;241m.\u001b[39mrank \u001b[38;5;241m==\u001b[39m \u001b[38;5;241m0\u001b[39m:\n",
      "File \u001b[0;32m~/miniconda3/envs/ml/lib/python3.11/site-packages/deepxde/model.py:645\u001b[0m, in \u001b[0;36mModel.train\u001b[0;34m(self, iterations, batch_size, display_every, disregard_previous_best, callbacks, model_restore_path, model_save_path, epochs)\u001b[0m\n\u001b[1;32m    643\u001b[0m     \u001b[38;5;28;01mif\u001b[39;00m iterations \u001b[38;5;129;01mis\u001b[39;00m \u001b[38;5;28;01mNone\u001b[39;00m:\n\u001b[1;32m    644\u001b[0m         \u001b[38;5;28;01mraise\u001b[39;00m \u001b[38;5;167;01mValueError\u001b[39;00m(\u001b[38;5;124m\"\u001b[39m\u001b[38;5;124mNo iterations for \u001b[39m\u001b[38;5;132;01m{}\u001b[39;00m\u001b[38;5;124m.\u001b[39m\u001b[38;5;124m\"\u001b[39m\u001b[38;5;241m.\u001b[39mformat(\u001b[38;5;28mself\u001b[39m\u001b[38;5;241m.\u001b[39mopt_name))\n\u001b[0;32m--> 645\u001b[0m     \u001b[38;5;28;43mself\u001b[39;49m\u001b[38;5;241;43m.\u001b[39;49m\u001b[43m_train_sgd\u001b[49m\u001b[43m(\u001b[49m\u001b[43miterations\u001b[49m\u001b[43m,\u001b[49m\u001b[43m \u001b[49m\u001b[43mdisplay_every\u001b[49m\u001b[43m)\u001b[49m\n\u001b[1;32m    646\u001b[0m \u001b[38;5;28mself\u001b[39m\u001b[38;5;241m.\u001b[39mcallbacks\u001b[38;5;241m.\u001b[39mon_train_end()\n\u001b[1;32m    648\u001b[0m \u001b[38;5;28;01mif\u001b[39;00m config\u001b[38;5;241m.\u001b[39mrank \u001b[38;5;241m==\u001b[39m \u001b[38;5;241m0\u001b[39m:\n",
      "File \u001b[0;32m~/miniconda3/envs/ml/lib/python3.11/site-packages/deepxde/model.py:663\u001b[0m, in \u001b[0;36mModel._train_sgd\u001b[0;34m(self, iterations, display_every)\u001b[0m\n\u001b[1;32m    658\u001b[0m \u001b[38;5;28mself\u001b[39m\u001b[38;5;241m.\u001b[39mcallbacks\u001b[38;5;241m.\u001b[39mon_batch_begin()\n\u001b[1;32m    660\u001b[0m \u001b[38;5;28mself\u001b[39m\u001b[38;5;241m.\u001b[39mtrain_state\u001b[38;5;241m.\u001b[39mset_data_train(\n\u001b[1;32m    661\u001b[0m     \u001b[38;5;241m*\u001b[39m\u001b[38;5;28mself\u001b[39m\u001b[38;5;241m.\u001b[39mdata\u001b[38;5;241m.\u001b[39mtrain_next_batch(\u001b[38;5;28mself\u001b[39m\u001b[38;5;241m.\u001b[39mbatch_size)\n\u001b[1;32m    662\u001b[0m )\n\u001b[0;32m--> 663\u001b[0m \u001b[38;5;28;43mself\u001b[39;49m\u001b[38;5;241;43m.\u001b[39;49m\u001b[43m_train_step\u001b[49m\u001b[43m(\u001b[49m\n\u001b[1;32m    664\u001b[0m \u001b[43m    \u001b[49m\u001b[38;5;28;43mself\u001b[39;49m\u001b[38;5;241;43m.\u001b[39;49m\u001b[43mtrain_state\u001b[49m\u001b[38;5;241;43m.\u001b[39;49m\u001b[43mX_train\u001b[49m\u001b[43m,\u001b[49m\n\u001b[1;32m    665\u001b[0m \u001b[43m    \u001b[49m\u001b[38;5;28;43mself\u001b[39;49m\u001b[38;5;241;43m.\u001b[39;49m\u001b[43mtrain_state\u001b[49m\u001b[38;5;241;43m.\u001b[39;49m\u001b[43my_train\u001b[49m\u001b[43m,\u001b[49m\n\u001b[1;32m    666\u001b[0m \u001b[43m    \u001b[49m\u001b[38;5;28;43mself\u001b[39;49m\u001b[38;5;241;43m.\u001b[39;49m\u001b[43mtrain_state\u001b[49m\u001b[38;5;241;43m.\u001b[39;49m\u001b[43mtrain_aux_vars\u001b[49m\u001b[43m,\u001b[49m\n\u001b[1;32m    667\u001b[0m \u001b[43m\u001b[49m\u001b[43m)\u001b[49m\n\u001b[1;32m    669\u001b[0m \u001b[38;5;28mself\u001b[39m\u001b[38;5;241m.\u001b[39mtrain_state\u001b[38;5;241m.\u001b[39mepoch \u001b[38;5;241m+\u001b[39m\u001b[38;5;241m=\u001b[39m \u001b[38;5;241m1\u001b[39m\n\u001b[1;32m    670\u001b[0m \u001b[38;5;28mself\u001b[39m\u001b[38;5;241m.\u001b[39mtrain_state\u001b[38;5;241m.\u001b[39mstep \u001b[38;5;241m+\u001b[39m\u001b[38;5;241m=\u001b[39m \u001b[38;5;241m1\u001b[39m\n",
      "File \u001b[0;32m~/miniconda3/envs/ml/lib/python3.11/site-packages/deepxde/model.py:553\u001b[0m, in \u001b[0;36mModel._train_step\u001b[0;34m(self, inputs, targets, auxiliary_vars)\u001b[0m\n\u001b[1;32m    551\u001b[0m \u001b[38;5;28;01mif\u001b[39;00m backend_name \u001b[38;5;241m==\u001b[39m \u001b[38;5;124m\"\u001b[39m\u001b[38;5;124mtensorflow.compat.v1\u001b[39m\u001b[38;5;124m\"\u001b[39m:\n\u001b[1;32m    552\u001b[0m     feed_dict \u001b[38;5;241m=\u001b[39m \u001b[38;5;28mself\u001b[39m\u001b[38;5;241m.\u001b[39mnet\u001b[38;5;241m.\u001b[39mfeed_dict(\u001b[38;5;28;01mTrue\u001b[39;00m, inputs, targets, auxiliary_vars)\n\u001b[0;32m--> 553\u001b[0m     \u001b[38;5;28;43mself\u001b[39;49m\u001b[38;5;241;43m.\u001b[39;49m\u001b[43msess\u001b[49m\u001b[38;5;241;43m.\u001b[39;49m\u001b[43mrun\u001b[49m\u001b[43m(\u001b[49m\u001b[38;5;28;43mself\u001b[39;49m\u001b[38;5;241;43m.\u001b[39;49m\u001b[43mtrain_step\u001b[49m\u001b[43m,\u001b[49m\u001b[43m \u001b[49m\u001b[43mfeed_dict\u001b[49m\u001b[38;5;241;43m=\u001b[39;49m\u001b[43mfeed_dict\u001b[49m\u001b[43m)\u001b[49m\n\u001b[1;32m    554\u001b[0m \u001b[38;5;28;01melif\u001b[39;00m backend_name \u001b[38;5;129;01min\u001b[39;00m [\u001b[38;5;124m\"\u001b[39m\u001b[38;5;124mtensorflow\u001b[39m\u001b[38;5;124m\"\u001b[39m, \u001b[38;5;124m\"\u001b[39m\u001b[38;5;124mpaddle\u001b[39m\u001b[38;5;124m\"\u001b[39m]:\n\u001b[1;32m    555\u001b[0m     \u001b[38;5;28mself\u001b[39m\u001b[38;5;241m.\u001b[39mtrain_step(inputs, targets, auxiliary_vars)\n",
      "File \u001b[0;32m~/miniconda3/envs/ml/lib/python3.11/site-packages/tensorflow/python/client/session.py:972\u001b[0m, in \u001b[0;36mBaseSession.run\u001b[0;34m(self, fetches, feed_dict, options, run_metadata)\u001b[0m\n\u001b[1;32m    969\u001b[0m run_metadata_ptr \u001b[38;5;241m=\u001b[39m tf_session\u001b[38;5;241m.\u001b[39mTF_NewBuffer() \u001b[38;5;28;01mif\u001b[39;00m run_metadata \u001b[38;5;28;01melse\u001b[39;00m \u001b[38;5;28;01mNone\u001b[39;00m\n\u001b[1;32m    971\u001b[0m \u001b[38;5;28;01mtry\u001b[39;00m:\n\u001b[0;32m--> 972\u001b[0m   result \u001b[38;5;241m=\u001b[39m \u001b[38;5;28;43mself\u001b[39;49m\u001b[38;5;241;43m.\u001b[39;49m\u001b[43m_run\u001b[49m\u001b[43m(\u001b[49m\u001b[38;5;28;43;01mNone\u001b[39;49;00m\u001b[43m,\u001b[49m\u001b[43m \u001b[49m\u001b[43mfetches\u001b[49m\u001b[43m,\u001b[49m\u001b[43m \u001b[49m\u001b[43mfeed_dict\u001b[49m\u001b[43m,\u001b[49m\u001b[43m \u001b[49m\u001b[43moptions_ptr\u001b[49m\u001b[43m,\u001b[49m\n\u001b[1;32m    973\u001b[0m \u001b[43m                     \u001b[49m\u001b[43mrun_metadata_ptr\u001b[49m\u001b[43m)\u001b[49m\n\u001b[1;32m    974\u001b[0m   \u001b[38;5;28;01mif\u001b[39;00m run_metadata:\n\u001b[1;32m    975\u001b[0m     proto_data \u001b[38;5;241m=\u001b[39m tf_session\u001b[38;5;241m.\u001b[39mTF_GetBuffer(run_metadata_ptr)\n",
      "File \u001b[0;32m~/miniconda3/envs/ml/lib/python3.11/site-packages/tensorflow/python/client/session.py:1215\u001b[0m, in \u001b[0;36mBaseSession._run\u001b[0;34m(self, handle, fetches, feed_dict, options, run_metadata)\u001b[0m\n\u001b[1;32m   1212\u001b[0m \u001b[38;5;66;03m# We only want to really perform the run if fetches or targets are provided,\u001b[39;00m\n\u001b[1;32m   1213\u001b[0m \u001b[38;5;66;03m# or if the call is a partial run that specifies feeds.\u001b[39;00m\n\u001b[1;32m   1214\u001b[0m \u001b[38;5;28;01mif\u001b[39;00m final_fetches \u001b[38;5;129;01mor\u001b[39;00m final_targets \u001b[38;5;129;01mor\u001b[39;00m (handle \u001b[38;5;129;01mand\u001b[39;00m feed_dict_tensor):\n\u001b[0;32m-> 1215\u001b[0m   results \u001b[38;5;241m=\u001b[39m \u001b[38;5;28;43mself\u001b[39;49m\u001b[38;5;241;43m.\u001b[39;49m\u001b[43m_do_run\u001b[49m\u001b[43m(\u001b[49m\u001b[43mhandle\u001b[49m\u001b[43m,\u001b[49m\u001b[43m \u001b[49m\u001b[43mfinal_targets\u001b[49m\u001b[43m,\u001b[49m\u001b[43m \u001b[49m\u001b[43mfinal_fetches\u001b[49m\u001b[43m,\u001b[49m\n\u001b[1;32m   1216\u001b[0m \u001b[43m                         \u001b[49m\u001b[43mfeed_dict_tensor\u001b[49m\u001b[43m,\u001b[49m\u001b[43m \u001b[49m\u001b[43moptions\u001b[49m\u001b[43m,\u001b[49m\u001b[43m \u001b[49m\u001b[43mrun_metadata\u001b[49m\u001b[43m)\u001b[49m\n\u001b[1;32m   1217\u001b[0m \u001b[38;5;28;01melse\u001b[39;00m:\n\u001b[1;32m   1218\u001b[0m   results \u001b[38;5;241m=\u001b[39m []\n",
      "File \u001b[0;32m~/miniconda3/envs/ml/lib/python3.11/site-packages/tensorflow/python/client/session.py:1395\u001b[0m, in \u001b[0;36mBaseSession._do_run\u001b[0;34m(self, handle, target_list, fetch_list, feed_dict, options, run_metadata)\u001b[0m\n\u001b[1;32m   1392\u001b[0m   \u001b[38;5;28;01mreturn\u001b[39;00m \u001b[38;5;28mself\u001b[39m\u001b[38;5;241m.\u001b[39m_call_tf_sessionprun(handle, feed_dict, fetch_list)\n\u001b[1;32m   1394\u001b[0m \u001b[38;5;28;01mif\u001b[39;00m handle \u001b[38;5;129;01mis\u001b[39;00m \u001b[38;5;28;01mNone\u001b[39;00m:\n\u001b[0;32m-> 1395\u001b[0m   \u001b[38;5;28;01mreturn\u001b[39;00m \u001b[38;5;28;43mself\u001b[39;49m\u001b[38;5;241;43m.\u001b[39;49m\u001b[43m_do_call\u001b[49m\u001b[43m(\u001b[49m\u001b[43m_run_fn\u001b[49m\u001b[43m,\u001b[49m\u001b[43m \u001b[49m\u001b[43mfeeds\u001b[49m\u001b[43m,\u001b[49m\u001b[43m \u001b[49m\u001b[43mfetches\u001b[49m\u001b[43m,\u001b[49m\u001b[43m \u001b[49m\u001b[43mtargets\u001b[49m\u001b[43m,\u001b[49m\u001b[43m \u001b[49m\u001b[43moptions\u001b[49m\u001b[43m,\u001b[49m\n\u001b[1;32m   1396\u001b[0m \u001b[43m                       \u001b[49m\u001b[43mrun_metadata\u001b[49m\u001b[43m)\u001b[49m\n\u001b[1;32m   1397\u001b[0m \u001b[38;5;28;01melse\u001b[39;00m:\n\u001b[1;32m   1398\u001b[0m   \u001b[38;5;28;01mreturn\u001b[39;00m \u001b[38;5;28mself\u001b[39m\u001b[38;5;241m.\u001b[39m_do_call(_prun_fn, handle, feeds, fetches)\n",
      "File \u001b[0;32m~/miniconda3/envs/ml/lib/python3.11/site-packages/tensorflow/python/client/session.py:1402\u001b[0m, in \u001b[0;36mBaseSession._do_call\u001b[0;34m(self, fn, *args)\u001b[0m\n\u001b[1;32m   1400\u001b[0m \u001b[38;5;28;01mdef\u001b[39;00m \u001b[38;5;21m_do_call\u001b[39m(\u001b[38;5;28mself\u001b[39m, fn, \u001b[38;5;241m*\u001b[39margs):\n\u001b[1;32m   1401\u001b[0m   \u001b[38;5;28;01mtry\u001b[39;00m:\n\u001b[0;32m-> 1402\u001b[0m     \u001b[38;5;28;01mreturn\u001b[39;00m \u001b[43mfn\u001b[49m\u001b[43m(\u001b[49m\u001b[38;5;241;43m*\u001b[39;49m\u001b[43margs\u001b[49m\u001b[43m)\u001b[49m\n\u001b[1;32m   1403\u001b[0m   \u001b[38;5;28;01mexcept\u001b[39;00m errors\u001b[38;5;241m.\u001b[39mOpError \u001b[38;5;28;01mas\u001b[39;00m e:\n\u001b[1;32m   1404\u001b[0m     message \u001b[38;5;241m=\u001b[39m compat\u001b[38;5;241m.\u001b[39mas_text(e\u001b[38;5;241m.\u001b[39mmessage)\n",
      "File \u001b[0;32m~/miniconda3/envs/ml/lib/python3.11/site-packages/tensorflow/python/client/session.py:1385\u001b[0m, in \u001b[0;36mBaseSession._do_run.<locals>._run_fn\u001b[0;34m(feed_dict, fetch_list, target_list, options, run_metadata)\u001b[0m\n\u001b[1;32m   1382\u001b[0m \u001b[38;5;28;01mdef\u001b[39;00m \u001b[38;5;21m_run_fn\u001b[39m(feed_dict, fetch_list, target_list, options, run_metadata):\n\u001b[1;32m   1383\u001b[0m   \u001b[38;5;66;03m# Ensure any changes to the graph are reflected in the runtime.\u001b[39;00m\n\u001b[1;32m   1384\u001b[0m   \u001b[38;5;28mself\u001b[39m\u001b[38;5;241m.\u001b[39m_extend_graph()\n\u001b[0;32m-> 1385\u001b[0m   \u001b[38;5;28;01mreturn\u001b[39;00m \u001b[38;5;28;43mself\u001b[39;49m\u001b[38;5;241;43m.\u001b[39;49m\u001b[43m_call_tf_sessionrun\u001b[49m\u001b[43m(\u001b[49m\u001b[43moptions\u001b[49m\u001b[43m,\u001b[49m\u001b[43m \u001b[49m\u001b[43mfeed_dict\u001b[49m\u001b[43m,\u001b[49m\u001b[43m \u001b[49m\u001b[43mfetch_list\u001b[49m\u001b[43m,\u001b[49m\n\u001b[1;32m   1386\u001b[0m \u001b[43m                                  \u001b[49m\u001b[43mtarget_list\u001b[49m\u001b[43m,\u001b[49m\u001b[43m \u001b[49m\u001b[43mrun_metadata\u001b[49m\u001b[43m)\u001b[49m\n",
      "File \u001b[0;32m~/miniconda3/envs/ml/lib/python3.11/site-packages/tensorflow/python/client/session.py:1478\u001b[0m, in \u001b[0;36mBaseSession._call_tf_sessionrun\u001b[0;34m(self, options, feed_dict, fetch_list, target_list, run_metadata)\u001b[0m\n\u001b[1;32m   1476\u001b[0m \u001b[38;5;28;01mdef\u001b[39;00m \u001b[38;5;21m_call_tf_sessionrun\u001b[39m(\u001b[38;5;28mself\u001b[39m, options, feed_dict, fetch_list, target_list,\n\u001b[1;32m   1477\u001b[0m                         run_metadata):\n\u001b[0;32m-> 1478\u001b[0m   \u001b[38;5;28;01mreturn\u001b[39;00m \u001b[43mtf_session\u001b[49m\u001b[38;5;241;43m.\u001b[39;49m\u001b[43mTF_SessionRun_wrapper\u001b[49m\u001b[43m(\u001b[49m\u001b[38;5;28;43mself\u001b[39;49m\u001b[38;5;241;43m.\u001b[39;49m\u001b[43m_session\u001b[49m\u001b[43m,\u001b[49m\u001b[43m \u001b[49m\u001b[43moptions\u001b[49m\u001b[43m,\u001b[49m\u001b[43m \u001b[49m\u001b[43mfeed_dict\u001b[49m\u001b[43m,\u001b[49m\n\u001b[1;32m   1479\u001b[0m \u001b[43m                                          \u001b[49m\u001b[43mfetch_list\u001b[49m\u001b[43m,\u001b[49m\u001b[43m \u001b[49m\u001b[43mtarget_list\u001b[49m\u001b[43m,\u001b[49m\n\u001b[1;32m   1480\u001b[0m \u001b[43m                                          \u001b[49m\u001b[43mrun_metadata\u001b[49m\u001b[43m)\u001b[49m\n",
      "\u001b[0;31mKeyboardInterrupt\u001b[0m: "
     ]
    }
   ],
   "source": [
    "losshistory, train_state = model.train(display_every=100, iterations=n_adam, callbacks=[resampler])"
   ]
  }
 ],
 "metadata": {
  "kernelspec": {
   "display_name": "ml",
   "language": "python",
   "name": "python3"
  },
  "language_info": {
   "codemirror_mode": {
    "name": "ipython",
    "version": 3
   },
   "file_extension": ".py",
   "mimetype": "text/x-python",
   "name": "python",
   "nbconvert_exporter": "python",
   "pygments_lexer": "ipython3",
   "version": "3.11.7"
  }
 },
 "nbformat": 4,
 "nbformat_minor": 2
}
